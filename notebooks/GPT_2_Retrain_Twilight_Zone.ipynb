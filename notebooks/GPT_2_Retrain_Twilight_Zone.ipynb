{
  "nbformat": 4,
  "nbformat_minor": 0,
  "metadata": {
    "colab": {
      "name": "GPT-2 Retrain - Twilight Zone",
      "provenance": [],
      "collapsed_sections": [],
      "include_colab_link": true
    },
    "kernelspec": {
      "name": "python3",
      "display_name": "Python 3"
    },
    "accelerator": "GPU"
  },
  "cells": [
    {
      "cell_type": "markdown",
      "metadata": {
        "id": "view-in-github",
        "colab_type": "text"
      },
      "source": [
        "<a href=\"https://colab.research.google.com/github/TD1138/GPT2---Twilight-Zone-Narrations/blob/main/notebooks/GPT_2_Retrain_Twilight_Zone.ipynb\" target=\"_parent\"><img src=\"https://colab.research.google.com/assets/colab-badge.svg\" alt=\"Open In Colab\"/></a>"
      ]
    },
    {
      "cell_type": "markdown",
      "metadata": {
        "id": "H7LoMj4GA4n_"
      },
      "source": [
        "#  Retraining GPT-2 to output Twilight Zone Narrations!\n",
        "\n",
        "by Tom Devine\n",
        "\n",
        "\n",
        "The Twilight Zone is one of my favourite shows!\n",
        "\n",
        "Created by Rod Serling, this 1950s show was groundbreaking for it's era, mixing science fiction and fantasy with tales of morality - going on to influence thousands of creators since - recent shows such as Black Mirror owe a huge debt to this anthology show!\n",
        "\n",
        "Rod Serling, alongside show-running and plot duties, narrated each episode, providing an introduction to each story, as well as a closing narration, often highlighting the moral aspect of the story.\n",
        "\n",
        "It is these narrations that I'll be retraining GPT-2 to output!"
      ]
    },
    {
      "cell_type": "markdown",
      "metadata": {
        "id": "4lbsGk1qERaj"
      },
      "source": [
        "# Text Pre-processing"
      ]
    },
    {
      "cell_type": "markdown",
      "metadata": {
        "id": "Kl-xOMPVDh5d"
      },
      "source": [
        "Originally I was going to scrape these narrations from Wikipedia, but I managed to obtain a copy of them from an angelfire website!\r\n",
        "https://www.angelfire.com/fl/twilightzonelist/openingnarrations.html\r\n",
        "\r\n",
        "Let's import the dataset:"
      ]
    },
    {
      "cell_type": "code",
      "metadata": {
        "id": "2g_jupiiC7dG"
      },
      "source": [
        ""
      ],
      "execution_count": null,
      "outputs": []
    },
    {
      "cell_type": "code",
      "metadata": {
        "id": "KBkpRgBCBS2_",
        "colab": {
          "base_uri": "https://localhost:8080/"
        },
        "outputId": "9316cd8f-f66f-4e3b-b956-29b3fd04d1bd"
      },
      "source": [
        "%tensorflow_version 1.x\n",
        "!pip install -q gpt-2-simple\n",
        "import gpt_2_simple as gpt2\n",
        "from datetime import datetime\n",
        "from google.colab import files"
      ],
      "execution_count": 1,
      "outputs": [
        {
          "output_type": "stream",
          "text": [
            "TensorFlow 1.x selected.\n",
            "  Building wheel for gpt-2-simple (setup.py) ... \u001b[?25l\u001b[?25hdone\n",
            "WARNING:tensorflow:\n",
            "The TensorFlow contrib module will not be included in TensorFlow 2.0.\n",
            "For more information, please see:\n",
            "  * https://github.com/tensorflow/community/blob/master/rfcs/20180907-contrib-sunset.md\n",
            "  * https://github.com/tensorflow/addons\n",
            "  * https://github.com/tensorflow/io (for I/O related ops)\n",
            "If you depend on functionality not listed there, please file an issue.\n",
            "\n"
          ],
          "name": "stdout"
        }
      ]
    },
    {
      "cell_type": "markdown",
      "metadata": {
        "id": "Bj2IJLHP3KwE"
      },
      "source": [
        "## GPU\n",
        "\n",
        "Colaboratory uses either a Nvidia T4 GPU or an Nvidia K80 GPU. The T4 is slightly faster than the old K80 for training GPT-2, and has more memory allowing you to train the larger GPT-2 models and generate more text.\n",
        "\n",
        "You can verify which GPU is active by running the cell below."
      ]
    },
    {
      "cell_type": "code",
      "metadata": {
        "id": "sUmTooTW3osf",
        "colab": {
          "base_uri": "https://localhost:8080/"
        },
        "outputId": "b7a1858f-6630-47cf-a07d-344e0b6b1822"
      },
      "source": [
        "!nvidia-smi"
      ],
      "execution_count": 2,
      "outputs": [
        {
          "output_type": "stream",
          "text": [
            "Thu Jan  7 16:45:00 2021       \n",
            "+-----------------------------------------------------------------------------+\n",
            "| NVIDIA-SMI 460.27.04    Driver Version: 418.67       CUDA Version: 10.1     |\n",
            "|-------------------------------+----------------------+----------------------+\n",
            "| GPU  Name        Persistence-M| Bus-Id        Disp.A | Volatile Uncorr. ECC |\n",
            "| Fan  Temp  Perf  Pwr:Usage/Cap|         Memory-Usage | GPU-Util  Compute M. |\n",
            "|                               |                      |               MIG M. |\n",
            "|===============================+======================+======================|\n",
            "|   0  Tesla T4            Off  | 00000000:00:04.0 Off |                    0 |\n",
            "| N/A   66C    P8    10W /  70W |      0MiB / 15079MiB |      0%      Default |\n",
            "|                               |                      |                 ERR! |\n",
            "+-------------------------------+----------------------+----------------------+\n",
            "                                                                               \n",
            "+-----------------------------------------------------------------------------+\n",
            "| Processes:                                                                  |\n",
            "|  GPU   GI   CI        PID   Type   Process name                  GPU Memory |\n",
            "|        ID   ID                                                   Usage      |\n",
            "|=============================================================================|\n",
            "|  No running processes found                                                 |\n",
            "+-----------------------------------------------------------------------------+\n"
          ],
          "name": "stdout"
        }
      ]
    },
    {
      "cell_type": "markdown",
      "metadata": {
        "id": "0wXB05bPDYxS"
      },
      "source": [
        "## Downloading GPT-2\n",
        "\n",
        "If you're retraining a model on new text, you need to download the GPT-2 model first. \n",
        "\n",
        "There are three released sizes of GPT-2:\n",
        "\n",
        "* `124M` (default): the \"small\" model, 500MB on disk.\n",
        "* `355M`: the \"medium\" model, 1.5GB on disk.\n",
        "* `774M`: the \"large\" model, cannot currently be finetuned with Colaboratory but can be used to generate text from the pretrained model (see later in Notebook)\n",
        "* `1558M`: the \"extra large\", true model. Will not work if a K80 GPU is attached to the notebook. (like `774M`, it cannot be finetuned).\n",
        "\n",
        "Larger models have more knowledge, but take longer to finetune and longer to generate text. You can specify which base model to use by changing `model_name` in the cells below.\n",
        "\n",
        "The next cell downloads it from Google Cloud Storage and saves it in the Colaboratory VM at `/models/<model_name>`.\n",
        "\n",
        "This model isn't permanently saved in the Colaboratory VM; you'll have to redownload it if you want to retrain it at a later time."
      ]
    },
    {
      "cell_type": "code",
      "metadata": {
        "id": "CmJV96gXwdSx"
      },
      "source": [
        "model_version = '355M'"
      ],
      "execution_count": 9,
      "outputs": []
    },
    {
      "cell_type": "code",
      "metadata": {
        "id": "P8wSlgXoDPCR",
        "colab": {
          "base_uri": "https://localhost:8080/"
        },
        "outputId": "3ece1491-928e-4847-f49b-f699f21a5712"
      },
      "source": [
        "gpt2.download_gpt2(model_name=model_version)"
      ],
      "execution_count": 10,
      "outputs": [
        {
          "output_type": "stream",
          "text": [
            "Fetching checkpoint: 1.05Mit [00:00, 686Mit/s]                                                      \n",
            "Fetching encoder.json: 1.05Mit [00:00, 112Mit/s]                                                    \n",
            "Fetching hparams.json: 1.05Mit [00:00, 800Mit/s]                                                    \n",
            "Fetching model.ckpt.data-00000-of-00001: 1.42Git [00:07, 193Mit/s]                                  \n",
            "Fetching model.ckpt.index: 1.05Mit [00:00, 348Mit/s]                                                \n",
            "Fetching model.ckpt.meta: 1.05Mit [00:00, 117Mit/s]                                                 \n",
            "Fetching vocab.bpe: 1.05Mit [00:00, 251Mit/s]                                                       \n"
          ],
          "name": "stderr"
        }
      ]
    },
    {
      "cell_type": "markdown",
      "metadata": {
        "id": "N8KXuKWzQSsN"
      },
      "source": [
        "## Mounting Google Drive\n",
        "\n",
        "The best way to get input text to-be-trained into the Colaboratory VM, and to get the trained model *out* of Colaboratory, is to route it through Google Drive *first*.\n",
        "\n",
        "Running this cell (which will only work in Colaboratory) will mount your personal Google Drive in the VM, which later cells can use to get data in/out. (it will ask for an auth code; that auth is not saved anywhere)"
      ]
    },
    {
      "cell_type": "code",
      "metadata": {
        "id": "puq4iC6vUAHc",
        "colab": {
          "base_uri": "https://localhost:8080/"
        },
        "outputId": "a638ae06-22eb-47b6-f47e-b363f75588a1"
      },
      "source": [
        "gpt2.mount_gdrive()"
      ],
      "execution_count": 4,
      "outputs": [
        {
          "output_type": "stream",
          "text": [
            "Mounted at /content/drive\n"
          ],
          "name": "stdout"
        }
      ]
    },
    {
      "cell_type": "markdown",
      "metadata": {
        "id": "BT__brhBCvJu"
      },
      "source": [
        "## Uploading a Text File to be Trained to Colaboratory\n",
        "\n",
        "In the Colaboratory Notebook sidebar on the left of the screen, select *Files*. From there you can upload files:\n",
        "\n",
        "![alt text](https://i.imgur.com/TGcZT4h.png)\n",
        "\n",
        "Upload **any smaller text file**  (<10 MB) and update the file name in the cell below, then run the cell."
      ]
    },
    {
      "cell_type": "code",
      "metadata": {
        "id": "6OFnPCLADfll",
        "colab": {
          "base_uri": "https://localhost:8080/",
          "height": 35
        },
        "outputId": "2eefc08d-7915-44fe-a23e-176bfa0c2c3d"
      },
      "source": [
        "file_name = \"all_opening_narrations.txt\"\r\n",
        "file_name"
      ],
      "execution_count": 13,
      "outputs": [
        {
          "output_type": "execute_result",
          "data": {
            "application/vnd.google.colaboratory.intrinsic+json": {
              "type": "string"
            },
            "text/plain": [
              "'all_opening_narrations.txt'"
            ]
          },
          "metadata": {
            "tags": []
          },
          "execution_count": 13
        }
      ]
    },
    {
      "cell_type": "markdown",
      "metadata": {
        "id": "HeeSKtNWUedE"
      },
      "source": [
        "If your text file is larger than 10MB, it is recommended to upload that file to Google Drive first, then copy that file from Google Drive to the Colaboratory VM."
      ]
    },
    {
      "cell_type": "code",
      "metadata": {
        "id": "-Z6okFD8VKtS"
      },
      "source": [
        "#gpt2.copy_file_from_gdrive(file_name)"
      ],
      "execution_count": 7,
      "outputs": []
    },
    {
      "cell_type": "markdown",
      "metadata": {
        "id": "LdpZQXknFNY3"
      },
      "source": [
        "## Finetune GPT-2\n",
        "\n",
        "The next cell will start the actual finetuning of GPT-2. It creates a persistent TensorFlow session which stores the training config, then runs the training for the specified number of `steps`. (to have the finetuning run indefinitely, set `steps = -1`)\n",
        "\n",
        "The model checkpoints will be saved in `/checkpoint/run1` by default. The checkpoints are saved every 500 steps (can be changed) and when the cell is stopped.\n",
        "\n",
        "The training might time out after 4ish hours; make sure you end training and save the results so you don't lose them!\n",
        "\n",
        "**IMPORTANT NOTE:** If you want to rerun this cell, **restart the VM first** (Runtime -> Restart Runtime). You will need to rerun imports but not recopy files.\n",
        "\n",
        "Other optional-but-helpful parameters for `gpt2.finetune`:\n",
        "\n",
        "\n",
        "*  **`restore_from`**: Set to `fresh` to start training from the base GPT-2, or set to `latest` to restart training from an existing checkpoint.\n",
        "* **`sample_every`**: Number of steps to print example output\n",
        "* **`print_every`**: Number of steps to print training progress.\n",
        "* **`learning_rate`**:  Learning rate for the training. (default `1e-4`, can lower to `1e-5` if you have <1MB input data)\n",
        "*  **`run_name`**: subfolder within `checkpoint` to save the model. This is useful if you want to work with multiple models (will also need to specify  `run_name` when loading the model)\n",
        "* **`overwrite`**: Set to `True` if you want to continue finetuning an existing model (w/ `restore_from='latest'`) without creating duplicate copies. "
      ]
    },
    {
      "cell_type": "code",
      "metadata": {
        "id": "aeXshJM-Cuaf",
        "colab": {
          "base_uri": "https://localhost:8080/"
        },
        "outputId": "089ed3be-f2b2-4636-8fda-b1bd8cf705e7"
      },
      "source": [
        "sess = gpt2.start_tf_sess()\n",
        "\n",
        "gpt2.finetune(sess,\n",
        "              dataset=file_name,\n",
        "              model_name=model_version,\n",
        "              steps=1000,\n",
        "              restore_from='fresh',\n",
        "              run_name='run1',\n",
        "              print_every=10,\n",
        "              sample_every=200,\n",
        "              save_every=500\n",
        "              )"
      ],
      "execution_count": 11,
      "outputs": [
        {
          "output_type": "stream",
          "text": [
            "WARNING:tensorflow:From /usr/local/lib/python3.6/dist-packages/gpt_2_simple/src/sample.py:17: where (from tensorflow.python.ops.array_ops) is deprecated and will be removed in a future version.\n",
            "Instructions for updating:\n",
            "Use tf.where in 2.0, which has the same broadcast rule as np.where\n",
            "WARNING:tensorflow:From /usr/local/lib/python3.6/dist-packages/gpt_2_simple/src/memory_saving_gradients.py:62: get_backward_walk_ops (from tensorflow.contrib.graph_editor.select) is deprecated and will be removed after 2019-06-06.\n",
            "Instructions for updating:\n",
            "Please use tensorflow.python.ops.op_selector.get_backward_walk_ops.\n",
            "Loading checkpoint models/355M/model.ckpt\n",
            "INFO:tensorflow:Restoring parameters from models/355M/model.ckpt\n"
          ],
          "name": "stdout"
        },
        {
          "output_type": "stream",
          "text": [
            "100%|██████████| 1/1 [00:00<00:00,  5.23it/s]"
          ],
          "name": "stderr"
        },
        {
          "output_type": "stream",
          "text": [
            "Loading dataset...\n",
            "dataset has 19312 tokens\n",
            "Training...\n"
          ],
          "name": "stdout"
        },
        {
          "output_type": "stream",
          "text": [
            "\n"
          ],
          "name": "stderr"
        },
        {
          "output_type": "stream",
          "text": [
            "[10 | 24.16] loss=3.17 avg=3.17\n",
            "[20 | 40.08] loss=2.30 avg=2.73\n",
            "[30 | 56.27] loss=1.94 avg=2.47\n",
            "[40 | 72.37] loss=3.34 avg=2.69\n",
            "[50 | 88.28] loss=1.79 avg=2.51\n",
            "[60 | 104.12] loss=1.30 avg=2.30\n",
            "[70 | 119.99] loss=1.80 avg=2.23\n",
            "[80 | 135.99] loss=0.57 avg=2.01\n",
            "[90 | 152.04] loss=0.24 avg=1.81\n",
            "[100 | 168.02] loss=0.29 avg=1.65\n",
            "[110 | 184.03] loss=0.24 avg=1.51\n",
            "[120 | 200.03] loss=0.48 avg=1.42\n",
            "[130 | 216.00] loss=0.17 avg=1.32\n",
            "[140 | 232.00] loss=0.08 avg=1.23\n",
            "[150 | 248.01] loss=0.06 avg=1.14\n",
            "[160 | 263.99] loss=0.12 avg=1.07\n",
            "[170 | 280.01] loss=0.05 avg=1.01\n",
            "[180 | 296.03] loss=0.14 avg=0.96\n",
            "[190 | 312.05] loss=0.04 avg=0.90\n",
            "[200 | 328.06] loss=0.09 avg=0.86\n",
            "======== SAMPLE 1 ========\n",
            " eyes on the future and the place to be, a place called Mars. Three years from this moment, the three of them will make history, and make a vow that they will keep it, or perish in doing so. The third member of the party, Mr. Neil Armstrong, will shortly depart from the White House and into the unknown, a rugged, two-legged traveller into space. This is the beginning, the first step in a rather fanciful world which we call the Twilight Zone.\n",
            "\n",
            "78) A Hundred Yards Over the Rim\n",
            "The year is 1847, the place is the territory of New Mexico, the people are a tiny handful of men and women with a dream. Eleven months ago, they started out from Ohio and headed west. Someone told them about a place called California, about a warm sun and a warm planet, about rich land and fresh air, but nothing more. Someone else told them about the Rim of the World, about a place called North Star, about the rugged beauty of a mountain range, about the heartbeat of a million little men and women on an unknown continent. This is the beginning, the first step toward the ultimate destination, the place we're heading back to, the first day of the Twilight Zone.\n",
            "\n",
            "79) The Thirty-Fathom Grave\n",
            "The place is the territory of New York, the people are a tiny handful of men and women who have just reached a place called the Dead Zone, the ocean is thirty fathoms and the air is over thirty-five degrees celsius. These are the people you're looking at, a handful of men and women who have just reached a place called the Twilight Zone.\n",
            "\n",
            "80) Mr. Garrity - A Gentleman in a Lane\n",
            "Nickname: Mr. Jared Garrity. Occupation: traffic cop, on a very busy street in the early evening of the previous Saturday. This is Mr. Jared Garrity in person. He's rather tired, quite sad, quite sullen. We can presume, of course, that his wife and daughter are well and truly away on holiday. We can also presume, that the rest of the family is also asleep. But we must assume, on account of Mr. Jared Garrity's peculiarities, that this is but the beginning, that this is but the beginning, that there is much more to be seen in a given moment, not just the face of a traffic cop but also the mind of a dreamer, prone as he is to find the magic words that will take him beyond the reach of the senses and back into the warm embrace of the Twilight Zone.\n",
            "\n",
            "81) The Masks\n",
            "The place is Italy, a vast, gloomy, storm-spattered expanse of land strewn with the remains of cities and farms and gleeful monuments to the violence of man's arithmetic. And this is what Italy has been through since the late 1970's, a bleak, storm-soaked, point-blank, head-to-toe battle for survival, a survival-of-the-fittest battle, one between flesh and steel, between man and nature, a naked contest for existence without a weapon except strength - and the winner is decided by the violence of words, by the preordained inaction of mind, by the strength of revenge. Now this is the face of the man who murdered his wife and daughter and forced him to face the abyss, that of a man whose heart has been ripped out by a monster. That monster is now upon him, implanted with a mind and body prepared for the unthinkable, a monstery mind and body prepared to carry out the plan that began this nightmare, to take revenge on the man who had betrayed him, to destroy the man who had betrayed him, and to do so in just a few short steps, one after the other, until the last man stands atop the pile of his own shattered and decomposing remains, his head and shoulders bare except for the residue of his sanity, his teeth and saliva. Mr. Hector B. Poole, human wrecker who has, since the last supper, dragged along behind him a corpse, a badly mangled, burned-out little thing, sporting a broken jaw and a chipped tooth. Mr. B.A.P.o'Ray - human wrecker who leads a double life, a double standard, a triple threat, that of a good man who lives by the sword, a bad man who lives by the rope, a man who is being driven into the Twilight Zone, the town of Willard, just across the Tennessee River.\n",
            "\n",
            "82) He's Alive\n",
            "[Clown] Nickname: Mr. Jerry Lovegrove. Occupation: cab driver. In his spare time he writes poetry, plays the harmonica, and writes playwrights' credits on death row. He's rather fanciful in his ways, and he knows it. He's written a tragic play, based on a true story, involving a real person, a real person named Jerry\n",
            "\n",
            "[210 | 368.65] loss=0.07 avg=0.82\n",
            "[220 | 384.67] loss=0.04 avg=0.78\n",
            "[230 | 400.64] loss=0.09 avg=0.74\n",
            "[240 | 416.66] loss=0.06 avg=0.71\n",
            "[250 | 432.70] loss=0.12 avg=0.69\n",
            "[260 | 448.70] loss=0.05 avg=0.66\n",
            "[270 | 464.75] loss=0.05 avg=0.63\n",
            "[280 | 480.80] loss=0.06 avg=0.61\n",
            "[290 | 496.88] loss=0.04 avg=0.59\n",
            "[300 | 512.92] loss=0.06 avg=0.57\n",
            "[310 | 528.98] loss=0.03 avg=0.55\n",
            "[320 | 545.05] loss=0.05 avg=0.53\n",
            "[330 | 561.14] loss=0.04 avg=0.51\n",
            "[340 | 577.21] loss=0.03 avg=0.49\n",
            "[350 | 593.28] loss=0.02 avg=0.48\n",
            "[360 | 609.34] loss=0.04 avg=0.46\n",
            "[370 | 625.34] loss=0.03 avg=0.45\n",
            "[380 | 641.36] loss=0.03 avg=0.44\n",
            "[390 | 657.38] loss=0.03 avg=0.43\n",
            "[400 | 673.39] loss=0.07 avg=0.41\n",
            "======== SAMPLE 1 ========\n",
            " moment and place.\" And that's the beginning.\n",
            "\n",
            "55) People Are Alike All Over\n",
            "You're looking at a species of flimsy little two-legged animal with extremely small heads whose name is man. Warren Marcusson, age thirtyish. Samuel A. Conrad, age forty. They're taking a highway into space, Man unshackling himself and sending his tiny, groping fingers up into the unknown. Their destination is Mars, and this is the third day of their journey. Their destination is also Mars, a place they're to land in just a moment. But before they begin they have to be warned not to look for Mars, but for some strange, unknowable object in a dim, heathen light that is as real as day. This is Necessary Fear, the third and final day of their journey.\n",
            "\n",
            "56) Passage on the Lady Anne\n",
            "Portrait of a honeymoon couple getting ready for a journey - with a difference. These newlyweds have been married for six years, and they're not taking this honeymoon to start their life but rather to save it, or so Eileen Ransome thinks. She doesn't know why she insisted on a ship for this voyage, except that it would give them some time and she'd never been on one before - certainly never one like the Lady Anne. The tickets read 'New York to Southampton,' but this old liner is going somewhere else. Its destination - fear.\n",
            "\n",
            "57) Man's Nightmare\n",
            "Portrait of a frightened man: Mr. Walter Bedeker, age thirty-five. Mr. Walter Bedeker, what you're looking at is a nightmare. He's a murderer, or so it is said. He's faced with the ultimate evil; his own self-destruction. But Mr. Walter Bedeker hasn't time for human beings, time only for machines. He only has time for machines, his own creation. Walter Bedeker, monster of a man, just arrived at a crossroad in his life, and he's chosen the wrong turn. Mr. Walter Bedeker will soon be met by an army of robots, and he'll show them that he's not to be trifled with. Walter Bedeker, MR. ROBOT, MR. MEENAH, MR. SLAM, and the three of them will engage in one final battle for the fate of man. This battle will be fought in the Twilight Zone.\n",
            "\n",
            "58) Six O'Clock\n",
            "This is the Twilight Zone. The problem is that everything that happens in it is preordained. The solution is obvious; stop trying to be something you're not. This is Rose McGowan, age thirty-five, a hotel suite hostess, who happens to be in the final stages of a psychotic breakdown. In just a moment she'll snap at least one neck, and all of you will witness her instant destruction. Rose McGowan, you're about to watch professional destruction. This is the Twilight Zone.\n",
            "\n",
            "59) Kinck the Can\n",
            "Sunnyvale Rest, a home for the aged, a dying place, and a common children's game called kick the can that will shortly become a refuge for a man who knows he will die in this world if he doesn't escape into the Twilight Zone.\n",
            "\n",
            "60) A Piano in the House\n",
            "Mr. Fitzgerald Fortune, theatre critic and cynic at large, on his way to a birthday party. If he knew what is in store for him he probably wouldn't go, because before this evening is over that cranky old piano is going to play 'Those Piano Roll Blues' with some effects that could happen only in the Twilight Zone.\n",
            "\n",
            "61) The Last Rites of Jeff Myrtlebank\n",
            "Time, the mid-twenties. Place, the Midwest, the southernmost section of the Midwest. We were just witnessing a funeral, a funeral that didn't come off exactly as planned, due to a slight fallout from the Twilight Zone.\n",
            "\n",
            "62) To Serve Man\n",
            "Respectfully submitted for your perusal: a Kanamit. Height: a little over nine feet. Weight: in the neighborhood of three hundred and fifty pounds. Origin: unknown. Motives? Therein hangs the tale, for in just a moment we're going to ask you to shake hands, figuratively, with a Christopher Columbus from another galaxy and another time. This is the Twilight Zone.\n",
            "\n",
            "63) The Fugitive\n",
            "It's been said that science fiction and fantasy are two different things: science fiction, the improbable made possible; fantasy, the impossible made probable. What would you have if you put these two different things together? Well, you'd have an old man named Ben who knows a lot of tricks most people don't know and a little girl named Jenny who loves him - and a journey into space. This is the Twilight Zone.\n",
            "\n",
            "64) The Little People\n",
            "The time is the space age, the place is a barren landscape of a rock\n",
            "\n",
            "[410 | 711.49] loss=0.04 avg=0.40\n",
            "[420 | 727.50] loss=0.06 avg=0.39\n",
            "[430 | 743.51] loss=0.03 avg=0.38\n",
            "[440 | 759.51] loss=0.05 avg=0.37\n",
            "[450 | 775.55] loss=0.03 avg=0.36\n",
            "[460 | 791.57] loss=0.05 avg=0.36\n",
            "[470 | 807.61] loss=0.02 avg=0.35\n",
            "[480 | 823.70] loss=0.06 avg=0.34\n",
            "[490 | 839.74] loss=0.04 avg=0.33\n",
            "[500 | 855.81] loss=0.03 avg=0.32\n",
            "Saving checkpoint/run1/model-500\n",
            "[510 | 879.32] loss=0.03 avg=0.32\n",
            "[520 | 895.49] loss=0.05 avg=0.31\n",
            "[530 | 911.57] loss=0.04 avg=0.30\n",
            "[540 | 927.62] loss=0.05 avg=0.30\n",
            "[550 | 943.62] loss=0.04 avg=0.29\n",
            "[560 | 959.66] loss=0.03 avg=0.29\n",
            "[570 | 975.73] loss=0.05 avg=0.28\n",
            "[580 | 991.77] loss=0.04 avg=0.27\n",
            "[590 | 1007.78] loss=0.04 avg=0.27\n",
            "[600 | 1023.81] loss=0.03 avg=0.26\n",
            "======== SAMPLE 1 ========\n",
            ". And these two ordinary, everyday people are about to find that there happens to be a zone - a little-known region of the universe that is in reality the outskirts of the known. It happens to be in the shadow of a big-city, a little-known region of the sky that is itself the territory of the Twilight Zone.\n",
            "\n",
            "146) The Parable of the Little Flowers\n",
            "In the parlance of the twentieth century, this is an oddball. His name is B.W. Bevis, and his tastes lean toward stuffed animals, zither music, professional football, Charles Dickens, moose heads, carnivals, dogs, children, and young ladies. Mr. Bevis is accident prone, a little vague, a little discombooberated, with a life that possesses all the security of a floating crap game. But this can be said of our Mr. Bevis: without him, without his warmth, without his kindness, without his generosity, the world would be a considerably poorer place, albeit perhaps a little saner. Should it not be obvious by now, James B.W. Bevis is a fixture in his own private, optimistic, hopeful little man. He's got a talent, a gift for getting under people's skins, a quiet dignity which is almost always in short supply in the Twilight Zone.\n",
            "\n",
            "147) The Fear\n",
            "The old man stared at a computer screen, his eyes fixed firmly on a printed page. The screen was the present, a photocopy of a once-brilliant creation, a reissue of old negatives. The old man's name is Mr. Bevis, and his tastes lean toward stuffed animals, zither music, professional football, Charles Dickens, moose heads, carnivals, dogs, children, and young ladies. Mr. Bevis is a fixture in his own private, optimistic, hopeful little man. He has a talent, a gift for getting under people's skins, a quiet dignity which is almost always in short supply in the Twilight Zone.\n",
            "\n",
            "148) Little Girl Lost\n",
            "Missing: one frightened little girl. Name: Bettina Miller. Description: six years of age, average height and build, light brown hair, quite pretty. Last seen being tucked in bed by her mother a few hours ago. Last heard - aye, there's the rub, as Hamlet put it. For Bettina Miller can be heard quite clearly, despite the rather curious fact that she can't be seen at all. Present location? Let's say for the moment in the Twilight Zone.\n",
            "\n",
            "149) Person or Persons Unknown\n",
            "Cameo of a man who has just lost his most valuable possession. He doesn't know about the loss yet. In fact, he doesn't even know about the possession. Because, like most people, David Gurney has never really thought about the matter of his identity. But he's going to be thinking a great deal about it from now on, because that is what he lost when he turned thirty-one. And his search for it is going to take him into the darkest corners of the Twilight Zone.\n",
            "\n",
            "150) The Little People\n",
            "The time is the early summer, the place is a mountain cave in Death Valley, U.S.A. In just a moment, a young man will take a long and bizarre journey into the Twilight Zone.\n",
            "\n",
            "151) A Kind of a Stopwatch\n",
            "Submitted for your approval, the case of one Miss Agnes Ogden, put on Earth with two left feet, an overabundance of thumbs and a propensity for falling down manholes. In a moment, she will be up to her jaw in miracles, wrought by apprentice angel Harmon Ogden, intent on winning his wings. And, though, it's a fact that both of them should have stood in bed, they will tempt all the fates by moving into the cold, gray dawn of the Twilight Zone.\n",
            "\n",
            "152) The Female Character\n",
            "You've seen them, but have you thought about them? What do the women in history do? Why do they stay? What do the men do? Why do they stay? These are the kinds of questions that may be raised by the life and work of Miss Agnes Ogden. Soon, we'll begin to consider them.\n",
            "\n",
            "153) The Male Character\n",
            "You've seen them, but have you thought about them? What does the father of David Gurney do? Why does he allow his son to pursue his dreams? Why does he let his obsession with finding a missing piece of evidence in a jumble of bits and pieces blind him to the gravity of the situation? Mr. Gurney knows what is in store for him, and he's about to find out to the nth degree in the Twilight Zone.\n",
            "\n",
            "154) The Grave\n",
            "Normally, the old man would be correct. This would be the end of the story. We've had the traditional shoot-out on the street and the badman\n",
            "\n",
            "[610 | 1061.87] loss=0.04 avg=0.26\n",
            "[620 | 1077.90] loss=0.03 avg=0.25\n",
            "[630 | 1093.94] loss=0.07 avg=0.25\n",
            "[640 | 1109.92] loss=0.05 avg=0.25\n",
            "[650 | 1125.92] loss=0.02 avg=0.24\n",
            "[660 | 1141.96] loss=0.02 avg=0.24\n",
            "[670 | 1157.99] loss=0.02 avg=0.23\n",
            "[680 | 1174.06] loss=0.03 avg=0.23\n",
            "[690 | 1190.13] loss=0.35 avg=0.23\n",
            "[700 | 1206.19] loss=0.05 avg=0.23\n",
            "[710 | 1222.23] loss=0.03 avg=0.22\n",
            "[720 | 1238.28] loss=0.02 avg=0.22\n",
            "[730 | 1254.32] loss=0.03 avg=0.22\n",
            "[740 | 1270.37] loss=0.05 avg=0.21\n",
            "[750 | 1286.42] loss=0.06 avg=0.21\n",
            "[760 | 1302.43] loss=0.03 avg=0.21\n",
            "[770 | 1318.46] loss=0.03 avg=0.20\n",
            "[780 | 1334.48] loss=0.02 avg=0.20\n",
            "[790 | 1350.51] loss=0.05 avg=0.20\n",
            "[800 | 1366.53] loss=0.05 avg=0.19\n",
            "======== SAMPLE 1 ========\n",
            ", he had to give up hope of ever landing a finger on the gutter. Instead, he gave into the inevitable and periscopes into the Twilight Zone.\n",
            "\n",
            "145) Oh, Father!\n",
            "Isaac Pope, syndicated columnist whose work appears in more than a hundred newspapers. By nature a cynic, a disbeliever, caught for the moment by a lovely vision. He knows the vision he's seen is no dream. She is Pamela, prime minister of Canada. And she's arrived in Ottawa from London, Ont., with something important to give the sick and the weak. And this is Adam, the unwilling participant in the play.\n",
            "\n",
            "146) The Man in the Bottle\n",
            "Mr. Bartlett Finchley, age thirty-five. Occupation: being in love. Not just in love, but madly, passionately, illogically, miserably, all-consumingly in love, with a beautiful, earnest, and all-consuming desire to be loved. This is the woman he's seen, the one he's lost. And this, except for isolated moments, is the life and well-being of Mr. Bartlett Finchley.\n",
            "\n",
            "147) The Dating Game\n",
            "University professor, age thirty-five. Occupation: being in love. Not just in love, but madly, miserably, all-consumingly in love, with a woman named Leila who has a vague recollection of his face and even less than a passing interest. In a moment you'll see a switch. Professor Martin Ellington, with you.\n",
            "\n",
            "148) A Short Drink From a Certain Fountain\n",
            "You're looking at Mr. Ellington, who leads his life, as a matter of fact, almost entirely by instinct. His drive is so great that even when he considers, he immediately takes flight. Ms. Ellington, as we have just witnessed, is about to take a short but very meaningful journey into the Twilight Zone.\n",
            "\n",
            "149) The New Exhibit\n",
            "Martin Lombard Senescu, a gentle man, the dedicated curator of murderers' row in Ferguson's Wax Museum. He ponders the reasons why ordinary men are brought to their knees in misery, and why, on this day, Professor Senescu, with his painful and prolonged journey to the Twilight Zone, will not end his life. He will, on the other hand, end that of his species, which is to say, that he will end it now. With him. With one more move. One more opportunity. The time is now and the place is a mountain cave in Death Valley, U.S.A. In just a moment, this little man will show his friends and the world what really happens in the Twilight Zone.\n",
            "\n",
            "150) He's Alive\n",
            "Portrait of a bush-league fuehrer named Peter Vollmer, a sparse little man who feeds off his self-delusions and finds himself perpetually hungry for want of greatness in his diet. And like some goose-stepping predecessors he searches for something to explain his hunger, and to rationalize why a world passes him by without saluting. That something he looks for and finds is in a sewer. In his own twisted and distorted lexicon he calls it faith, strength, truth. But in just a moment Peter Vollmer will ply his trade on another kind of corner, a strange intersection in a shadowland called the Twilight Zone.\n",
            "\n",
            "151) Mute\n",
            "What you're witnessing is the curtain-raiser to a most extraordinary play; to wit, the signing of a pact, the commencement of a project. The play itself will be performed almost entirely offstage. The final scenes are to be enacted a decade hence and with a different cast. The main character of these final scenes is Ilse, the daughter of Professor and Mrs. Nielsen, age two. At the moment she lies sleeping in her crib, unaware of the singular drama in which she is to be involved. Ten years from this moment, Ilse Nielsen is to know the desolating terror of living simultaneously in the world and in the Twilight Zone.\n",
            "\n",
            "152) Death Ship\n",
            "Picture of the spaceship E-89, cruising above the thirteenth planet of star system fifty-one, the year 1997. In a little while, supposedly, the ship will be landed and specimens taken: vegetable, mineral and, if any, animal. These will be brought back to overpopulated Earth, where technicians will evaluate them and, if everything is satisfactory, stamp their findings with the word 'inhabitable' and open up yet another planet for colonization. These are the things that are supposed to happen. Picture of the crew of the spaceship E-89: Captain Ross, Lieutenant Mason, Lieutenant Carter. Three men who have just reached a place which is as far from home as they will ever be. Three men who in a matter of minutes will be plunged into the darkest nightmare reaches of the Twilight Zone.\n",
            "\n",
            "153) Jess-Belle\n",
            "\n",
            "\n",
            "[810 | 1404.82] loss=0.05 avg=0.19\n",
            "[820 | 1420.82] loss=0.05 avg=0.19\n",
            "[830 | 1436.82] loss=0.04 avg=0.19\n",
            "[840 | 1452.84] loss=0.02 avg=0.18\n",
            "[850 | 1468.87] loss=0.02 avg=0.18\n",
            "[860 | 1484.90] loss=0.03 avg=0.18\n",
            "[870 | 1500.90] loss=0.02 avg=0.18\n",
            "[880 | 1516.91] loss=0.03 avg=0.17\n",
            "[890 | 1532.93] loss=0.10 avg=0.17\n",
            "[900 | 1548.94] loss=0.01 avg=0.17\n",
            "[910 | 1564.97] loss=0.03 avg=0.17\n",
            "[920 | 1580.99] loss=0.05 avg=0.16\n",
            "[930 | 1597.01] loss=0.03 avg=0.16\n",
            "[940 | 1613.06] loss=0.04 avg=0.16\n",
            "[950 | 1629.13] loss=0.05 avg=0.16\n",
            "[960 | 1645.19] loss=0.06 avg=0.16\n",
            "[970 | 1661.25] loss=0.03 avg=0.16\n",
            "[980 | 1677.31] loss=0.04 avg=0.15\n",
            "[990 | 1693.37] loss=0.03 avg=0.15\n",
            "[1000 | 1709.44] loss=0.06 avg=0.15\n",
            "Saving checkpoint/run1/model-1000\n",
            "WARNING:tensorflow:From /tensorflow-1.15.2/python3.6/tensorflow_core/python/training/saver.py:963: remove_checkpoint (from tensorflow.python.training.checkpoint_management) is deprecated and will be removed in a future version.\n",
            "Instructions for updating:\n",
            "Use standard file APIs to delete files with this prefix.\n"
          ],
          "name": "stdout"
        }
      ]
    },
    {
      "cell_type": "markdown",
      "metadata": {
        "id": "IXSuTNERaw6K"
      },
      "source": [
        "After the model is trained, you can copy the checkpoint folder to your own Google Drive.\n",
        "\n",
        "If you want to download it to your personal computer, it's strongly recommended you copy it there first, then download from Google Drive. The checkpoint folder is copied as a `.rar` compressed file; you can download it and uncompress it locally."
      ]
    },
    {
      "cell_type": "code",
      "metadata": {
        "id": "VHdTL8NDbAh3"
      },
      "source": [
        "gpt2.copy_checkpoint_to_gdrive(run_name='run1')"
      ],
      "execution_count": null,
      "outputs": []
    },
    {
      "cell_type": "markdown",
      "metadata": {
        "id": "qQJgV_b4bmzd"
      },
      "source": [
        "You're done! Feel free to go to the **Generate Text From The Trained Model** section to generate text based on your retrained model."
      ]
    },
    {
      "cell_type": "markdown",
      "metadata": {
        "id": "pel-uBULXO2L"
      },
      "source": [
        "## Load a Trained Model Checkpoint\n",
        "\n",
        "Running the next cell will copy the `.rar` checkpoint file from your Google Drive into the Colaboratory VM."
      ]
    },
    {
      "cell_type": "code",
      "metadata": {
        "id": "DCcx5u7sbPTD"
      },
      "source": [
        "gpt2.copy_checkpoint_from_gdrive(run_name='run1')"
      ],
      "execution_count": null,
      "outputs": []
    },
    {
      "cell_type": "markdown",
      "metadata": {
        "id": "RTa6zf3e_9gV"
      },
      "source": [
        "The next cell will allow you to load the retrained model checkpoint + metadata necessary to generate text.\n",
        "\n",
        "**IMPORTANT NOTE:** If you want to rerun this cell, **restart the VM first** (Runtime -> Restart Runtime). You will need to rerun imports but not recopy files."
      ]
    },
    {
      "cell_type": "code",
      "metadata": {
        "id": "-fxL77nvAMAX"
      },
      "source": [
        "sess = gpt2.start_tf_sess()\n",
        "gpt2.load_gpt2(sess, run_name='run1')"
      ],
      "execution_count": null,
      "outputs": []
    },
    {
      "cell_type": "markdown",
      "metadata": {
        "id": "ClJwpF_ACONp"
      },
      "source": [
        "## Generate Text From The Trained Model\n",
        "\n",
        "After you've trained the model or loaded a retrained model from checkpoint, you can now generate text. `generate` generates a single text from the loaded model."
      ]
    },
    {
      "cell_type": "code",
      "metadata": {
        "id": "4RNY6RBI9LmL",
        "colab": {
          "base_uri": "https://localhost:8080/"
        },
        "outputId": "ec492791-2c63-4250-cb57-9e1ea203c155"
      },
      "source": [
        "gpt2.generate(sess, run_name='run1')"
      ],
      "execution_count": 12,
      "outputs": [
        {
          "output_type": "stream",
          "text": [
            "He was a fixture in his youth, a fixture of quiet desperation in an age of violence and gloom in an age of uncertainty. Now Henry Bledsoe looks for an escape - any escape, any way, anything, anybody - to get out of the rut. And this little old man is just what Mr. Bledsoe is waiting for something different. Something different, apparently, from what he's seen on TV, something different, apparently, from what any other man would expect from a wife or a mother. Something different, apparently, from what a wife or a mother should expect from a wife or a girlfriend. Something different, apparently, from what a girlfriend should expect from a life partner. Something different, apparently, from what a wife or a girlfriend should expect from a life companion. Jane Eyre, London. Mid-morning. A child's voice announces the start of the world. It is Mr. Jane Eyre, age thirty-six. And this is the Earth.\n",
            "\n",
            "25) The Empire State Building\n",
            "Her name: Statue of Liberty. Her motto: 'Give me your tired, your poor, your huddled masses.' In just a moment, she will lead them into a nightmare. This is Evelyn Fox, one of the guards on duty at the time. She is a veteran of the war, a staunch and reliable member of the Liberty Guard. And this is the third day of a nightmare. The first began at dawn. The second began at dusk. And the third began at dawn.\n",
            "\n",
            "26) The Monsters are Due on Maple Street\n",
            "Maple Street, U.S.A. Late summer. A tree-lined little world of front porch gliders, barbecues, the laughter of children, and the bell of an ice-cream vendor. At the sound of the roar and the flash of light, it will be precisely 6:43pm on a sidewalk named Maple Street. This is the Twilight Zone.\n",
            "\n",
            "27) The Odyssey of Flight 33\n",
            "You're riding on a jet airliner en route from London to New York. You're at 35,000 feet atop an overcast and roughly fifty-five minutes from Idlewild Airport. But what you've seen occur inside the cockpit of this plane is no reflection on the aircraft or the crew. It's a safe, well-engineered, perfectly designed machine, and the men you've just met are a trained, cool, highly efficient team. The problem is simply that the plane is going too fast and there is nothing within the realm of knowledge or at least logic to explain it. Unbeknownst to passenger and crew, this airplane is heading into an unchartered region well off the beaten track of commercial travelers. It's moving into the Twilight Zone. What you're about to see we call 'The Odyssey of Flight 33.\n",
            "\n",
            "28) Mr. Dingle, the Strong\n",
            "Uniquely American institution known as the neighborhood bar. Reading left to right are Mr. Anthony O'Toole, proprietor who waters his drinks like geraniums but who stands foursquare for peace and quiet and for booths for ladies. This is Mr. Joseph J. Callahan, an unregistered bookie, whose entire life is any sporting event with two sides and a set of odds. His idea of a meeting at the summit is any dialogue between a catcher and a pitcher with more than one man on base. And this animated citizen is every anonymous bettor who ever dropped rent money on a horse race, a prize fight, or a floating crap game, and who took out his frustrations and his insolvency on any vulnerable fellow barstool companion within arm's and fist's reach. And this is Mr. Luther Dingle, a vacuum-cleaner salesman whose volume of business is roughly that of a valet at a hobo convention. He's a consummate failure in almost everything but is a good listener and has a prominent jaw. And these two unseen gentlemen are visitors from outer space. They are about to alter the destiny of Luther Dingle by leaving him a legacy, the kind you can't hardly find no more. In just a moment, a sad-faced perennial punching bag who missed even the caboose of life's gravy train will take a short constitutional into that most unpredictable region that we refer to as the Twilight Zone.\n",
            "\n",
            "29) Static\n",
            "No one ever saw one quite like that, because that's a very special sort of radio. In its day, circa 1935, its type was one of the most elegant consoles on the market. Now, with its fabric-covered speakers, its peculiar yellow dial, its serrated knobs, it looks quaint and a little strange. Mr. Ed Lindsay is going to find out how strange very soon when he tunes in to the Twilight Zone.\n",
            "\n",
            "30) The Prime Mover\n",
            "Portrait of a man who thinks and thereby gets things done. Mr. Jimbo Cobb might be called a prime mover, a talent which has to be seen\n"
          ],
          "name": "stdout"
        }
      ]
    },
    {
      "cell_type": "markdown",
      "metadata": {
        "id": "oF4-PqF0Fl7R"
      },
      "source": [
        "If you're creating an API based on your model and need to pass the generated text elsewhere, you can do `text = gpt2.generate(sess, return_as_list=True)[0]`\n",
        "\n",
        "You can also pass in a `prefix` to the generate function to force the text to start with a given character sequence and generate text from there (good if you add an indicator when the text starts).\n",
        "\n",
        "You can also generate multiple texts at a time by specifing `nsamples`. Unique to GPT-2, you can pass a `batch_size` to generate multiple samples in parallel, giving a massive speedup (in Colaboratory, set a maximum of 20 for `batch_size`).\n",
        "\n",
        "Other optional-but-helpful parameters for `gpt2.generate` and friends:\n",
        "\n",
        "*  **`length`**: Number of tokens to generate (default 1023, the maximum)\n",
        "* **`temperature`**: The higher the temperature, the crazier the text (default 0.7, recommended to keep between 0.7 and 1.0)\n",
        "* **`top_k`**: Limits the generated guesses to the top *k* guesses (default 0 which disables the behavior; if the generated output is super crazy, you may want to set `top_k=40`)\n",
        "* **`top_p`**: Nucleus sampling: limits the generated guesses to a cumulative probability. (gets good results on a dataset with `top_p=0.9`)\n",
        "* **`truncate`**: Truncates the input text until a given sequence, excluding that sequence (e.g. if `truncate='<|endoftext|>'`, the returned text will include everything before the first `<|endoftext|>`). It may be useful to combine this with a smaller `length` if the input texts are short.\n",
        "*  **`include_prefix`**: If using `truncate` and `include_prefix=False`, the specified `prefix` will not be included in the returned text."
      ]
    },
    {
      "cell_type": "code",
      "metadata": {
        "id": "8DKMc0fiej4N",
        "colab": {
          "base_uri": "https://localhost:8080/",
          "height": 1000
        },
        "outputId": "526dbd1b-f076-4f47-a42b-058ab4a35b9f"
      },
      "source": [
        "gpt2.generate(sess,\n",
        "              length=250,\n",
        "              temperature=0.7,\n",
        "              prefix=\"LORD\",\n",
        "              nsamples=5,\n",
        "              batch_size=5\n",
        "              )"
      ],
      "execution_count": null,
      "outputs": [
        {
          "output_type": "stream",
          "text": [
            "LORD WILLOUGHBY:\n",
            "That, by the way, Clarence and I have done good side by side;\n",
            "And yet side we, and he side we have done ill.\n",
            "\n",
            "KING RICHARD II:\n",
            "Why then 'tis done ill. O, how should I ease it?\n",
            "Side with him and my brother, my sovereign!\n",
            "Side wither away, and as night falls,\n",
            "Like to the farthest morning to my last,\n",
            "Side wither away, and as morning comes,\n",
            "Like to the furthest afternoon to my last!\n",
            "Side wither away, and as our fortunes turn,\n",
            "Like to the furthest afternoon to our last!\n",
            "\n",
            "QUEEN MARGARET:\n",
            "What is this? counsel? counsel!\n",
            "\n",
            "KING RICHARD II:\n",
            "My queen and my heir, for half a mile and a half\n",
            "She will glide this way, to be or no.\n",
            "\n",
            "QUEEN MARGARET:\n",
            "So stands the orchard here, for half a mile and a!\n",
            "\n",
            "KING RICHARD II:\n",
            "So stands the orchard here, to fence it, to!\n",
            "Fashion it in her, like the hedgehog's net\n",
            "====================\n",
            "LORD STANLEY:\n",
            "What if I told you, in the hope of succor,\n",
            "That I had lain a little while in your arms?\n",
            "\n",
            "DUKE OF YORK:\n",
            "No doubt, my lord.\n",
            "\n",
            "QUEEN ELIZABETH:\n",
            "'Tis a pity I should be coil'd to\n",
            "Be brief and unanswerable. Yet give me this.\n",
            "\n",
            "EXTON:\n",
            "'Tis a truth that vexes me deeply\n",
            "To try whether thou, Lord Hastings, art moved\n",
            "To enter publicly with gentle discourse\n",
            "And thanks from his acknowledged friends.\n",
            "\n",
            "HASTINGS:\n",
            "My gracious lord,\n",
            "Suppose me this: did I so love to see the Tower?\n",
            "\n",
            "KING RICHARD II:\n",
            "I did so; but the duelling Tower, moved\n",
            "By jealousies to oppress me,\n",
            "Wretches to usurp him held most dear,\n",
            "The truth is, I loved the Tower as I loved\n",
            "The princes that envied their prosperity.\n",
            "\n",
            "HASTINGS:\n",
            "I loved innocently,\n",
            "When my princes did usurp their gains; when\n",
            "When my grandsire and my liege, prince and prince,\n",
            "B\n",
            "====================\n",
            "LORD WILLOUGHBY:\n",
            "How long shall it take? only\n",
            "To behold your father's bending in the duke's.\n",
            "How long shall it be? do you understand me?\n",
            "\n",
            "ROMEO:\n",
            "Your grace, I understand you.\n",
            "\n",
            "ROMEO:\n",
            "It must be so; then I'll excuse myself.\n",
            "\n",
            "ROMEO:\n",
            "It shall be so.\n",
            "\n",
            "FRIAR LAURENCE:\n",
            "Your nose is pleasant on myself.\n",
            "\n",
            "ROMEO:\n",
            "No need.\n",
            "\n",
            "FRIAR LAURENCE:\n",
            "My heart is troubled by strange thoughts.\n",
            "\n",
            "ROMEO:\n",
            "No need.\n",
            "\n",
            "FRIAR LAURENCE:\n",
            "My heart is troubled by strange thoughts.\n",
            "\n",
            "ROMEO:\n",
            "Prithee, be quiet; thou need'st it.\n",
            "\n",
            "FRIAR LAURENCE:\n",
            "My mind is unsettled; no need.\n",
            "\n",
            "ROMEO:\n",
            "Prithee, be quiet; thou need'st it.\n",
            "\n",
            "FRIAR LAURENCE:\n",
            "My mind is unsettled; no need.\n",
            "\n",
            "ROMEO:\n",
            "Prithee, be quiet; thou need'st it.\n",
            "\n",
            "FRIAR LA\n",
            "====================\n",
            "LORD WILLOUGHBY:\n",
            "And, if the right Edward were slain,\n",
            "My father's blood should wash the world from me.\n",
            "\n",
            "QUEEN MARGARET:\n",
            "O, let him fly from me, that he may live!\n",
            "\n",
            "PRINCE EDWARD:\n",
            "Arise, one last, and let him be slain ere he return.\n",
            "\n",
            "QUEEN MARGARET:\n",
            "I thank God I am not young nor old to waste.\n",
            "I am young and wooer than this young wooer was.\n",
            "\n",
            "YORK:\n",
            "Younger than young, and wooer than a man is.\n",
            "\n",
            "QUEEN MARGARET:\n",
            "What, wilt thou not kill her?\n",
            "\n",
            "RYBHUS:\n",
            "If thou darest, thou hast to do good deeds,\n",
            "If thou darest, thou darest not kill her, thou darest.\n",
            "\n",
            "PRINCE EDWARD:\n",
            "Where dost thou go? command Warwick to take her?\n",
            "\n",
            "WARWICK:\n",
            "Where leadess Warwick be that Warwick is woo'd.\n",
            "\n",
            "YORK:\n",
            "Where leadess Warwick be woo'd that noble York is.\n",
            "\n",
            "PRINCE\n",
            "====================\n",
            "LORD WILLOUGHBY:\n",
            "Let him please to come and sup with him?\n",
            "\n",
            "WARWICK:\n",
            "I promised he should come and sup with him.\n",
            "\n",
            "YORK:\n",
            "'Twas a vow of charity to vex him,\n",
            "And then he should vex us to come and sup.\n",
            "\n",
            "WARWICK:\n",
            "'Twas but a vow to come and sup with him.\n",
            "\n",
            "YORK:\n",
            "'Twas but a vow to come and sup with him.\n",
            "\n",
            "WARWICK:\n",
            "Come hither, slave boy.\n",
            "Me I come, you wretched hag, you wretched thing.\n",
            "\n",
            "DORCAS:\n",
            "'Tis very well. Come, go with me.\n",
            "\n",
            "WARWICK:\n",
            "I will be his slave, and make his bondage known.\n",
            "\n",
            "EXTON:\n",
            "So, you have resisted his bondage, you have run your errand too far.\n",
            "\n",
            "WESTMORELAND:\n",
            "O, but O, the slave that was past the year\n",
            "Doth not my errand a better errand?\n",
            "\n",
            "EXTON:\n",
            "No, for so my wits charge me thus too late.\n",
            "\n",
            "WARWICK:\n",
            "But\n",
            "====================\n"
          ],
          "name": "stdout"
        }
      ]
    },
    {
      "cell_type": "markdown",
      "metadata": {
        "id": "zjjEN2Tafhl2"
      },
      "source": [
        "For bulk generation, you can generate a large amount of text to a file and sort out the samples locally on your computer. The next cell will generate a generated text file with a unique timestamp.\n",
        "\n",
        "You can rerun the cells as many times as you want for even more generated texts!"
      ]
    },
    {
      "cell_type": "code",
      "metadata": {
        "id": "Fa6p6arifSL0"
      },
      "source": [
        "gen_file = 'gpt2_gentext_{:%Y%m%d_%H%M%S}.txt'.format(datetime.utcnow())\n",
        "\n",
        "gpt2.generate_to_file(sess,\n",
        "                      destination_path=gen_file,\n",
        "                      length=500,\n",
        "                      temperature=0.7,\n",
        "                      nsamples=100,\n",
        "                      batch_size=20\n",
        "                      )"
      ],
      "execution_count": null,
      "outputs": []
    },
    {
      "cell_type": "code",
      "metadata": {
        "id": "0-LRex8lfv1g"
      },
      "source": [
        "# may have to run twice to get file to download\n",
        "files.download(gen_file)"
      ],
      "execution_count": null,
      "outputs": []
    },
    {
      "cell_type": "markdown",
      "metadata": {
        "id": "QQAN3M6RT7Kj"
      },
      "source": [
        "## Generate Text From The Pretrained Model\n",
        "\n",
        "If you want to generate text from the pretrained model, not a finetuned model, pass `model_name` to `gpt2.load_gpt2()` and `gpt2.generate()`.\n",
        "\n",
        "This is currently the only way to generate text from the 774M or 1558M models with this notebook."
      ]
    },
    {
      "cell_type": "code",
      "metadata": {
        "id": "hsUd_jHgUZnD",
        "colab": {
          "base_uri": "https://localhost:8080/",
          "height": 158
        },
        "outputId": "4e0c8a3f-3527-41c4-e3fe-3357f3f8f6c2"
      },
      "source": [
        "model_name = \"774M\"\n",
        "\n",
        "gpt2.download_gpt2(model_name=model_name)"
      ],
      "execution_count": null,
      "outputs": [
        {
          "output_type": "stream",
          "text": [
            "Fetching checkpoint: 1.05Mit [00:00, 354Mit/s]                                                      \n",
            "Fetching encoder.json: 1.05Mit [00:00, 131Mit/s]                                                    \n",
            "Fetching hparams.json: 1.05Mit [00:00, 279Mit/s]                                                    \n",
            "Fetching model.ckpt.data-00000-of-00001: 3.10Git [00:23, 131Mit/s]                                  \n",
            "Fetching model.ckpt.index: 1.05Mit [00:00, 380Mit/s]                                                \n",
            "Fetching model.ckpt.meta: 2.10Mit [00:00, 226Mit/s]                                                 \n",
            "Fetching vocab.bpe: 1.05Mit [00:00, 199Mit/s]                                                       \n"
          ],
          "name": "stderr"
        }
      ]
    },
    {
      "cell_type": "code",
      "metadata": {
        "id": "BAe4NpKNUj2C",
        "colab": {
          "base_uri": "https://localhost:8080/",
          "height": 124
        },
        "outputId": "b09bfe1d-2ff8-4b8a-fffb-273d28d5d4ae"
      },
      "source": [
        "sess = gpt2.start_tf_sess()\n",
        "\n",
        "gpt2.load_gpt2(sess, model_name=model_name)"
      ],
      "execution_count": null,
      "outputs": [
        {
          "output_type": "stream",
          "text": [
            "WARNING: Logging before flag parsing goes to stderr.\n",
            "W0828 18:37:58.571830 139905369159552 deprecation.py:323] From /usr/local/lib/python3.6/dist-packages/tensorflow/python/training/saver.py:1276: checkpoint_exists (from tensorflow.python.training.checkpoint_management) is deprecated and will be removed in a future version.\n",
            "Instructions for updating:\n",
            "Use standard file APIs to check for files with this prefix.\n"
          ],
          "name": "stderr"
        },
        {
          "output_type": "stream",
          "text": [
            "Loading pretrained model models/774M/model.ckpt\n"
          ],
          "name": "stdout"
        }
      ]
    },
    {
      "cell_type": "code",
      "metadata": {
        "id": "-xInIZKaU104",
        "colab": {
          "base_uri": "https://localhost:8080/",
          "height": 797
        },
        "outputId": "56348e28-7d08-45e3-c859-f26c0efd066d"
      },
      "source": [
        "gpt2.generate(sess,\n",
        "              model_name=model_name,\n",
        "              prefix=\"The secret of life is\",\n",
        "              length=100,\n",
        "              temperature=0.7,\n",
        "              top_p=0.9,\n",
        "              nsamples=5,\n",
        "              batch_size=5\n",
        "              )"
      ],
      "execution_count": null,
      "outputs": [
        {
          "output_type": "stream",
          "text": [
            "The secret of life is that it's really easy to make it complicated,\" said Bill Nye, the host of the popular science show \"Bill Nye the Science Guy.\" \"And this is one of the reasons why we all need to be smarter about science, because we can't keep up with the amazing things that are going on all the time.\"\n",
            "\n",
            "While Nye is correct that \"everything that's going on all the time\" is making the world a better place, he misses the point. This is not\n",
            "====================\n",
            "The secret of life is in the rhythm of the universe. It's not a mystery. It's not a mystery to me. It's the nature of the universe. It's the beauty of the universe. It's the way the universe works. It's the way the universe is. It's the way the universe is going to work. It's the way the universe is. It's the way the universe is. It's the way the universe is. It's the way the universe is. It's the way\n",
            "====================\n",
            "The secret of life is in the universe.\n",
            "\n",
            "\n",
            "-\n",
            "\n",
            "The Red Devil\n",
            "\n",
            "It's the end of the world as we know it, and the only thing that can save us is a band of super-powered individuals known as the Red Devil.\n",
            "\n",
            "\n",
            "The Red Devil is a group of super-powered individuals who are seeking the secret of life and the only way they know how to do it is by taking on the roles of a variety of different super-powered individuals, each of which has their own\n",
            "====================\n",
            "The secret of life is in the mixing of the elements, and it is the mixing of the elements that makes life possible.\"\n",
            "\n",
            "But in the world of food science, the idea of a \"complex\" or \"complexity\" is almost entirely imaginary.\n",
            "\n",
            "As a scientist, I'm fascinated by the question of how life first began.\n",
            "\n",
            "It's the question that drives my work and the work of the scientists who work on it.\n",
            "\n",
            "My current research is exploring how microbes work in the first moments\n",
            "====================\n",
            "The secret of life is the journey of life, the search for the truth.\n",
            "\n",
            "4.4.2. The last thing you know\n",
            "\n",
            "There is nothing more important than the last thing you know.\n",
            "\n",
            "4.4.3. The little things that make all the difference\n",
            "\n",
            "The little things that make all the difference.\n",
            "\n",
            "4.4.4. The truth is the best teacher\n",
            "\n",
            "The truth is the best teacher.\n",
            "\n",
            "4.4.5. The truth is what\n",
            "====================\n"
          ],
          "name": "stdout"
        }
      ]
    },
    {
      "cell_type": "markdown",
      "metadata": {
        "id": "ig-KVgkCDCKD"
      },
      "source": [
        "# Etcetera\n",
        "\n",
        "If the notebook has errors (e.g. GPU Sync Fail), force-kill the Colaboratory virtual machine and restart it with the command below:"
      ]
    },
    {
      "cell_type": "code",
      "metadata": {
        "id": "rIHiVP53FnsX"
      },
      "source": [
        "!kill -9 -1"
      ],
      "execution_count": null,
      "outputs": []
    },
    {
      "cell_type": "markdown",
      "metadata": {
        "id": "wmTXWNUygS5E"
      },
      "source": [
        "# LICENSE\n",
        "\n",
        "MIT License\n",
        "\n",
        "Copyright (c) 2019 Max Woolf\n",
        "\n",
        "Permission is hereby granted, free of charge, to any person obtaining a copy\n",
        "of this software and associated documentation files (the \"Software\"), to deal\n",
        "in the Software without restriction, including without limitation the rights\n",
        "to use, copy, modify, merge, publish, distribute, sublicense, and/or sell\n",
        "copies of the Software, and to permit persons to whom the Software is\n",
        "furnished to do so, subject to the following conditions:\n",
        "\n",
        "The above copyright notice and this permission notice shall be included in all\n",
        "copies or substantial portions of the Software.\n",
        "\n",
        "THE SOFTWARE IS PROVIDED \"AS IS\", WITHOUT WARRANTY OF ANY KIND, EXPRESS OR\n",
        "IMPLIED, INCLUDING BUT NOT LIMITED TO THE WARRANTIES OF MERCHANTABILITY,\n",
        "FITNESS FOR A PARTICULAR PURPOSE AND NONINFRINGEMENT. IN NO EVENT SHALL THE\n",
        "AUTHORS OR COPYRIGHT HOLDERS BE LIABLE FOR ANY CLAIM, DAMAGES OR OTHER\n",
        "LIABILITY, WHETHER IN AN ACTION OF CONTRACT, TORT OR OTHERWISE, ARISING FROM,\n",
        "OUT OF OR IN CONNECTION WITH THE SOFTWARE OR THE USE OR OTHER DEALINGS IN THE\n",
        "SOFTWARE."
      ]
    }
  ]
}