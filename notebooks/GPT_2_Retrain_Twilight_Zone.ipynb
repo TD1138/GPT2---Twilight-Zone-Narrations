{
  "nbformat": 4,
  "nbformat_minor": 0,
  "metadata": {
    "colab": {
      "name": "GPT-2 Retrain - Twilight Zone",
      "provenance": [],
      "collapsed_sections": [],
      "include_colab_link": true
    },
    "kernelspec": {
      "name": "python3",
      "display_name": "Python 3"
    },
    "accelerator": "GPU"
  },
  "cells": [
    {
      "cell_type": "markdown",
      "metadata": {
        "id": "view-in-github",
        "colab_type": "text"
      },
      "source": [
        "<a href=\"https://colab.research.google.com/github/TD1138/GPT2---Twilight-Zone-Narrations/blob/main/notebooks/GPT_2_Retrain_Twilight_Zone.ipynb\" target=\"_parent\"><img src=\"https://colab.research.google.com/assets/colab-badge.svg\" alt=\"Open In Colab\"/></a>"
      ]
    },
    {
      "cell_type": "markdown",
      "metadata": {
        "id": "H7LoMj4GA4n_"
      },
      "source": [
        "#  Retraining GPT-2 to output Twilight Zone Narrations!\n",
        "\n",
        "by Tom Devine\n",
        "\n",
        "\n",
        "The Twilight Zone is one of my favourite shows!\n",
        "\n",
        "Created by Rod Serling, this 1950s show was groundbreaking for it's era, mixing science fiction and fantasy with tales of morality - going on to influence thousands of creators since - recent shows such as Black Mirror owe a huge debt to this anthology show!\n",
        "\n",
        "Rod Serling, alongside show-running and plot duties, narrated each episode, providing an introduction to each story, as well as a closing narration, often highlighting the moral aspect of the story.\n",
        "\n",
        "It is these narrations that I'll be retraining GPT-2 to output!"
      ]
    },
    {
      "cell_type": "markdown",
      "metadata": {
        "id": "wkin80pzdI1T"
      },
      "source": [
        "Lets import the standard packages:"
      ]
    },
    {
      "cell_type": "code",
      "metadata": {
        "id": "51gg_C52dPa1"
      },
      "source": [
        "import pandas as pd\r\n",
        "import numpy as np\r\n",
        "import requests"
      ],
      "execution_count": 1,
      "outputs": []
    },
    {
      "cell_type": "markdown",
      "metadata": {
        "id": "4lbsGk1qERaj"
      },
      "source": [
        "# Text Pre-processing"
      ]
    },
    {
      "cell_type": "markdown",
      "metadata": {
        "id": "Kl-xOMPVDh5d"
      },
      "source": [
        "Originally I was going to scrape these narrations from Wikipedia, but I managed to obtain a copy of them from an angelfire website!\r\n",
        "https://www.angelfire.com/fl/twilightzonelist/openingnarrations.html\r\n",
        "\r\n",
        "Let's import the dataset:"
      ]
    },
    {
      "cell_type": "code",
      "metadata": {
        "colab": {
          "base_uri": "https://localhost:8080/",
          "height": 139
        },
        "id": "2g_jupiiC7dG",
        "outputId": "7bc65f6e-66da-4959-8b2f-c222fd7ef2ea"
      },
      "source": [
        "url = 'https://raw.githubusercontent.com/TD1138/GPT2---Twilight-Zone-Narrations/main/text_files/all_opening_narrations.txt'\r\n",
        "resp = requests.get(url)\r\n",
        "tz_file = resp.text\r\n",
        "tz_file"
      ],
      "execution_count": 2,
      "outputs": [
        {
          "output_type": "execute_result",
          "data": {
            "application/vnd.google.colaboratory.intrinsic+json": {
              "type": "string"
            },
            "text/plain": [
              "\"1) Where is Everybody?\\r\\nThe place is here, the time is now, and the journey into the shadows that we're about to watch could be our journey.\\r\\n\\r\\n2) One for the Angels\\r\\nStreet scene: summer. The present. Man on a sidewalk named Lew Bookman, age sixtyish. Occupation: pitchman. Lew Bookman, a fixture of the summer, a rather minor component to a hot July, a nondescript, commonplace little man whose life is a treadmill built out of sidewalks. In just a moment, Lew Bookman will have to concern himself with survival, because as of three o'clock this hot July afternoon he'll be stalked by Mr. Death.\\r\\n\\r\\n3) Mr. Denton on Doomsday\\r\\nPortrait of a town drunk named Al Denton. This is a man who's begun his dying early - a long, agonizing route through a maze of bottles. Al Denton, who would probably give an arm or a leg or a part of his soul to have another chance, to be able to rise up and shake the dirt from his body and the bad dreams that infest his consciousness. In the parlance of the times, this is a peddler, a rather fanciful-looking little man in a black frock coat. And this is the third principal character of our story. Its function: perhaps to give Mr. Al Denton his second chance.\\r\\n\\r\\n4) The Sixteen Millimeter Shrine\\r\\nPicture of a woman looking at a picture. Movie great of another time, once-brilliant star in a firmament no longer a part of the sky, eclipsed by the movement of earth and time. Barbara Jean Trenton, whose world is a projection room, whose dreams are made out of celluloid. Barbara Jean Trenton, struck down by hit-and-run years and lying on the unhappy pavement, trying desperately to get the license number of fleeting fame.\\r\\n\\r\\n5) Walking Distance\\r\\nMartin Sloan, age thirty-six. Occupation: vice-president, ad agency, in charge of media. This is not just a Sunday drive for Martin Sloan. He perhaps doesn't know it at the time, but it's an exodus. Somewhere up the road he's looking for sanity. And somewhere up the road, he'll find something else.\\r\\n\\r\\n6) Escape Clause\\r\\nYou're about to meet a hypochondriac. Witness Mr. Walter Bedeker, age forty-four, afraid of the following: death, disease, other people, germs, draft, and everything else. He has one interest in life, and that's Walter Bedeker. One preoccupation: the life and well-being of Walter Bedeker. One abiding concern about society: that if Walter Bedeker should die, how will it survive without him?\\r\\n\\r\\n7) The Lonely\\r\\nWitness if you will a dungeon, made out of mountains, salt flats and sand that stretch to infinity. The dungeon has an inmate: James A. Corry. And this is his residence: a metal shack. An old touring car that squats in the sun and goes nowhere - for there is nowhere to go. For the record let it be known that James A. Corry is a convicted crimi nal placed in solitary confinement. Confinement in this case stretches as far as the eye can see, because this particular dungeon is on an asteroid nine million miles from the Earth. Now witness if you will a man's mind and body shrivelling in the sun, a man dying of loneliness.\\r\\n\\r\\n8) Time Enough at Last\\r\\nWitness Mr. Henry Bemis, a charter member in the fraternity of dreamers. A bookish little man whose passion is the printed page but who is conspired against by a bank president and a wife and a world full of tongue-cluckers and the unrelenting hands of a clock. But in just a moment Mr. Bemis will enter a world without bank presidents or wives or clocks or anything else. He'll have a world all to himself without anyone.\\r\\n\\r\\n9) Perchance to Dream\\r\\nTwelve o'clock noon. An ordinary scene, an ordinary city. Lunchtime for thousands of ordinary people. To most of them, this hour will be a rest, a pleasant break in the day's routine. To most, but not all. To Edward Hall, time is an enemy, and the hour to come is a matter of life and death.\\r\\n\\r\\n10) Judgment Night\\r\\nHer name is the S.S. Queen of Glasgow. Her registry: British. Gross tonnage: five thousand. Age: indeterminate. At this moment she's one day out of Liverpool, her destination New York. Duly recorded on this ship's log is the sailing time, course to destination, weather conditions, temperature, longitude and latitude. But what is never recorded in a log is the fear that washes over a deck like fog and ocean spray. Fear like the throbbing strokes of engine pistons, each like a heartbeat, parceling out every hour into breathless minutes of watching, waiting and dreading. For the year is 1942, and this particular ship has lost its convoy. It travels alone like an aged blind thing groping through the unfriendly dark, stalked by unseen periscopes of steel killers. Yes, the Queen of Glasgow is a frightened ship, and she carries with her a premonition of death.\\r\\n\\r\\n11) And When the Sky was Opened\\r\\nHer name: X-20. Her type: an experimental interceptor. Recent history: a crash landing in the Mojave Desert after a thirty-one hour flight nine hundred miles into space. Incidental data: the ship, with the men who flew her, disappeared from the radar screen for twenty-four hours. But the shrouds that cover mysteries are not always made out of a tarpaulin, as this man will soon find out on the other side of a hospital door.\\r\\n\\r\\n12) What You Need\\r\\nYou're looking at Mr. Fred Renard, who carries on his shoulder a chip the size of the national debt. This is a sour man, a friendless man, a lonely man, a grasping, compulsive, nervous man. This is a man who has lived thirty-six undistinguished, meaningless, pointless, failure-laden years and who at this moment looks for an escape - any escape, any way, anything, anybody - to get out of the rut. And this little old man is just what Mr. Renard is waiting for.\\r\\n\\r\\n13) The Four of Us are Dying\\r\\nHis name is Arch Hammer. He's thirty-six years old. He's been a salesman, a dispatcher, a truck driver, a con man, a bookie, and a part-time bartender. This is a cheap man, a nickel and dime man, with a cheapness that goes past the suit and the shirt; a cheapness of mind, a cheapness of taste, a tawdry little shine on the seat of his conscience, and a dark-room squint at a world whose sunlight has never gotten through to him. But Mr. Hammer has a talent, discovered at a very early age. This much he does have. He can make his face change. He can twitch a muscle, move a jaw, concentrate on the cast of his eyes, and he can change his face. He can change it into anything he wants. Mr. Archie Hammer, jack of all trades, has just checked in at three-eighty a night, with two bags, some newspaper clippings, a most odd talent, and a master plan to destroy some lives.\\r\\n\\r\\n14) Third From the Sun\\r\\nQuitting time at the plant. Time for supper now. Time for families. Time for a cool drink on a porch. Time for the quiet rustle of leaf-laden trees that screen out the moon. And underneath it all, behind the eyes of the men, hanging invisible over the summer night, is a horror without words. For this is the stillness before storm. This is the eve of the end.\\r\\n\\r\\n15) I Shot an Arrow Into the Air\\r\\nHer name is the Arrow One. She represents four and a half years of planning, preparation and training, and a thousand years of science and mathematics and the projected dreams and hopes of not only a nation but a world. She is the first manned aircraft into space. And this is the countdown, the last five seconds before man shot an arrow into the air.\\r\\n\\r\\n16) The Hitch-Hiker\\r\\nHer name is Nan Adams. She's twenty-seven years old. Her occupation: buyer at a New York department store, at present on vacation, driving cross-country to Los Angeles, California, from Manhattan. Minor incident on Highway 11 in Pennsylvania, perhaps to be filed away under accidents you walk away from. But from this moment on, Nan Adams's companion on a trip to California will be terror; her route - fear; her destination - quite unknown.\\r\\n\\r\\n17) The Fever\\r\\nMr. and Mrs. Franklin Gibbs, three days and two nights, all expenses paid, at a Las Vegas hotel, won by virtue of Mrs. Gibbs's knack with a phrase. But unbeknownst to either Mr. or Mrs. Gibbs is the fact that there's a prize in their package neither expected nor bargained for. In just a moment one of them will succumb to an illness worse than any virus can produce, a most inoperative, deadly, life-shattering affliction known as the fever.\\r\\n\\r\\n18) The Last Flight\\r\\nWitness Flight Lieutenant William Terrance Decker, Royal Flying Corps, returning from a patrol somewhere over France. The year is 1917. The problem is that the Lieutenant is hopelessly lost. Lieutenant Decker will soon discover that a man can be lost not only in terms of maps and miles, but also in time, and time in this case can be measured in eternities.\\r\\n\\r\\n19) The Purple Testament\\r\\nInfantry platoon, U.S. Army, Phillipine Islands, 1945. These are the faces of the young men who fight. As if some omniscient painter had mixed a tube of oils that were at one time earth brown, dust gray, blood red, beard black, and fear - yellow white, and these men were the models. For this is the province of combat and these are the faces of war.\\r\\n\\r\\n20) Elegy\\r\\nThe time is the day after tomorrow. The place: a far corner of the universe. The cast of characters: three men lost amongst the stars, three men sharing the common urgency of all men lost - they're looking for home. And in a moment they'll find home, not a home that is a place to be seen but a strange, unexplainable experience to be felt.\\r\\n\\r\\n21) Mirror Image\\r\\nMillicent Barnes, age twenty-five, young woman waiting for a bus on a rainy November night. Not a very imaginative type is Miss Barnes, not given to undue anxiety or fears, or for that matter even the most temporal flights of fancy. Like most young career women, she has a generic classification as a, quote, girl with a head on her shoulders, end of quote. All of which is mentioned now because in just a moment the head on Miss Barnes's shoulders will be put to a test. Circumstances will assault her sense of reality and a chain of nightmares will put her sanity on a block. Millicent Barnes, who in one minute will wonder is she's going mad.\\r\\n\\r\\n22) The Monsters are Due on Maple Street\\r\\nMaple Street, U.S.A. Late summer. A tree-lined little world of front porch gliders, barbecues, the laughter of children, and the bell of an ice-cream vendor. At the sound of the roar and the flash of light, it will be precisely 6:43pm on Maple Street. This is Maple Street on a late Saturday afternoon. Maple Street, in the last calm and reflective moment before the monsters came.\\r\\n\\r\\n23) A World of Difference\\r\\nYou're looking at a tableau of reality, things of substance, of physical material: a desk, a window, a light. These things exist and have dimension. Now this is Arthur Curtis, age thirty-six, who also is real. He has flesh and blood, muscle and mind. But in just a moment we will see how thin a line separates that which we assume to be real with that manufactured inside of a mind.\\r\\n\\r\\n24) Long Live Walter Jameson\\r\\nYou're looking at Act One, Scene One, of a nightmare, one not restricted to witching hours or dark, rainswept nights. Professor Walter Jameson, popular beyond words, who talks of the past as if it were the present, who conjures up the dead as if they were alive. In the view of this man, Professor Samuel Kittridge, Walter Jameson has access to knowledge that couldn't come out of a volume of history, but rather from a book on black magic, which is to say that this nightmare begins at noon.\\r\\n\\r\\n25) People Are Alike All Over\\r\\nYou're looking at a species of flimsy little two-legged animal with extremely small heads whose name is man. Warren Marcusson, age thirty-five. Samuel A. Conrad, age thirty-one. They're taking a highway into space, Man unshackling himself and sending his tiny, groping fingers up into the unknown. Their destination is Mars, and in just a moment we'll land there with them.\\r\\n\\r\\n26) Execution\\r\\nCommonplace, if somewhat grim, unsocial event known as a necktie party, the guest of dishonor a cowboy named Joe Caswell, just a moment away from a rope, a short dance several feet off the ground, and then the dark eternity of all evil men. Mr. Joe Caswell, who, when the good Lord passed out a conscience, a heart, a feeling for fellow men, must have been out for a beer and missed out. Mr. Joe Caswell, in the last quiet moment of a violent life.\\r\\n\\r\\n27) The Big Tall Wish\\r\\nIn this corner of the universe, a prizefighter named Bolie Jackson, one hundred eighty-three pounds and an hour and a half away from a comeback at St. Nick's Arena. Mr. Bolie Jackson, who by the standards of his profession is an aging, over-the-hill relic of what was, and who now sees a reflection of a man who has left too many pieces of his youth in too many stadiums for too many years before too many screaming people. Mr. Bolie Jackson, who might do well to look for some gentle magic in the hard-surfaced glass that stares back at him.\\r\\n\\r\\n28) A Nice Place to Visit\\r\\nPortrait of a man at work, the only work he's ever done, the only work he knows. His name is Henry Francis Valentine but he calls himself Rocky, because that's the way his life has been - rocky and perilous and uphill at a dead run all the way. He's tired now, tired of running or wanting, of waiting for the breaks that come to others but never to him, never to Rocky Valentine. A scared, angry little man. He thinks it's all over now but he's wrong. For Rocky Valentine, it's just the beginning.\\r\\n\\r\\n29) Nightmare as a Child\\r\\nMonth of November, hot chocolate, and a small cameo of a child's face, imperfect only in its solemnity. And these are the improbable ingredients to a human emotion, an emotion, say, like fear. But in a moment this woman, Helen Foley, will realize fear. She will understand what are the properties of terror. A little girl will lead her by the hand and walk with her into a nightmare.\\r\\n\\r\\n30) A Stop at Willoughby\\r\\nThis is Gart Williams, age thirty-eight, a man protected by a suit of armor all held together by one bolt. Just a moment ago, someone removed the bolt, and Mr. Williams's protection fell away from him and left him a naked target. He's been cannonaded this afternoon by all the enemies of his life. His insecurity has shelled him, his sensitivity has straddled him with humiliation, his deep-rooted disquiet about his own worth has zeroed in on him, landed on target, and blown him apart. Mr. Gart Williams, ad agency exec, who in just a moment will move into the Twilight Zone, in a desperate search for survival.\\r\\n\\r\\n31) The Chaser\\r\\nMr. Roger Shackleforth. Age: youthful twenties. Occupation: being in love. Not just in love, but madly, passionately, illogically, miserably, all-consumingly in love, with a young woman named Leila who has a vague recollection of his face and even less than a passing interest. In a moment you'll see a switch, because Mr. Roger Shackleforth, the young gentleman so much in love, will take a short but very meaningful journey into the Twilight Zone.\\r\\n\\r\\n32) A Passage for Trumpet\\r\\nJoey Crown, musician with an odd, intense face, whose life is a quest for impossible things like flowers in concrete or like trying to pluck a note of music out of the air and put it under glass to treasure. Joey Crown, musician with an odd, intense face, who in a moment will try to leave the Earth and discover the middle ground - the place we call the Twilight Zone.\\r\\n\\r\\n33) Mr. Bevis\\r\\nIn the parlance of the twentieth century, this is an oddball. His name is James B.W. Bevis, and his tastes lean toward stuffed animals, zither music, professional football, Charles Dickens, moose heads, carnivals, dogs, children, and young ladies. Mr. Bevis is accident prone, a little vague, a little discombooberated, with a life that possesses all the security of a floating crap game. But this can be said of our Mr. Bevis: without him, without his warmth, without his kindness, the world would be a considerably poorer place, albeit perhaps a little saner. Should it not be obvious by now, James B.W. Bevis is a fixture in his own private, optimistic, hopeful little world, a world which has long ceased being surprised by him. James B.W. Bevis, on whom Dame Fortune will shortly turn her back, but not before she gives him a paste in the mouth. Mr. James B.W. Bevis, just one block away from the Twilight Zone.\\r\\n\\r\\n34) The After Hours\\r\\nExpress elevator to the ninth floor of a department store, carrying Miss Marsha White on a most prosaic, ordinary, run of the mill errand. Miss Marsha White on the ninth floor, specialties department, looking for a gold thimble. The odds are she'll find it, but there are even better odds that she'll find something else, because this isn't just a department store. This happens to be the Twilight Zone.\\r\\n\\r\\n35) The Mighty Casey\\r\\nWhat you're looking at is a ghost, once alive but now deceased. Once upon a time, it was a baseball stadium that housed a major-league ballclub known as the Hoboken Zephyrs. Now it houses nothing but memories and a wind that stirs in the high grass of what was once an outfield, a wind that sometimes bears a faint, ghostly resemblance to the roar of a crowd that once sat here. We're back in time now, when the Hoboken Zephyrs were still a part of the National League and this mausoleum of memories was an honest-to-Pete stadium. But since this is strictly a story of make-believe, it has to start this way. Once upon a time, in Hoboken, New Jersey, it was tryout day. And though he's not yet on the field, you're about to meet a most unusual fellow, a left-handed pitched named Casey.\\r\\n\\r\\n36) A World of His Own\\r\\nThe home of Mr. Gregory West, one of America's most noted playwrights. The office of Mr. Gregory West. Mr Gregory West - shy, quiet, and at the moment very happy. Mary - warm, affectionate. And the final ingredient - Mrs. Gregory West.\\r\\n\\r\\n37) King Nine Will Not Return\\r\\nThis is Africa, 1943. War spits out its violence overhead and the sandy graveyard swallows it up. Her name is King Nine, B-25, medium bomber, Twelfth Air Force. On a hot, still morning she took off from Tunisia to bomb the southern tip of Italy. An errant piece of flak tore a hole in a wing tank and, like a wounded bird, this is where she landed, not to return on this day, or any other day.\\r\\n\\r\\n38) The Man in the Bottle\\r\\nMr. and Mrs. Arthur Castle, gentle and infinitely patient people, whose lives have been a hope chest with a rusty lock and a lost set of keys. But in just a moment that hope chest will be opened, and an improbable phantom will try to bedeck the drabness of these two people's failure-laden lives with the gold and precious stones of fulfillment. Mr. and Mrs. Arthur Castle, standing on the outskirts and about to enter the Twilight Zone.\\r\\n\\r\\n39) Nervous Man in a Four Dollar Room\\r\\nThis is Mr. Jackie Rhoades, age thirty-four, and where some men leave a mark of their lives as a record of their fragmentary existence on Earth, this man leaves a blot, a dirty, discolored blemish to document a cheap and undistinguished sojourn amongst his betters. What you're about to watch in this room is a strange, mortal combat between a man and himself, for in just a moment Mr. Jackie Rhoades, whose life has been given over to fighting adversaries, will find his most formidable opponent in a cheap hotel room that is in reality the outskirts of the Twilight Zone.\\r\\n\\r\\n40) A Thing About Machines\\r\\nThis is Mr. Bartlett Finchley, age forty-eight, a practicing sophisticate who writes very special and very precious things for gourmet magazines and the like. He's a bachelor and a recluse with few friends, only devotees and adherents to the cause of tart sophistry. He has no interests save whatever current annoyances he can put his mind to. He has no purpose to his life except the formulation of day-to-day opportunities to vent his wrath on mechanical contrivances of an age he abhors. In short, Mr. Bartlett Finchley is a malcontent, born either too late or too early in the century, and who in just a moment will enter a realm where muscles and the will to fight back are not limited to human beings. Next stop for Mr. Bartlett Finchley - the Twilight Zone.\\r\\n\\r\\n41) The Howling Man\\r\\nThe prostrate form of Mr. David Ellington, scholar, seeker of truth and, regrettably, finder of truth. A man who will shortly arise from his exhaustion to confront a problem that has tormented mankind since the beginning of time. A man who knocked on a door seeking sanctuary and found instead the outer edges of the Twilight Zone.\\r\\n\\r\\n42) The Eye of the Beholder\\r\\nSuspended in time and space for a moment, your introduction to Miss Janet Tyler, who lives in a very private world of darkness, a universe whose dimensions are the size, thickness, length of a swath of bandages that cover her face. In a moment we'll go back into this room and also in a moment we'll look under those bandages, keeping in mind, of course, that we're not to be surprised by what we see, because this isn't just a hospital, and this patient 307 is not just a woman. This happens to be the Twilight Zone, and Miss Janet Tyler, with you, is about to enter it.\\r\\n\\r\\n43) Nick of Time\\r\\nThe hand belongs to Mr. Don S. Carter, male member of a honeymoon team en route across the Ohio countryside to New York City. In one moment, they will be subjected to a gift most humans never receive in a lifetime. For one penny, they will be able to look into the future. The time is now, the place is a little diner in Ridgeview, Ohio, and what this young couple doesn't realize is that this town happens to lie on the outskirts of the Twilight Zone.\\r\\n\\r\\n44) The Lateness of the Hour\\r\\nThe residence of Dr. William Loren, which is in reality a menagerie for machines. We're about to discover that sometimes the product of man's talent and genius can walk amongst us untouched by the normal ravages of time. These are Dr. Loren's robots, built to functional as well as artistic perfection. But in a moment Dr. William Loren, wife and daughter will discover that perfection is relative, that even robots have to be paid for, and very shortly will be shown exactly what is the bill.\\r\\n\\r\\n45) The Trouble With Templeton\\r\\nPleased to present for your consideration Mr. Booth Templeton, serious and successful star of over thirty Broadway plays, who is not quite all right today. Yesterday and its memories is what he wants, and yesterday is what he'll get. Soon his years and his troubles will descend on him in an avalanche. In order not to be crushed, Mr. Booth Templeton will escape from his theater and his world and make his debut on another stage in another world that we call the Twilight Zone.\\r\\n\\r\\n46) A Most Unusual Camera\\r\\nA hotel suite that in this instance serves as a den of crime, the aftermath of a rather minor event to be noted on a police blotter, an insurance claim, perhaps a three-inch box on page twelve of the evening paper. Small addenda to be added to the list of the loot: a camera, a most unimposing addition to the flotsam and jetsam that it came with, hardly worth mentioning really, because cameras are cameras, some expensive, some purchasable at five-and-dime stores. But this camera, this one's unusual, because in just a moment we'll watch it inject itself into the destinies of three people. It happens to be a fact that the pictures that it takes can only be developed in the Twilight Zone.\\r\\n\\r\\n47) Night of the Meek\\r\\nThis is Mr. Henry Corwin, normally unemployed, who once a year takes the lead role in the uniquely popular American institute, that of department-store Santa Claus in a road company version of 'The Night Before Christmas.' But in just a moment Mr. Henry Corwin, ersatz Santa Claus, will enter a strange kind of North Pole which is one part the wondrous spirit of Christmas and one part the magic that can only be found in the Twilight Zone.\\r\\n\\r\\n48) Dust\\r\\nThere was a village, built of crumbling clay and rotting wood, and it squatted ugly under a broiling sun like a sick and mangy animal wanting to die. This village had a virus, shared by its people. It was the germ of squalor, of hopelessness, of a loss of faith. For the faithless, the hopeless, the misery-laden, there is time, ample time, to engage in one of the other pursuits of men. They begin to destroy themselves.\\r\\n\\r\\n49) Back There\\r\\nWitness a theoretical argument, Washington D.C., the present. Four intelligent men talking about an improbable thing like going back in time. A friendly debate revolving around a simple issue: could a human being change what has happened before? Interesting and theoretical because who ever heard of a man going back in time, before tonight, that is. Because this is the Twilight Zone.\\r\\n\\r\\n50) The Whole Truth\\r\\nThis, as the banner already has proclaimed, is Mr. Harvey Hunnicut, an expert on commerce and con jobs, a brash, bright, and larceny-loaded wheeler and dealer who, when the good lord passed out a conscience, must have gone for a beer and missed out. And these are a couple of other characters in our story: a little old man and a Model A car - but not just any old man and not just any Model A. There's something very special about the both of them. As a matter of fact, in just a few moments they'll give Harvey Hunnicut something that he's never experienced before. Through the good offices of a little magic, they will unload on Mr. Hunnicut the absolute necessity to tell the truth. Exactly where they come from is conjectural, but as to where they're heading for, this we know, because all of them - and you - are on the threshold of the Twilight Zone.\\r\\n\\r\\n51) The Invaders\\r\\nThis is one of the out-of-the-way places, the unvisited places, bleak, wasted, dying. This is a farmhouse, handmade, crude, a house without electricity or gas, a house untouched by progress. This is the woman who lives in the house, a woman who's been alone for many years, a strong, simple woman whose only problem up until this moment has been that of acquiring enough food to eat, a woman about to face terror which is even now coming at her from the Twilight Zone.\\r\\n\\r\\n52) A Penny for Your Thoughts\\r\\nMr. Hector B. Poole, resident of the Twilight Zone. Flip a coin and keep flipping it. What are the odds? Half the time it will come up heads, half the time tails. But in one freakish chance in a million, it'll land on its edge. Mr. Hector B. Poole, a bright human coin, on his way to the bank.\\r\\n\\r\\n53) Twenty-Two\\r\\nThis is Miss Liz Powell. She's a professional dancer and she's in the hospital as a result of overwork and nervous fatigue. And at this moment we have just finished walking with her in a nightmare. In a moment she'll wake up and we'll remain at her side. The problem here is that both Miss Powell and you will reach a point where it might be difficult to decide which is reality and which is nightmare, a problem uncommon perhaps but rather peculiar to the Twilight Zone.\\r\\n\\r\\n54) The Odyssey of Flight 33\\r\\nYou're riding on a jet airliner en route from London to New York. You're at 35,000 feet atop an overcast and roughly fifty-five minutes from Idlewild Airport. But what you've seen occur inside the cockpit of this plane is no reflection on the aircraft or the crew. It's a safe, well-engineered, perfectly designed machine, and the men you've just met are a trained, cool, highly efficient team. The problem is simply that the plane is going too fast and there is nothing within the realm of knowledge or at least logic to explain it. Unbeknownst to passenger and crew, this airplane is heading into an unchartered region well off the beaten track of commercial travelers. It's moving into the Twilight Zone. What you're about to see we call 'The Odyssey of Flight 33.\\r\\n\\r\\n55) Mr. Dingle, the Strong\\r\\nUniquely American institution known as the neighborhood bar. Reading left to right are Mr. Anthony O'Toole, proprietor who waters his drinks like geraniums but who stands foursquare for peace and quiet and for booths for ladies. This is Mr. Joseph J. Callahan, an unregistered bookie, whose entire life is any sporting event with two sides and a set of odds. His idea of a meeting at the summit is any dialogue between a catcher and a pitcher with more than one man on base. And this animated citizen is every anonymous bettor who ever dropped rent money on a horse race, a prize fight, or a floating crap game, and who took out his frustrations and his insolvency on any vulnerable fellow barstool companion within arm's and fist's reach. And this is Mr. Luther Dingle, a vacuum-cleaner salesman whose volume of business is roughly that of a valet at a hobo convention. He's a consummate failure in almost everything but is a good listener and has a prominent jaw. And these two unseen gentlemen are visitors from outer space. They are about to alter the destiny of Luther Dingle by leaving him a legacy, the kind you can't hardly find no more. In just a moment, a sad-faced perennial punching bag who missed even the caboose of life's gravy train will take a short constitutional into that most unpredictable region that we refer to as the Twilight Zone.\\r\\n\\r\\n56) Static\\r\\nNo one ever saw one quite like that, because that's a very special sort of radio. In its day, circa 1935, its type was one of the most elegant consoles on the market. Now, with its fabric-covered speakers, its peculiar yellow dial, its serrated knobs, it looks quaint and a little strange. Mr. Ed Lindsay is going to find out how strange very soon when he tunes in to the Twilight Zone.\\r\\n\\r\\n57) The Prime Mover\\r\\nPortrait of a man who thinks and thereby gets things done. Mr. Jimbo Cobb might be called a prime mover, a talent which has to be seen to be believed. In just a moment, he'll show his friends and you how he keeps both feet on the ground and his head in the Twilight Zone.\\r\\n\\r\\n58) Long Distance Call\\r\\nAs must be obvious, this is a house hovered over by Mr. Death, that omnipresent player to the third and final act of every life. And it's been said, and probably rightfully so, that what follows this life is one of the unfathomable mysteries, an area of darkness which we the living reserve for the dead - or so it is said. For in a moment, a child will try to cross that bridge which separates light and shadow, and of course he must take the only known route, that indistinct highway through the region we call the Twilight Zone.\\r\\n\\r\\n59) A Hundred Yards Over the Rim\\r\\nThe year is 1847, the place is the territory of New Mexico, the people are a tiny handful of men and women with a dream. Eleven months ago, they started out from Ohio and headed west. Someone told them about a place called California, about a warm sun and a blue sky, about rich land and fresh air, and at this moment almost a year later they've seen nothing but cold, heat, exhaustion, hunger, and sickness. This man's name is Christian Horn. He has a dying eight year-old son and a heartsick wife, and he's the only one remaining who has even a fragment of the dream left. Mr. Chris Horn, who's going over the top of a rim to look for water and sustenance and in a moment will move into the Twilight Zone.\\r\\n\\r\\n60) The Rip Van Winkle Caper\\r\\nIntroducing four experts in the questionable art of crime. Mr. Farwell, expert on noxious gases, former professor with a doctorate in both chemistry and physics. Mr. Erbie, expert on mechanical engineering. Mr. Brooks, expect in the use of firearms and other weaponry. And Mr. DeCruz, expert in demolition and various forms of destruction. The time is now and the place is a mountain cave in Death Valley, U.S.A. In just a moment, these four men will utilize the services of a truck placed in cosmoline, loaded with a hot heist cooled off by a century of sleep, and then take a drive into the Twilight Zone.\\r\\n\\r\\n61) The Silence\\r\\nThe note that this man is carrying across a club room is in the form of a proposed wager, but it's the kind of wager that comes without precedent. It stands alone in the annals of bet-making as the strangest game of chance ever offered by one man to another. In just a moment, we'll see the terms of the wager and what young Mr. Tennyson does about it. And in the process, we'll witness all parties spin a wheel of chance in a very bizarre casino called the Twilight Zone.\\r\\n\\r\\n62) Shadow Play\\r\\nAdam Grant, a nondescript kind of man found guilty of murder and sentenced to the electric chair. Like every other criminal caught in the wheels of justice he's scared, right down to the marrow of his bones. But it isn't prison that scares him, the long, silent nights of waiting, the slow walk to the little room, or even death itself. It's something else that holds Adam Grant in the hot, sweaty grip of fear, something worse than any punishment this world has to offer, something found only in the Twilight Zone.\\r\\n\\r\\n63) The Mind and the Matter\\r\\nA brief if frenetic introduction to Mr. Archibald Beechcroft, a child of the twentieth century, a product of the population explosion, and one of the inheritors of the legacy of progress. Mr. Beechcroft again. This time act two of his daily battle for survival. And in just a moment, our hero will begin his personal one-man rebellion against the mechanics of his age, and to do so he will enlist certain aids available only in the Twilight Zone.\\r\\n\\r\\n64) Will the Real Martian Please Stand Up\\r\\nWintry February night, the present. Order of events: a phone call from a frightened woman notating the arrival of an unidentified flying object, then the check-out you've just witnessed with two state troopers verifying the event, but with nothing more enlightening to add beyond evidence of some tracks leading across the highway to a diner. You've heard of trying to find a needle in a haystack? Well, stay with us now and you'll be part of an investigating team whose mission is not to find that proverbial needle. No, their task is even harder. They've got to find a Martian in a diner, and in just a moment you'll search with them, because you've just landed in the Twilight Zone.\\r\\n\\r\\n65) The Obsolete Man\\r\\nYou walk into this room at your own risk, because it leads to the future, not a future that will be but one that might be. This is not a new world, it is simply an extension of what began in the old one. It has patterned itself after every dictator who has ever planted the ripping imprint of a boot on the pages of history since the beginning of time. It has refinements, technological advances, and a more sophisticated approach to the destruction of human freedom. But like every one of the superstates that preceded it, it has one iron rule: logic is an enemy and truth is a menace. This is Mr. Romney Wordsworth, in his last forty-eight hours on Earth. He's a citizen of the State but will soon have to be eliminated, because he is built out of flesh and because he has a mind. Mr. Romney Wordsworth, who will draw his last breaths in the Twilight Zone.\\r\\n\\r\\n66) Two\\r\\nThis is a jungle, a monument built by nature honoring disuse, commemorating a few years of nature being left to its own devices. But it's another kind of jungle, the kind that comes in the aftermath of man's battles against himself. Hardly an important battle, not a Gettysburg or a Marne or an Iwo Jima. More like one insignificant corner patch in the crazy quilt of combat. But it was enough to end the existence of this little city. It's been five years since a human being walked these streets. This is the first day of the sixth year, as man used to measure time. The time? Perhaps a hundred years from now. Or sooner. Or perhaps it's already happened two million years ago. The place? The signposts are in English so that we may read them more easily, but the place is the Twilight Zone.\\r\\n\\r\\n67) The Arrival\\r\\nThis object, should any of you have lived underground for the better parts of your lives and never had occasion to look toward the sky, is an airplane, its official designation a DC-3. We offer this rather obvious comment because this particular airplane, the one you're looking at, is a freak. Now, most airplanes take off and land as per scheduled. On rare occasions they crash. But all airplanes can be counted on doing one or the other. Now, yesterday morning this particular airplane ceased to be just a commercial carrier. As of its arrival it became an enigma, a seven-ton puzzle made out of aluminum, steel, wire and a few thousand other component parts, none of which add up to the right thing. In just a moment, we're going to show you the tail end of its history. We're going to give you ninety percent of the jigsaw pieces and you and Mr. Sheckly here of the Federal Aviation Agency will assume the problem of putting them together along with finding the missing pieces. This we offer as an evening's hobby, a little extracurricular diversion which is really the national pastime in the Twilight Zone.\\r\\n\\r\\n68) The Shelter\\r\\nWhat you are about to watch is a nightmare. It is not meant to be prophetic, it need not happen, it's the fervent and urgent prayer of all men of good will that it never shall happen. But in this place, in this moment, it does happen. This is the Twilight Zone.\\r\\n\\r\\n69) The Passersby\\r\\nThis road is the afterwards of the Civil War. It began at Fort Sumter, South Carolina, and ended at a place called Appomattox. It's littered with the residue of broken battles and shattered dreams. In just a moment, you will enter a strange province that knows neither North nor South, a place we call the Twilight Zone.\\r\\n\\r\\n70) A Game of Pool\\r\\nJesse Cardiff, pool shark, the best on Randolph Street, who will soon learn that trying to be the best at anything carries its own special risks in or out of the Twilight Zone.\\r\\n\\r\\n71) The Mirror\\r\\nThis is the face of Ramos Clemente, a year ago a beardless, nameless worker of the dirt who plodded behind a mule, furrowing someone else's land. And he looked up at a hot Central American sun and he pledged the impossible. He made a vow that he would lead an avenging army against the tyranny that put the ache in his back and the anguish in his eyes, and now one year later the dream of the impossible has become a fact. In just a moment we will look deep into this mirror and see the aftermath of a rebellion in the Twilight Zone.\\r\\n\\r\\n72) The Grave\\r\\nNormally, the old man would be correct. This would be the end of the story. We've had the traditional shoot-out on the street and the badman will soon be dead. But some men of legend and folk tale have been known to continue having their way even after death. The outlaw and killer Pinto Sykes was such a person, and shortly we'll see how he introduces the town and a man named Conny Miller, in particular, to the Twilight Zone.\\r\\n\\r\\n73) It's a Good Life\\r\\nTonight's story on The Twilight Zone is somewhat unique and calls for a different kind of introduction. This, as you may recognize, is a map of the United States, and there's a little town there called Peaksville. On a given morning not too long ago, the rest of the world disappeared and Peaksville was left all alone. Its inhabitants were never sure whether the world was destroyed and only Peaksville left untouched or whether the village had somehow been taken away. They were, on the other hand, sure of one thing: the cause. A monster had arrived in the village. Just by using his mind, he took away the automobiles, the electricity, the machines - because they displeased him - and he moved an entire community back into the dark ages - just by using his mind. Now I'd like to introduce you to some of the people in Peaksville, Ohio. This is Mr. Fremont. It's in his farmhouse that the monster resides. This is Mrs. Fremont. And this is Aunt Amy, who probably had more control over the monster in the beginning than almost anyone. But one day she forgot. She began to sing aloud. Now, the monster doesn't like singing, so his mind snapped at her, turned her into the smiling, vacant thing you're looking at now. She sings no more. And you'll note that the people in Peaksville, Ohio, have to smile. They have to think happy thoughts and say happy things because once displeased, the monster can wish them into a cornfield or change them into a grotesque, walking horror. This particular monster can read minds, you see. He knows every thought, he can feel every emotion. Oh yes, I did forget something, didn't I? I forgot to introduce you to the monster. This is the monster. His name is Anthony Fremont. He's six years old, with a cute little-boy face and blue, guileless eyes. But when those eyes look at you, you'd better start thinking happy thoughts, because the mind behind them is absolutely in charge. This is the Twilight Zone.\\r\\n\\r\\n74) Deaths-Head Revisited\\r\\nMr. Schmidt, recently arrived in a small Bavarian village which lies eight miles northwest of Munich, a picturesque, delightful little spot onetime known for its scenery but more recently related to other events having to do with some of the less positive pursuits of man: human slaughter, torture, misery and anguish. Mr. Schmidt, as we will soon perceive, has a vested interest in the ruins of a concentration camp - for once, some seventeen years ago, his name was Gunther Lutze. He held the rank of a captain in the S.S. He was a black-uniformed strutting animal whose function in life was to give pain, and like his colleagues of the time he shared the one affliction most common amongst that breed known as nazis: he walked the Earth without a heart. And now former S.S. Captain Lutze will revisit his old haunts, satisfied perhaps that all that is awaiting him in the ruins on the hill is an element of nostalgia. What he does not know, of course, is that a place like Dachau cannot exist only in Bavaria. By its nature, by its very nature, it must be one of the populated areas of the Twilight Zone.\\r\\n\\r\\n75) The Midnight Sun\\r\\nThe word that Mrs. Bronson is unable to put into the hot, still, sodden air is 'doomed,' because the people you've just seen have been handed a death sentence. One month ago, the Earth suddenly changed its elliptical orbit and in doing so began to follow a path which gradually, moment by moment, day by day, took it closer to the sun. And all of man's little devices to stir up the air are now no longer luxuries - they happen to be pitiful and panicky keys to survival. The time is five minutes to twelve, midnight. There is no more darkness. The place is New York City and this is the eve of the end, because even at midnight it's high noon, the hottest day in history, and you're about to spend it in the Twilight Zone.\\r\\n\\r\\n76) Still Valley\\r\\nThe time is 1863, the place the state of Virginia. The event is a mass blood-letting known as the Civil War, a tragic moment in time when a nation was split into two fragments, each fragment deeming itself a nation. This is Joseph Paradine, Confederate cavalry, as he heads down toward a small town in the middle of a valley. But very shortly, Joseph Paradine will make contact with the enemy. He will also make contact with an outpost not found on a military map - an outpost called the Twilight Zone.\\r\\n\\r\\n77) The Jungle\\r\\nThe caracass of a goat, a dead finger, a few bits of broken glass and stone, and Mr. Alan Richards, a modern man of a modern age, hating with all his heart something in which he cannot believe and preparing, although he doesn't know it, to take the longest walk of his life, right down to the center of the Twilight Zone.\\r\\n\\r\\n78) Once Upon a Time\\r\\nMr. Mulligan, a rather dour critic of his times, is shortly to discover the import of that old phrase, 'Out of the frying pan, into the fire,' said fire burning brightly at all times in the Twilight Zone.\\r\\n\\r\\n79) Five Characters in Search of an Exit\\r\\nClown, hobo, ballet dancer, bagpiper, and an army major - a collection of question marks. Five improbable entities stuck together into a pit of darkness. No logic, no reason, no explanation; just a prolonged nightmare in which fear, loneliness and the unexplainable walk hand in hand through the shadows. In a moment we'll start collecting clues as to the whys, the whats and the wheres. We will not end the nightmare, we'll only explain it - because this is the Twilight Zone.\\r\\n\\r\\n80) A Quality of Mercy\\r\\nIt's August, 1945, the last grimy pages of a dirty, torn book of war. The place is the Philippine Islands. The men are what's left of a platoon of American Infantry, whose dulled and tired eyes set deep in dulled and tired faces can now look toward a miracle, that moment when the nightmare appears to be coming to an end. But they've got one more battle to fight, and in a moment we'll observe that battle. August, 1945, Philippine Islands. But in reality it's high noon in the Twilight Zone.\\r\\n\\r\\n81) Nothing in the Dark\\r\\nAn old woman living in a nightmare, an old woman who has fought a thousand battles with death and always won. Now she's faced with a grim decision - whether or not to open a door. And in some strange and frightening way she knows that this seemingly ordinary door leads to the Twilight Zone.\\r\\n\\r\\n82) One More Pallbearer\\r\\nWhat you have just looked at takes place three hundred feet underground, beneath the basement of a New York City skyscraper. It's owned and lived in by one Paul Radin. Mr. Radin is rich, eccentric and single-minded. How rich we can already perceive; how eccentric and single-minded we shall see in a moment, because all of you have just entered the Twilight Zone.\\r\\n\\r\\n83) Dead Man's Shoes\\r\\nNathan Edward Bledsoe, of the Bowery Bledsoes, a man once, a specter now. One of those myriad modern-day ghosts that haunt the reeking nights of the city in search of a flop, a handout, a glass of forgetfulness. Nate doesn't know it but his search is about to end, because those shiny new shoes are going to carry him right into the capital of the Twilight Zone.\\r\\n\\r\\n84) The Hunt\\r\\nAn old man and a hound dog named Rip, off for an evening's pleasure in quest of raccoon. Usually, these evenings end with one tired old man, one battle-scarred hound dog and one or more extremely dead raccoons, but as you may suspect that will not be the case tonight. These hunters won't be coming home from the hill. They're headed for the backwoods of the Twilight Zone.\\r\\n\\r\\n85) Showdown With Rance McGrew\\r\\nSome one-hundred-odd years ago, a motley collection of tough moustaches galloped across the West and left behind a raft of legends and legerdemains, and it seems a reasonable conjecture that if there are any television sets up in cowboy heaven and any of these rough-and-wooly nail-eaters could see with what careless abandon their names and exploits are being bandied about, they're very likely turning over in their graves - or worse, getting out of them. Which gives you a clue as to the proceedings that will begin in just a moment, when one Mr. Rance McGrew, a three-thousand-buck-a-week phoney-baloney discovers that this week's current edition of make-believe is being shot on location - and that location is the Twilight Zone.\\r\\n\\r\\n86) Kinck the Can\\r\\nSunnyvale Rest, a home for the aged, a dying place, and a common children's game called kick the can that will shortly become a refuge for a man who knows he will die in this world if he doesn't escape into the Twilight Zone.\\r\\n\\r\\n87) A Piano in the House\\r\\nMr. Fitzgerald Fortune, theatre critic and cynic at large, on his way to a birthday party. If he knew what is in store for him he probably wouldn't go, because before this evening is over that cranky old piano is going to play 'Those Piano Roll Blues' with some effects that could happen only in the Twilight Zone.\\r\\n\\r\\n88) The Last Rites of Jeff Myrtlebank\\r\\nTime, the mid-twenties. Place, the Midwest, the southernmost section of the Midwest. We were just witnessing a funeral, a funeral that didn't come off exactly as planned, due to a slight fallout from the Twilight Zone.\\r\\n\\r\\n89) To Serve Man\\r\\nRespectfully submitted for your perusal: a Kanamit. Height: a little over nine feet. Weight: in the neighborhood of three hundred and fifty pounds. Origin: unknown. Motives? Therein hangs the tale, for in just a moment we're going to ask you to shake hands, figuratively, with a Christopher Columbus from another galaxy and another time. This is the Twilight Zone.\\r\\n\\r\\n90) The Fugitive\\r\\nIt's been said that science fiction and fantasy are two different things: science fiction, the improbable made possible; fantasy, the impossible made probable. What would you have if you put these two different things together? Well, you'd have an old man named Ben who knows a lot of tricks most people don't know and a little girl named Jenny who loves him - and a journey into the heart of the Twilight Zone.\\r\\n\\r\\n91) Little Girl Lost\\r\\nMissing: one frightened little girl. Name: Bettina Miller. Description: six years of age, average height and build, light brown hair, quite pretty. Last seen being tucked in bed by her mother a few hours ago. Last heard - aye, there's the rub, as Hamlet put it. For Bettina Miller can be heard quite clearly, despite the rather curious fact that she can't be seen at all. Present location? Let's say for the moment in the Twilight Zone.\\r\\n\\r\\n92) Person or Persons Unknown\\r\\nCameo of a man who has just lost his most valuable possession. He doesn't know about the loss yet. In fact, he doesn't even know about the possession. Because, like most people, David Gurney has never really thought about the matter of his identity. But he's going to be thinking a great deal about it from now on, because that is what he's lost. And his search for it is going to take him into the darkest corners of the Twilight Zone.\\r\\n\\r\\n93) The Little People\\r\\nThe time is the space age, the place is a barren landscape of a rock-walled canyon that lies millions of miles from the planet Earth. The cast of characters? You've met them: William Fletcher, commander of the spaceship; his copilot, Peter Craig. The other characters who inhabit this place you may never see, but they're there, as these two gentlemen will soon find out. Because they're about to partake in a little exploration into that gray, shaded area in space and time that's known as the Twilight Zone.\\r\\n\\r\\n94) Four O'Clock\\r\\nThat's Oliver Crangle, a dealer in petulance and poison. He's rather arbitrarily chosen four o'clock as his personal Gotterdammerung, and we are about to watch the metamorphosis of a twisted fanatic, poisoned by the gangrene of prejudice, to the status of an avenging angel, upright and omniscient, dedicated and fearsome. Whatever your clocks say, it's four o'clock, and wherever you are it happens to be the Twilight Zone.\\r\\n\\r\\n95) Hocus-Pocus and Frisby\\r\\nThe reluctant gentleman with the sizeable mouth is Mr. Frisby. He has all the drive of a broken camshaft and the aggressive vinegar of a corpse. As you've no doubt gathered, his big stock in trade is the tall tale. Now, what he doesn't know is that the visitors out front are a very special breed, destined to change his life beyond anything even his fertile imagination could manufacture. The place is Pitchville Flats, the time is the present. But Mr. Frisby's on the first leg of a rather fanciful journey into the place we call the Twilight Zone.\\r\\n\\r\\n96) The Trade-Ins\\r\\nMr. and Mrs. John Holt, aging people who slowly and with trembling fingers turn the last pages of a book of life and hope against logic and the preordained that some magic printing press will add to this book another limited edition. But these two senior citizens happen to live in a time of the future where nothing is impossible, even the trading of old bodies for new. Mr. and Mrs. John Holt, in their twilight years, who are about to find that there happens to be a zone with the same name.\\r\\n\\r\\n97) The Gift\\r\\nThe place is Mexico, just across the Texas border, a mountain village held back in time by its remoteness and suddenly intruded upon by the twentieth century. And this is Pedro, nine years old, a lonely, rootless little boy, who will soon make the acquaintance of a traveller from a distant place. We are at present forty miles from the Rio Grande, but any place and all places can be the Twilight Zone.\\r\\n\\r\\n98) The Dummy\\r\\nYou're watching a ventriloquist named Jerry Etherson, a voice-thrower par excellence. His alter ego, sitting atop his lap, is a brash stick of kindling with the sobriquet 'Willy.' In a moment, Mr. Etherson and his knotty-pine partner will be booked in one of the out-of-the-way bistros, that small, dark, intimate place known as the Twilight Zone.\\r\\n\\r\\n99) Young Man's Fancy\\r\\nYou're looking at the house of the late Mrs. Henrietta Walker. This is Mrs. Walker herself, as she appeared twenty-five years ago. And this, except for isolated objects, is the living room of Mrs. Walker's house, as it appeared in that same year. The other rooms upstairs and down are much the same. The time, however, is not twenty-five years ago but now. The house of the late Mrs. Henrietta Walker is, you see, a house which belongs almost entirely to the past, a house which, like Mrs. Walker's clock here, has ceased to recognize the passage of time. Only one element is missing now, one remaining item in the estate of the late Mrs. Walker: her son, Alex, thirty-four years of age and, up till twenty minutes ago, the so-called perennial bachelor. With him is his bride, the former Miss Virginia Lane. They're returning from the city hall in order to get Mr. Walker's clothes packed, make final arrangements for the sale of the house, lock it up and depart on their honeymoon. Not a complicated set of tasks, it would appear, and yet the newlywed Mrs. Walker is about to discover that the old adage 'You can't go home again' has little meaning in the Twilight Zone.\\r\\n\\r\\n100) I Sing the Body Electric\\r\\nThey make a fairly convincing pitch here. It doesn't seem possible, though, to find a woman who must be ten times better than mother in order to seem half as good, except, of course, in the Twilight Zone.\\r\\n\\r\\n101) Cavender Is Coming\\r\\nSubmitted for your approval, the case of one Miss Agnes Grep, put on Earth with two left feet, an overabundance of thumbs and a propensity for falling down manholes. In a moment she will be up to her jaw in miracles, wrought by apprentice angel Harmon Cavender, intent on winning his wings. And, though, it's a fact that both of them should have stood in bed, they will tempt all the fates by moving into the cold, gray dawn of the Twilight Zone.\\r\\n\\r\\n102) The Changing of the Guard\\r\\nProfessor Ellis Fowler, a gentle, bookish guide to the young, who is about to discover that life still has certain surprises, and that the campus of the Rock Springs School for Boys lies on a direct path to another institution, commonly referred to as the Twilight Zone.\\r\\n\\r\\n103) In His Image\\r\\nWhat you have just witnessed could be the end of a particularly terrifying nightmare. It isn't. It's the beginning. Although Alan Talbot doesn't know it, he is about to enter a strange new world, too incredible to be real, too real to be a dream. It's called the Twilight Zone.\\r\\n\\r\\n104) The Thirty-Fathom Grave\\r\\nIncident one hundred miles off the coast of Guadalcanal. Time: the present. The United States naval destroyer on what has been a most uneventful cruise. In a moment, they're going to send a man down thirty fathoms and check on a noise maker - someone or something tapping on metal. You may or may not read the results in a naval report, because Captain Beecham and his crew have just set a course that will lead this ship and everyone on it into the Twilight Zone.\\r\\n\\r\\n105) Valley of the Shadow\\r\\nYou've seen them. Little towns, tucked away far from the main roads. You've seen them, but have you thought about them? What do the people in these places do? Why do they stay? Philip Redfield never thought about them. If his dog hadn't gone after that cat, he would have driven through Peaceful Valley and put it out of his mind forever. But he can't do that now, because whether he knows it or not his friend's shortcut has led him right into the capital of the Twilight Zone.\\r\\n\\r\\n106) He's Alive\\r\\nPortrait of a bush-league fuehrer named Peter Vollmer, a sparse little man who feeds off his self-delusions and finds himself perpetually hungry for want of greatness in his diet. And like some goose-stepping predecessors he searches for something to explain his hunger, and to rationalize why a world passes him by without saluting. That something he looks for and finds is in a sewer. In his own twisted and distorted lexicon he calls it faith, strength, truth. But in just a moment Peter Vollmer will ply his trade on another kind of corner, a strange intersection in a shadowland called the Twilight Zone.\\r\\n\\r\\n107) Mute\\r\\nWhat you're witnessing is the curtain-raiser to a most extraordinary play; to wit, the signing of a pact, the commencement of a project. The play itself will be performed almost entirely offstage. The final scenes are to be enacted a decade hence and with a different cast. The main character of these final scenes is Ilse, the daughter of Professor and Mrs. Nielsen, age two. At the moment she lies sleeping in her crib, unaware of the singular drama in which she is to be involved. Ten years from this moment, Ilse Nielsen is to know the desolating terror of living simultaneously in the world and in the Twilight Zone.\\r\\n\\r\\n108) Death Ship\\r\\nPicture of the spaceship E-89, cruising above the thirteenth planet of star system fifty-one, the year 1997. In a little while, supposedly, the ship will be landed and specimens taken: vegetable, mineral and, if any, animal. These will be brought back to overpopulated Earth, where technicians will evaluate them and, if everything is satisfactory, stamp their findings with the word 'inhabitable' and open up yet another planet for colonization. These are the things that are supposed to happen. Picture of the crew of the spaceship E-89: Captain Ross, Lieutenant Mason, Lieutenant Carter. Three men who have just reached a place which is as far from home as they will ever be. Three men who in a matter of minutes will be plunged into the darkest nightmare reaches of the Twilight Zone.\\r\\n\\r\\n109) Jess-Belle\\r\\nThe Twilight Zone has existed in many lands in many times. It has its roots in history, in something that happened long, long ago and got told about and handed down from one generation of folk to the other. In the telling the story gets added to and embroidered on, so that what might have happened in the time of the Druids is told as if it took place yesterday in the Blue Ridge Mountains. Such stories are best told by an elderly grandfather on a cold winter's night by the fireside in the southern hills of the Twilight Zone.\\r\\n\\r\\n110) Miniature\\r\\nTo the average person, a museum is a place of knowledge, a place of beauty and truth and wonder. Some people come to study, others to contemplate, others to look for the sheer joy of looking. Charley Parkes has his own reasons. He comes to the museum to get away from the world. It isn't really the sixty-cent cafeteria meal that has drawn him here every day, it's the fact that here in these strange, cool halls he can be alone for a little while, really and truly alone. Anyway, that's how it was before he got lost and wandered into the Twilight Zone.\\r\\n\\r\\n111) Printer's Devil\\r\\nTake away a man's dream, fill him with whiskey and despair, send him to a lonely bridge, let him stand there all by himself looking down at the black water, and try to imagine the thoughts that are in his mind. You can't, I can't. But there's someone who can, and that someone is seated next to Douglas Winter right now. The car is headed back toward town, but its real destination is the Twilight Zone.\\r\\n\\r\\n112) No Time Like the Past\\r\\nExit one Paul Driscoll, a creature of the twentieth century. He puts to a test a complicated theorum of space-time continuum, but he goes a step further, or tries to. Shortly, he will seek out three moments of the past in a desperate attempt to alter the present, one of the odd and fanciful functions in a shadowland known as the Twilight Zone.\\r\\n\\r\\n113) The Parallel\\r\\nIn the vernacular of space, this is T minus one hour. Sixty minutes before a human being named Major Robert Gaines is lifted off from the Mother Earth and rocketed into the sky, farther and longer than any man ahead of him. Call this one of the first faltering steps of man to sever the umbilical cord of gravity and stretch out a fingertip toward an unknown. Shortly, we'll join this astronaut named Gaines and embark on an adventure, because the environs overhead - the stars, the sky, the infinite space - are all part of a vast question mark known as the Twilight Zone.\\r\\n\\r\\n114) I Dream of Genie\\r\\nMeet Mr. George P. Hanley, a man life treats without deference, honor or success. Waiters serve his soup cold. Elevator operators close doors in his face. Mothers never bother to wait up for the daughters he dates. George is a creature of humble habits and tame dreams. He's an ordinary man, Mr. Hanley, but at this moment the accidental possessor of a very special gift, the kind of gift that measures men against their dreams, the kind of gift most of us might ask for first and possibly regret to the last, if we, like Mr. George P. Hanley, were about to plunge head-first and unaware into our own personal Twilight Zone.\\r\\n\\r\\n115) The New Exhibit\\r\\nMartin Lombard Senescu, a gentle man, the dedicated curator of murderers' row in Ferguson's Wax Museum. He ponders the reasons why ordinary men are driven to commit mass murder. What Mr. Senescu does not know is that the groundwork has already been laid for his own special kind of madness and torment found only in the Twilight Zone.\\r\\n\\r\\n116) Of Late I Think of Cliffordville\\r\\nWitness a murder. The killer is Mr. William Feathersmith, a robber baron whose body composition is made up of a refrigeration plant covered by thick skin. In a moment Mr. Feathersmith will proceed on his daily course of conquest and calumny with yet another business dealing. But this one will be one of those bizarre transactions that take place in an odd marketplace known as the Twilight Zone.\\r\\n\\r\\n117) The Incredible World of Horace Ford\\r\\nMr. Horace Ford, who has a preoccupation with another time, a time of childhood, a time of growing up, a time of street games, stickball and hide-'n-go-seek. He has a reluctance to check out a mirror and see the nature of his image: proof positive that the time he dwells in has already passed him by. But in a moment or two he'll discover that mechanical toys and memories and daydreaming and wishful thinking and all manner of odd and special events can lead one into a special province, uncharted and unmapped, a country of both shadow and substance known as the Twilight Zone.\\r\\n\\r\\n118) On Thursday We Leave for Home\\r\\nThis is William Benteen, who officiates on a disintegrating outpost in space. The people are a remnant society who left the Earth looking for a Millennium, a place without war, without jeopardy, without fear, and what they found was a lonely, barren place whose only industry was survival. And this is what they've done for three decades: survive; until the memory of the Earth they came from has become an indistinct and shadowed recollection of another time and another place. One month ago a signal from Earth announced that a ship would be coming to pick them up and take them home. In just a moment we'll hear more of that ship, more of that home, and what it takes out of mind and body to reach it. This is the Twilight Zone.\\r\\n\\r\\n119) Passage on the Lady Anne\\r\\nPortrait of a honeymoon couple getting ready for a journey - with a difference. These newlyweds have been married for six years, and they're not taking this honeymoon to start their life but rather to save it, or so Eileen Ransome thinks. She doesn't know why she insisted on a ship for this voyage, except that it would give them some time and she'd never been on one before - certainly never one like the Lady Anne. The tickets read 'New York to Southampton,' but this old liner is going somewhere else. Its destination - the Twilight Zone.\\r\\n\\r\\n120) The Bard\\r\\nYou've just witnessed opportunity, if not knocking, at least scratching plaintively on a closed door. Mr. Julius Moomer, a would-be writer who, if talent came twenty-five cents a pound, would be worth less than car fare. But, in a moment, Mr. Moomer, through the offices of some black magic, is about to embark on a brand-new career. And although he may never get a writing credit on the Twilight Zone, he's to become an integral character in it.\\r\\n\\r\\n121) In Praise of Pip\\r\\nSubmitted for your approval, one Max Phillips, a slightly the worse for wear maker of book, whose life has been as drab and undistinguished as a bundle of dirty clothes. And though it's very late in his day, he has an errant wish that the rest of his life might be sent out to a laundry to come back shiny and clean, this to be a gift of love to a son named Pip. Mr. Max Phillips, Homo sapiens, who is soon to discover that man is not as wise as he thinks, said lesson to be learned in the Twilight Zone.\\r\\n\\r\\n122) Steel\\r\\nSports item, circa 1974: Battling Maxo, B2, heavyweight, accompanied by his manager and handler, arrives in Maynard, Kansas, for a scheduled six-round bout. Battling Maxo is a robot, or, to be exact, an android, definition: 'an automaton resembling a human being.' Only these automatons have been permitted in the ring since prizefighting was legally abolished in 1968. This is the story of that scheduled six-round bout, more specifically the story of two men shortly to face that remorseless truth: that no law can be passed which will abolish cruelty or desperate need - nor, for that matter, blind animal courage. Location for the facing of said truth a small, smoke-filled arena just this side of the Twilight Zone.\\r\\n\\r\\n123) Nightmare at 20,000 Feet\\r\\nPortrait of a frightened man: Mr. Robert Wilson, thirty-seven, husband, father, and salesman on sick leave. Mr. Wilson has just been discharged from a sanitarium where he spent the last six months recovering from a nervous breakdown, the onset of which took place on an evening not dissimilar to this one, on an airliner very much like the one in which Mr. Wilson is about to be flown home - the difference being that, on that evening half a year ago, Mr. Wilson's flight was terminated by the onslaught of his mental breakdown. Tonight, he's travelling all the way to his appointed destination which, contrary to Mr. Wilson's plan, happens to be in the darkest corner of the Twilight Zone.\\r\\n\\r\\n124) A Kind of a Stopwatch\\r\\nSubmitted for your approval or at least your analysis: one Patrick Thomas McNulty, who at age forty-one is the biggest bore on Earth. He holds a ten-year record for the most meaningless words spewed out during a coffee break. And it's very likely that, as of this moment, he would have gone through life in precisely this manner, a dull, argumentative bigmouth who sets back the art of conversation a thousand years. I say he very likely would have, except for something that will soon happen to him, something that will considerably alter his existence and ours. Now you think about that now, because this is the Twilight Zone.\\r\\n\\r\\n125) The Last Night of a Jockey\\r\\nThe name is Grady, five-feet short in stockings and boots, a slightly distorted offshoot of a good breed of humans who race horses. He happens to be one of the rotten apples, bruised and yellowed by dealing in dirt, a short man with a short memory who's forgotten that he's worked for the sport of kings and helped turn it into a cesspool, used and misused by the two-legged animals who've hung around sporting events since the days of the Coliseum. So this is Grady, on his last night as a jockey. Behind him are Hialeah, Hollywood Park and Saratoga. Rounding the far turn and coming up fast on the rail is the Twilight Zone.\\r\\n\\r\\n126) Living Doll\\r\\nTalky Tina, a doll that does everything, a lifelike creation of plastic and springs and painted smile. To Erich Streator, she is a most unwelcome addition to his household, but without her he'd never enter the Twilight Zone.\\r\\n\\r\\n127) The Old Man in the Cave\\r\\nWhat you're looking at is a legacy that man left to himself. A decade previous he pushed his buttons and, a nightmarish moment later, woke up to find that he had set the clock back a thousand years. His engines, his medicines, his science were buried in a mass tomb, covered over by the biggest gravedigger of them all: a bomb. And this is the Earth ten years later, a fragment of what was once a whole, a remnant of what was once a race. The year is 1974, and this is the Twilight Zone.\\r\\n\\r\\n128) Uncle Simon\\r\\nDramatis personae: Mr. Simon Polk, a gentleman who has lived out his life in a gleeful rage; and the young lady who's just beat the hasty retreat is Mr. Polk's niece, Barbara. She's lived her life as if during each ensuing hour she had a dentist appointment. There's yet a third member of the company soon to be seen. He now resides in the laboratory and he is the kind of character to be found only in the Twilight Zone.\\r\\n\\r\\n129) Probe 7 - Over and Out\\r\\nOne Colonel Cook, a traveller in space. He's landed on a remote planet several million miles from his point of departure. He can make an inventory of his plight by just one 360 degree movement of head and eyes. Colonel Cook has been set adrift in an ocean of space in a metal lifeboat that has been scorched and destroyed and will never fly again. He survived the crash but his ordeal is yet to begin. Now he must give battle to loneliness. Now Colonel Cook must meet the unknown. It's a small planet set deep in space, but for Colonel Cook it's the Twilight Zone.\\r\\n\\r\\n130) The 7th Is Made Up of Phantoms\\r\\nJune 25th, 1964, or, if you prefer, June 25th, 1876. The cast of characters in order of their appearance: a patrol of General Custer's cavalry and a patrol of National Guardsmen on a maneuver. Past and present are about to collide head-on, as they are wont to do in a very special bivouac area known as the Twilight Zone.\\r\\n\\r\\n131) A Short Drink From a Certain Fountain\\r\\nPicture of an aging man who leads his life, as Thoreau said, 'in quiet desperation.' Because Harmon Gordon is enslaved by a love affair with a wife forty years his junior. Because of this, he runs when he should walk. He surrenders when simple pride dictates a stand. He pines away for the lost morning of his life when he should be enjoying the evening. In short, Mr. Harmon Gordon seeks a fountain of youth, and who's to say he won't find it? This happens to be the Twilight Zone.\\r\\n\\r\\n132) Ninety Years Without Slumbering\\r\\nEach man measures his time; some with hope, some with joy, some with fear. But Sam Forstmann measures his alotted time by a grandfather's clock, a unique mechanism whose pendulum swings between life and death, a very special clock that keeps a special kind of time in the Twilight Zone.\\r\\n\\r\\n133) Ring-a-Ding Girl\\r\\nIntroduction to Bunny Blake. Occupation: film actress. Residence: Hollywood, California, or anywhere in the world that cameras happen to be grinding. Bunny Blake is a public figure; what she wears, eats, thinks, says is news. But underneath the glamour, the makeup, the publicity, the build-up, the costuming, is a flesh-and-blood person, a beautiful girl about to take a long and bizarre journey into the Twilight Zone.\\r\\n\\r\\n134) You Drive\\r\\nPortrait of a nervous man: Oliver Pope by name, office manager by profession. A man beset by life's problems: his job, his salary, the competition to get ahead. Obviously, Mr. Pope's mind is not on his driving. Oliver Pope, businessman-turned-killer on a rain-soaked street in the early evening of just another day during just another drive home from the office. The victim, a kid on a bicycle, lying injured, near death. But Mr. Pope hasn't time for the victim, his only concern is for himself. Oliver Pope, hit-and-run driver, just arrived at a crossroad in his life, and he's chosen the wrong turn. The hit occurred in the world he knows, but the run will lead him straight into the Twilight Zone.\\r\\n\\r\\n135) The Long Morrow\\r\\nIt may be said with a degree of assurance that not everything that meets the eye is as it appears. Case in point: the scene you're watching. This is not a hospital, not a morgue, not a mausoleum, not an undertaker's parlor of the future. What it is is the belly of a spaceship. It is en route to another planetary system an incredible distance from the Earth. This is the crux of our story, a flight into space. It is also the story of the things that might happen to human beings who take a step beyond, unable to anticipate everything that might await them out there. Commander Douglas Stansfield, astronaut, a man about to embark on one of history's longest journeys - forty years out into endless space and hopefully back again. This is the beginning, the first step toward man's longest leap into the unknown. Science has solved the mechanical details, and now it's up to one human being to breathe life into blueprints and computers, to prove once and for all that man can live half a lifetime in the total void of outer space, forty years alone in the unknown. This is Earth. Ahead lies a planetary system. The vast region in between is the Twilight Zone.\\r\\n\\r\\n136) The Self-Improvement of Salvadore Ross\\r\\nConfidential personnel file on Salvadore Ross. Personality: a volatile mixture of fury and frustration. Distinguishing physical characteristic: a badly-broken hand which will require emergency treatment at the nearest hospital. Ambition: shows great determination toward self-improvement. Estimate of potentional success: a sure bet for a listing in Who's Who in the Twilight Zone.\\r\\n\\r\\n137) Number Twelve Looks Just Like You\\r\\nGiven the chance, what young girl wouldn't happily exchange a plain face for a lovely one? What girl could refuse the opportunity to be beautiful? For want of a better estimate, let's call it the year 2000. At any rate, imagine a time in the future when science has developed a means of giving everyone the face and body he dreams of. It may not happen tomorrow, but it happens now in the Twilight Zone.\\r\\n\\r\\n138) Black Leather Jackets\\r\\nThree strangers arrive in a small town, three men in black leather jackets in an empty rented house. We'll call them Steve and Scott and Fred, but their names are not important; their mission is, as three men on motorcycles lead us into the Twilight Zone.\\r\\n\\r\\n139) Night Call\\r\\nMiss Elva Keene lives alone on the outskirts of London Flats, a tiny rural community in Maine. Up until now, the pattern of Miss Keene's existence has been that of lying in her bed or sitting in her wheelchair reading books, listening to a radio, eating, napping, taking medication, and waiting for something different to happen. Miss Keene doesn't know it yet, but her period of waiting has just ended, for something different is about to happen to her, has in fact already begun to happen, via two most unaccountable telephone calls in the middle of a stormy night, telephone calls routed directly through the Twilight Zone.\\r\\n\\r\\n140) From Agnes - With Love\\r\\nJames Elwood, master programmer, in charge of Mark 502-741, commonly known as 'Agnes', the world's most advanced electronic computer. Machines are made by men for man's benefit and progress, but when man ceases to control the products of his ingenuity and imagination he not only risks losing the benefit, but he takes a long and unpredictable step into the Twilight Zone.\\r\\n\\r\\n141) Spur of the Moment\\r\\nThis is the face of terror: Anne Marie Henderson, eighteen years of age, her young existence suddenly marred by a savage and wholly unanticipated pursuit by a strange, nightmarish figure of a woman in black, who has appeared as if from nowhere and now at driving gallop chases the terrified girl across the countryside, as if she means to ride her down and kill her - and then suddenly and inexplicably stops, to watch in malignant silence as her prey takes flight. Miss Henderson has no idea whatever as to the motive for this pursuit; worse, not the vaguest notion regarding the identity of her pursuer. Soon enough, she will be given the solution to this twofold mystery, but in a manner far beyond her present capacity to understand, a manner enigmatically bizarre in terms of time and space, which is to say, an answer from the Twilight Zone.\\r\\n\\r\\n142) An Occurrence at Owl Creek Bridge\\r\\nTonight a presentation so special and unique that, for the first time in the five years we've been presenting the Twilight Zone, we're offering a film shot in France by others. Winner of the Cannes Film Festival of 1962, as well as other international awards, here is a haunting study of the incredible, from the past master of the incredible, Ambrose Bierce. Here is the French production of 'An Occurrence at Owl Creek Bridge.'\\r\\n\\r\\n143) Queen of the Nile\\r\\nJordan Herrick, syndicated columnist whose work appears in more than a hundred newspapers. By nature a cynic, a disbeliever, caught for the moment by a lovely vision. He knows the vision he's seen is no dream. She is Pamela Morris, renowned movie star, whose name is a household word and whose face is known to millions. What Mr. Herrick does not know is that he has also just looked into the face of the Twilight Zone.\\r\\n\\r\\n144) What's in the Box\\r\\nPortrait of a TV fan. Name: Joe Britt. Occupation: cab driver. Tonight, Mr. Britt is going to watch a really big show, something special for the cabbie who's seen everything. Joe Britt doesn't know it, but his flag is down and his meter's running and he's in high gear on his way to the Twilight Zone.\\r\\n\\r\\n145) The Masks\\r\\nMr. Jason Foster, a tired ancient who on this particular Mardi Gras evening will leave the Earth. But before departing he has some things to do, some services to perform, some debts to pay, and some justice to mete out. This is New Orleans, Mardi Gras time. It is also the Twilight Zone.\\r\\n\\r\\n146) I Am the Night - Color Me Black\\r\\nSheriff Charlie Koch on the morning of an execution. As a matter of fact, it's 7:30 in the morning. Logic and natural laws dictate that at this hour there should be daylight. It is a simple rule of physical science that the sun should rise at a certain moment and supercede the darkness. But at this given moment, Sheriff Charlie Koch, a deputy named Pierce, a condemned man named Jagger and a small, inconsequential village will shortly find out that there are causes and effects that have no precedent. Such is usually the case in the Twilight Zone.\\r\\n\\r\\n147) Sounds and Silences\\r\\nThis is Roswell G. Flemington, two hundred and twenty pounds of gristle, lung tissue and sound decibels. He is, as you have perceived, a noisy man, one of a breed who substitutes volume for substance, sound for significance, and shouting to cover up the readily apparent phenomenon that he is nothing more than an overweight and aging perennial Sea Scout whose noise-making is in inverse ratio to his competence and to his character. But soon our would-be admiral of the fleet will embark on another voyage. This one is an unchartered and twisting stream that heads for a distant port called the Twilight Zone.\\r\\n\\r\\n148) Caesar and Me\\r\\nJonathan West, ventriloquist, a master of voice manipulation. A man late of Ireland, with a talent for putting words into other people's mouths. In this case, the other person is a dummy, aptly named Caesar, a small splinter with large ideas, a wooden tyrant with a mind and a voice of his own, who is about to talk Jonathan West into the Twilight Zone.\\r\\n\\r\\n149) The Jeopardy Room\\r\\nThe cast of characters: a cat and a mouse. This is the latter, the intended victim who may or may not know that he is to die, be it by butchery or ballet. His name is Major Ivan Kuchenko. He has, if events go according to certain plans, perhaps three of four more hours of living. But an ignorance shared by both himself and his executioner is of the fact that both of them have taken a first step into the Twilight Zone.\\r\\n\\r\\n150) Stopover in a Quiet Town\\r\\nBob and Millie Frazier, average young New Yorkers who attended a party in the country last night and on the way home took a detour. Most of us on waking in the morning know exactly where we are; the rooster or the alarm clock brings up out of sleep into the familiar sights, sounds, aromas of home and the comfort of a routine day ahead. Not so with our young friends. This will be a day like none they've ever spent, and they'll spend it in the Twilight Zone.\\r\\n\\r\\n151) The Encounter\\r\\nTwo men alone in an attic: a young Japanese-American and a seasoned veteran of yesterday's war. It's twenty-odd years since Pearl Harbor, but two ancient opponents are moving into position for a battle in an attic crammed with skeletons: souvenirs, mementoes, old uniforms and rusted medals. Ghosts from the dim reaches of the past that will lead us into the Twilight Zone.\\r\\n\\r\\n152) Mr. Garrity and the Graves\\r\\nIntroducing Mr. Jared Garrity, a gentleman of commerce, who in the latter half of the nineteenth century plied his trade in the wild and wooly hinterlands of the American West. And Mr. Garrity, if one can believe him, is a resurrector of the dead - which, on the face of it, certainly sounds like the bull is off the nickel. But to the scoffers amongst you, and you ladies and gentlemen from Missouri, don't laugh this one off entirely, at least until you've seen a sample of Mr. Garrity's wares, and an example of his services. The place is Happiness, Arizona, the time about 1890. And you and I have just entered a saloon where the bar whiskey is brewed, bottled and delivered from the Twilight Zone.\\r\\n\\r\\n153) The Brain Center at Whipple's\\r\\nThese are the players, with or without a scorecard: in one corner, a machine; in the other, one Wallace V. Whipple, man. And the game? It happens to be the historical battle between flesh and steel, between the brain of man and the product of man's brain. We don't make book on this one, and predict no winner, but we can tell you that for this particular contest there is standing room only in the Twilight Zone.\\r\\n\\r\\n154) Come Wander With Me\\r\\nMr. Floyd Burney, a gentleman songster in search of song, is about to answer the age-old question of whether a man can be in two places at the same time. As far as his folk song is concerned, we can assure Mr. Burney he'll find everything he's looking for, although the lyrics may not be all to his liking. But that's sometimes the case when the words and music are recorded in the Twilight Zone.\\r\\n\\r\\n155) The Fear\\r\\nThe major ingredient of any recipe for fear is the unknown. And here are two characters about to partake of the meal: Miss Charlotte Scott, a fashion editor, and Mr. Robert Franklin, a state trooper. And the third member of the party: the unknown, that has just landed a few hundred yards away. This person or thing is soon to be met. This is a mountain cabin, but it is also a clearing in the shadows known as the Twilight Zone.\\r\\n\\r\\n156) The Bewitchin' Pool\\r\\nA swimming pool not unlike any other pool, a structure built of tile and cement and money, a backyard toy for the affluent, wet entertainment for the well-to-do. But to Jeb and Sport Sharewood, this pool holds mysteries not dreamed of by the building contractor, not guaranteed in any sales brochure. For this pool has a secret exit that leads to a never-neverland, a place designed for junior citizens who need a long voyage away from reality, into the bottomless regions of the Twilight Zone.\\r\\nIntroduction to a perfect setting. Colonial mansion, spacious grounds, heated swimming pool. All the luxuries money can buy. Introduction to two children, brother and sister. Names Jeb and Sport. Healthy, happy, normal youngsters. Introduction to a mother. Gloria Sherwood by name, glamourous by nature. Introduction to a father. Gil Sherwood, handsome, prosperous, the picture of success. The man who has achieved every's man ambition: beautiful children, beautiful home, beautiful wife. Idyllic? Obviously. But don't look too carefully. Don't peek behind the facade. The ideal might have feet of clay.\\r\\n\""
            ]
          },
          "metadata": {
            "tags": []
          },
          "execution_count": 2
        }
      ]
    },
    {
      "cell_type": "markdown",
      "metadata": {
        "id": "0M6P0XDDe3i-"
      },
      "source": [
        "We need to split this file into different episodes.\r\n",
        "It looks like each file has an additional line break token, so we can split on the double return '\\r\\n\\r\\n'\r\n",
        "Let's test this:"
      ]
    },
    {
      "cell_type": "code",
      "metadata": {
        "colab": {
          "base_uri": "https://localhost:8080/"
        },
        "id": "4kZY3v_xfSCg",
        "outputId": "f4e0a977-cdd5-485c-8d8b-3eb4f3cb28d0"
      },
      "source": [
        "tz_file.split('\\r\\n\\r\\n')[:20]"
      ],
      "execution_count": 3,
      "outputs": [
        {
          "output_type": "execute_result",
          "data": {
            "text/plain": [
              "[\"1) Where is Everybody?\\r\\nThe place is here, the time is now, and the journey into the shadows that we're about to watch could be our journey.\",\n",
              " \"2) One for the Angels\\r\\nStreet scene: summer. The present. Man on a sidewalk named Lew Bookman, age sixtyish. Occupation: pitchman. Lew Bookman, a fixture of the summer, a rather minor component to a hot July, a nondescript, commonplace little man whose life is a treadmill built out of sidewalks. In just a moment, Lew Bookman will have to concern himself with survival, because as of three o'clock this hot July afternoon he'll be stalked by Mr. Death.\",\n",
              " \"3) Mr. Denton on Doomsday\\r\\nPortrait of a town drunk named Al Denton. This is a man who's begun his dying early - a long, agonizing route through a maze of bottles. Al Denton, who would probably give an arm or a leg or a part of his soul to have another chance, to be able to rise up and shake the dirt from his body and the bad dreams that infest his consciousness. In the parlance of the times, this is a peddler, a rather fanciful-looking little man in a black frock coat. And this is the third principal character of our story. Its function: perhaps to give Mr. Al Denton his second chance.\",\n",
              " '4) The Sixteen Millimeter Shrine\\r\\nPicture of a woman looking at a picture. Movie great of another time, once-brilliant star in a firmament no longer a part of the sky, eclipsed by the movement of earth and time. Barbara Jean Trenton, whose world is a projection room, whose dreams are made out of celluloid. Barbara Jean Trenton, struck down by hit-and-run years and lying on the unhappy pavement, trying desperately to get the license number of fleeting fame.',\n",
              " \"5) Walking Distance\\r\\nMartin Sloan, age thirty-six. Occupation: vice-president, ad agency, in charge of media. This is not just a Sunday drive for Martin Sloan. He perhaps doesn't know it at the time, but it's an exodus. Somewhere up the road he's looking for sanity. And somewhere up the road, he'll find something else.\",\n",
              " \"6) Escape Clause\\r\\nYou're about to meet a hypochondriac. Witness Mr. Walter Bedeker, age forty-four, afraid of the following: death, disease, other people, germs, draft, and everything else. He has one interest in life, and that's Walter Bedeker. One preoccupation: the life and well-being of Walter Bedeker. One abiding concern about society: that if Walter Bedeker should die, how will it survive without him?\",\n",
              " \"7) The Lonely\\r\\nWitness if you will a dungeon, made out of mountains, salt flats and sand that stretch to infinity. The dungeon has an inmate: James A. Corry. And this is his residence: a metal shack. An old touring car that squats in the sun and goes nowhere - for there is nowhere to go. For the record let it be known that James A. Corry is a convicted crimi nal placed in solitary confinement. Confinement in this case stretches as far as the eye can see, because this particular dungeon is on an asteroid nine million miles from the Earth. Now witness if you will a man's mind and body shrivelling in the sun, a man dying of loneliness.\",\n",
              " \"8) Time Enough at Last\\r\\nWitness Mr. Henry Bemis, a charter member in the fraternity of dreamers. A bookish little man whose passion is the printed page but who is conspired against by a bank president and a wife and a world full of tongue-cluckers and the unrelenting hands of a clock. But in just a moment Mr. Bemis will enter a world without bank presidents or wives or clocks or anything else. He'll have a world all to himself without anyone.\",\n",
              " \"9) Perchance to Dream\\r\\nTwelve o'clock noon. An ordinary scene, an ordinary city. Lunchtime for thousands of ordinary people. To most of them, this hour will be a rest, a pleasant break in the day's routine. To most, but not all. To Edward Hall, time is an enemy, and the hour to come is a matter of life and death.\",\n",
              " \"10) Judgment Night\\r\\nHer name is the S.S. Queen of Glasgow. Her registry: British. Gross tonnage: five thousand. Age: indeterminate. At this moment she's one day out of Liverpool, her destination New York. Duly recorded on this ship's log is the sailing time, course to destination, weather conditions, temperature, longitude and latitude. But what is never recorded in a log is the fear that washes over a deck like fog and ocean spray. Fear like the throbbing strokes of engine pistons, each like a heartbeat, parceling out every hour into breathless minutes of watching, waiting and dreading. For the year is 1942, and this particular ship has lost its convoy. It travels alone like an aged blind thing groping through the unfriendly dark, stalked by unseen periscopes of steel killers. Yes, the Queen of Glasgow is a frightened ship, and she carries with her a premonition of death.\",\n",
              " '11) And When the Sky was Opened\\r\\nHer name: X-20. Her type: an experimental interceptor. Recent history: a crash landing in the Mojave Desert after a thirty-one hour flight nine hundred miles into space. Incidental data: the ship, with the men who flew her, disappeared from the radar screen for twenty-four hours. But the shrouds that cover mysteries are not always made out of a tarpaulin, as this man will soon find out on the other side of a hospital door.',\n",
              " \"12) What You Need\\r\\nYou're looking at Mr. Fred Renard, who carries on his shoulder a chip the size of the national debt. This is a sour man, a friendless man, a lonely man, a grasping, compulsive, nervous man. This is a man who has lived thirty-six undistinguished, meaningless, pointless, failure-laden years and who at this moment looks for an escape - any escape, any way, anything, anybody - to get out of the rut. And this little old man is just what Mr. Renard is waiting for.\",\n",
              " \"13) The Four of Us are Dying\\r\\nHis name is Arch Hammer. He's thirty-six years old. He's been a salesman, a dispatcher, a truck driver, a con man, a bookie, and a part-time bartender. This is a cheap man, a nickel and dime man, with a cheapness that goes past the suit and the shirt; a cheapness of mind, a cheapness of taste, a tawdry little shine on the seat of his conscience, and a dark-room squint at a world whose sunlight has never gotten through to him. But Mr. Hammer has a talent, discovered at a very early age. This much he does have. He can make his face change. He can twitch a muscle, move a jaw, concentrate on the cast of his eyes, and he can change his face. He can change it into anything he wants. Mr. Archie Hammer, jack of all trades, has just checked in at three-eighty a night, with two bags, some newspaper clippings, a most odd talent, and a master plan to destroy some lives.\",\n",
              " '14) Third From the Sun\\r\\nQuitting time at the plant. Time for supper now. Time for families. Time for a cool drink on a porch. Time for the quiet rustle of leaf-laden trees that screen out the moon. And underneath it all, behind the eyes of the men, hanging invisible over the summer night, is a horror without words. For this is the stillness before storm. This is the eve of the end.',\n",
              " '15) I Shot an Arrow Into the Air\\r\\nHer name is the Arrow One. She represents four and a half years of planning, preparation and training, and a thousand years of science and mathematics and the projected dreams and hopes of not only a nation but a world. She is the first manned aircraft into space. And this is the countdown, the last five seconds before man shot an arrow into the air.',\n",
              " \"16) The Hitch-Hiker\\r\\nHer name is Nan Adams. She's twenty-seven years old. Her occupation: buyer at a New York department store, at present on vacation, driving cross-country to Los Angeles, California, from Manhattan. Minor incident on Highway 11 in Pennsylvania, perhaps to be filed away under accidents you walk away from. But from this moment on, Nan Adams's companion on a trip to California will be terror; her route - fear; her destination - quite unknown.\",\n",
              " \"17) The Fever\\r\\nMr. and Mrs. Franklin Gibbs, three days and two nights, all expenses paid, at a Las Vegas hotel, won by virtue of Mrs. Gibbs's knack with a phrase. But unbeknownst to either Mr. or Mrs. Gibbs is the fact that there's a prize in their package neither expected nor bargained for. In just a moment one of them will succumb to an illness worse than any virus can produce, a most inoperative, deadly, life-shattering affliction known as the fever.\",\n",
              " '18) The Last Flight\\r\\nWitness Flight Lieutenant William Terrance Decker, Royal Flying Corps, returning from a patrol somewhere over France. The year is 1917. The problem is that the Lieutenant is hopelessly lost. Lieutenant Decker will soon discover that a man can be lost not only in terms of maps and miles, but also in time, and time in this case can be measured in eternities.',\n",
              " '19) The Purple Testament\\r\\nInfantry platoon, U.S. Army, Phillipine Islands, 1945. These are the faces of the young men who fight. As if some omniscient painter had mixed a tube of oils that were at one time earth brown, dust gray, blood red, beard black, and fear - yellow white, and these men were the models. For this is the province of combat and these are the faces of war.',\n",
              " \"20) Elegy\\r\\nThe time is the day after tomorrow. The place: a far corner of the universe. The cast of characters: three men lost amongst the stars, three men sharing the common urgency of all men lost - they're looking for home. And in a moment they'll find home, not a home that is a place to be seen but a strange, unexplainable experience to be felt.\"]"
            ]
          },
          "metadata": {
            "tags": []
          },
          "execution_count": 3
        }
      ]
    },
    {
      "cell_type": "markdown",
      "metadata": {
        "id": "LISmyPBRg7xK"
      },
      "source": [
        "Looks like this gave us what we need!\r\n",
        "\r\n",
        "Lets also remove the episode numbers in this step.\r\n",
        "\r\n",
        "Note that we're leaving the linebreak after the episode title - hopefully our model will be able to come up with it's own titles as well as narrations!"
      ]
    },
    {
      "cell_type": "code",
      "metadata": {
        "colab": {
          "base_uri": "https://localhost:8080/"
        },
        "id": "zWNhSvnNhIuy",
        "outputId": "e8653802-b809-4b63-a53d-a421024bf154"
      },
      "source": [
        "tz_list = tz_file.split('\\r\\n\\r\\n')\r\n",
        "tz_list = [title.split(') ')[1] for title in tz_list]\r\n",
        "tz_list[:10]"
      ],
      "execution_count": 4,
      "outputs": [
        {
          "output_type": "execute_result",
          "data": {
            "text/plain": [
              "[\"Where is Everybody?\\r\\nThe place is here, the time is now, and the journey into the shadows that we're about to watch could be our journey.\",\n",
              " \"One for the Angels\\r\\nStreet scene: summer. The present. Man on a sidewalk named Lew Bookman, age sixtyish. Occupation: pitchman. Lew Bookman, a fixture of the summer, a rather minor component to a hot July, a nondescript, commonplace little man whose life is a treadmill built out of sidewalks. In just a moment, Lew Bookman will have to concern himself with survival, because as of three o'clock this hot July afternoon he'll be stalked by Mr. Death.\",\n",
              " \"Mr. Denton on Doomsday\\r\\nPortrait of a town drunk named Al Denton. This is a man who's begun his dying early - a long, agonizing route through a maze of bottles. Al Denton, who would probably give an arm or a leg or a part of his soul to have another chance, to be able to rise up and shake the dirt from his body and the bad dreams that infest his consciousness. In the parlance of the times, this is a peddler, a rather fanciful-looking little man in a black frock coat. And this is the third principal character of our story. Its function: perhaps to give Mr. Al Denton his second chance.\",\n",
              " 'The Sixteen Millimeter Shrine\\r\\nPicture of a woman looking at a picture. Movie great of another time, once-brilliant star in a firmament no longer a part of the sky, eclipsed by the movement of earth and time. Barbara Jean Trenton, whose world is a projection room, whose dreams are made out of celluloid. Barbara Jean Trenton, struck down by hit-and-run years and lying on the unhappy pavement, trying desperately to get the license number of fleeting fame.',\n",
              " \"Walking Distance\\r\\nMartin Sloan, age thirty-six. Occupation: vice-president, ad agency, in charge of media. This is not just a Sunday drive for Martin Sloan. He perhaps doesn't know it at the time, but it's an exodus. Somewhere up the road he's looking for sanity. And somewhere up the road, he'll find something else.\",\n",
              " \"Escape Clause\\r\\nYou're about to meet a hypochondriac. Witness Mr. Walter Bedeker, age forty-four, afraid of the following: death, disease, other people, germs, draft, and everything else. He has one interest in life, and that's Walter Bedeker. One preoccupation: the life and well-being of Walter Bedeker. One abiding concern about society: that if Walter Bedeker should die, how will it survive without him?\",\n",
              " \"The Lonely\\r\\nWitness if you will a dungeon, made out of mountains, salt flats and sand that stretch to infinity. The dungeon has an inmate: James A. Corry. And this is his residence: a metal shack. An old touring car that squats in the sun and goes nowhere - for there is nowhere to go. For the record let it be known that James A. Corry is a convicted crimi nal placed in solitary confinement. Confinement in this case stretches as far as the eye can see, because this particular dungeon is on an asteroid nine million miles from the Earth. Now witness if you will a man's mind and body shrivelling in the sun, a man dying of loneliness.\",\n",
              " \"Time Enough at Last\\r\\nWitness Mr. Henry Bemis, a charter member in the fraternity of dreamers. A bookish little man whose passion is the printed page but who is conspired against by a bank president and a wife and a world full of tongue-cluckers and the unrelenting hands of a clock. But in just a moment Mr. Bemis will enter a world without bank presidents or wives or clocks or anything else. He'll have a world all to himself without anyone.\",\n",
              " \"Perchance to Dream\\r\\nTwelve o'clock noon. An ordinary scene, an ordinary city. Lunchtime for thousands of ordinary people. To most of them, this hour will be a rest, a pleasant break in the day's routine. To most, but not all. To Edward Hall, time is an enemy, and the hour to come is a matter of life and death.\",\n",
              " \"Judgment Night\\r\\nHer name is the S.S. Queen of Glasgow. Her registry: British. Gross tonnage: five thousand. Age: indeterminate. At this moment she's one day out of Liverpool, her destination New York. Duly recorded on this ship's log is the sailing time, course to destination, weather conditions, temperature, longitude and latitude. But what is never recorded in a log is the fear that washes over a deck like fog and ocean spray. Fear like the throbbing strokes of engine pistons, each like a heartbeat, parceling out every hour into breathless minutes of watching, waiting and dreading. For the year is 1942, and this particular ship has lost its convoy. It travels alone like an aged blind thing groping through the unfriendly dark, stalked by unseen periscopes of steel killers. Yes, the Queen of Glasgow is a frightened ship, and she carries with her a premonition of death.\"]"
            ]
          },
          "metadata": {
            "tags": []
          },
          "execution_count": 4
        }
      ]
    },
    {
      "cell_type": "markdown",
      "metadata": {
        "id": "ognJuBqV5qi7"
      },
      "source": [
        "Let's add an identifier to the start and end of each narration, so the model knows where to start and end:"
      ]
    },
    {
      "cell_type": "code",
      "metadata": {
        "colab": {
          "base_uri": "https://localhost:8080/"
        },
        "id": "SRhupbvG5pxP",
        "outputId": "7c28a042-c4f6-4131-d76a-98be528f86e3"
      },
      "source": [
        "start_text = '[narration_start]'\r\n",
        "end_text = '[narration_end]'\r\n",
        "\r\n",
        "tz_list = [start_text+title+end_text for title in tz_list]\r\n",
        "tz_list[:10]"
      ],
      "execution_count": 5,
      "outputs": [
        {
          "output_type": "execute_result",
          "data": {
            "text/plain": [
              "[\"[narration_start]Where is Everybody?\\r\\nThe place is here, the time is now, and the journey into the shadows that we're about to watch could be our journey.[narration_end]\",\n",
              " \"[narration_start]One for the Angels\\r\\nStreet scene: summer. The present. Man on a sidewalk named Lew Bookman, age sixtyish. Occupation: pitchman. Lew Bookman, a fixture of the summer, a rather minor component to a hot July, a nondescript, commonplace little man whose life is a treadmill built out of sidewalks. In just a moment, Lew Bookman will have to concern himself with survival, because as of three o'clock this hot July afternoon he'll be stalked by Mr. Death.[narration_end]\",\n",
              " \"[narration_start]Mr. Denton on Doomsday\\r\\nPortrait of a town drunk named Al Denton. This is a man who's begun his dying early - a long, agonizing route through a maze of bottles. Al Denton, who would probably give an arm or a leg or a part of his soul to have another chance, to be able to rise up and shake the dirt from his body and the bad dreams that infest his consciousness. In the parlance of the times, this is a peddler, a rather fanciful-looking little man in a black frock coat. And this is the third principal character of our story. Its function: perhaps to give Mr. Al Denton his second chance.[narration_end]\",\n",
              " '[narration_start]The Sixteen Millimeter Shrine\\r\\nPicture of a woman looking at a picture. Movie great of another time, once-brilliant star in a firmament no longer a part of the sky, eclipsed by the movement of earth and time. Barbara Jean Trenton, whose world is a projection room, whose dreams are made out of celluloid. Barbara Jean Trenton, struck down by hit-and-run years and lying on the unhappy pavement, trying desperately to get the license number of fleeting fame.[narration_end]',\n",
              " \"[narration_start]Walking Distance\\r\\nMartin Sloan, age thirty-six. Occupation: vice-president, ad agency, in charge of media. This is not just a Sunday drive for Martin Sloan. He perhaps doesn't know it at the time, but it's an exodus. Somewhere up the road he's looking for sanity. And somewhere up the road, he'll find something else.[narration_end]\",\n",
              " \"[narration_start]Escape Clause\\r\\nYou're about to meet a hypochondriac. Witness Mr. Walter Bedeker, age forty-four, afraid of the following: death, disease, other people, germs, draft, and everything else. He has one interest in life, and that's Walter Bedeker. One preoccupation: the life and well-being of Walter Bedeker. One abiding concern about society: that if Walter Bedeker should die, how will it survive without him?[narration_end]\",\n",
              " \"[narration_start]The Lonely\\r\\nWitness if you will a dungeon, made out of mountains, salt flats and sand that stretch to infinity. The dungeon has an inmate: James A. Corry. And this is his residence: a metal shack. An old touring car that squats in the sun and goes nowhere - for there is nowhere to go. For the record let it be known that James A. Corry is a convicted crimi nal placed in solitary confinement. Confinement in this case stretches as far as the eye can see, because this particular dungeon is on an asteroid nine million miles from the Earth. Now witness if you will a man's mind and body shrivelling in the sun, a man dying of loneliness.[narration_end]\",\n",
              " \"[narration_start]Time Enough at Last\\r\\nWitness Mr. Henry Bemis, a charter member in the fraternity of dreamers. A bookish little man whose passion is the printed page but who is conspired against by a bank president and a wife and a world full of tongue-cluckers and the unrelenting hands of a clock. But in just a moment Mr. Bemis will enter a world without bank presidents or wives or clocks or anything else. He'll have a world all to himself without anyone.[narration_end]\",\n",
              " \"[narration_start]Perchance to Dream\\r\\nTwelve o'clock noon. An ordinary scene, an ordinary city. Lunchtime for thousands of ordinary people. To most of them, this hour will be a rest, a pleasant break in the day's routine. To most, but not all. To Edward Hall, time is an enemy, and the hour to come is a matter of life and death.[narration_end]\",\n",
              " \"[narration_start]Judgment Night\\r\\nHer name is the S.S. Queen of Glasgow. Her registry: British. Gross tonnage: five thousand. Age: indeterminate. At this moment she's one day out of Liverpool, her destination New York. Duly recorded on this ship's log is the sailing time, course to destination, weather conditions, temperature, longitude and latitude. But what is never recorded in a log is the fear that washes over a deck like fog and ocean spray. Fear like the throbbing strokes of engine pistons, each like a heartbeat, parceling out every hour into breathless minutes of watching, waiting and dreading. For the year is 1942, and this particular ship has lost its convoy. It travels alone like an aged blind thing groping through the unfriendly dark, stalked by unseen periscopes of steel killers. Yes, the Queen of Glasgow is a frightened ship, and she carries with her a premonition of death.[narration_end]\"]"
            ]
          },
          "metadata": {
            "tags": []
          },
          "execution_count": 5
        }
      ]
    },
    {
      "cell_type": "markdown",
      "metadata": {
        "id": "tbdx9QZXpEO5"
      },
      "source": [
        "Finally lets write it out to the local drive to be read into GPT-2"
      ]
    },
    {
      "cell_type": "code",
      "metadata": {
        "id": "-OWdgHXMqhGA"
      },
      "source": [
        "file_name = 'tz_opening_narrations.txt'\r\n",
        "tz_out = '\\n'.join(tz_list)\r\n",
        "with open(file_name, 'w') as f:\r\n",
        "  f.write(tz_out)"
      ],
      "execution_count": 6,
      "outputs": []
    },
    {
      "cell_type": "markdown",
      "metadata": {
        "id": "X_3Fdg8PrGkB"
      },
      "source": [
        "Next lets install the GPT-2 model.\r\n",
        "\r\n",
        "I'm using a great implementation of the model called GPT-2 Simple, made by Max Woolf (aka minimaxir on Github)\r\n",
        "\r\n",
        "See details on the implementation here:\r\n",
        "https://github.com/minimaxir/gpt-2-simple"
      ]
    },
    {
      "cell_type": "code",
      "metadata": {
        "id": "KBkpRgBCBS2_",
        "colab": {
          "base_uri": "https://localhost:8080/"
        },
        "outputId": "b70fb430-646d-4517-8d1b-20058dd146aa"
      },
      "source": [
        "%tensorflow_version 1.x\n",
        "!pip install -q gpt-2-simple\n",
        "import gpt_2_simple as gpt2"
      ],
      "execution_count": 7,
      "outputs": [
        {
          "output_type": "stream",
          "text": [
            "TensorFlow 1.x selected.\n",
            "WARNING:tensorflow:\n",
            "The TensorFlow contrib module will not be included in TensorFlow 2.0.\n",
            "For more information, please see:\n",
            "  * https://github.com/tensorflow/community/blob/master/rfcs/20180907-contrib-sunset.md\n",
            "  * https://github.com/tensorflow/addons\n",
            "  * https://github.com/tensorflow/io (for I/O related ops)\n",
            "If you depend on functionality not listed there, please file an issue.\n",
            "\n"
          ],
          "name": "stdout"
        }
      ]
    },
    {
      "cell_type": "markdown",
      "metadata": {
        "id": "0wXB05bPDYxS"
      },
      "source": [
        "# Downloading GPT-2\n",
        "\n",
        "Now we need to download the actual GPT-2 model.\n",
        "\n",
        "I'm using the medium version of the model (355M)"
      ]
    },
    {
      "cell_type": "code",
      "metadata": {
        "id": "CmJV96gXwdSx"
      },
      "source": [
        "model_version = '355M'"
      ],
      "execution_count": 8,
      "outputs": []
    },
    {
      "cell_type": "code",
      "metadata": {
        "id": "P8wSlgXoDPCR",
        "colab": {
          "base_uri": "https://localhost:8080/"
        },
        "outputId": "d3a7b572-d6f0-4507-be9f-a5241e9b02b6"
      },
      "source": [
        "gpt2.download_gpt2(model_name=model_version)"
      ],
      "execution_count": 9,
      "outputs": [
        {
          "output_type": "stream",
          "text": [
            "Fetching checkpoint: 1.05Mit [00:00, 315Mit/s]                                                      \n",
            "Fetching encoder.json: 1.05Mit [00:00, 124Mit/s]                                                    \n",
            "Fetching hparams.json: 1.05Mit [00:00, 986Mit/s]                                                    \n",
            "Fetching model.ckpt.data-00000-of-00001: 1.42Git [00:05, 280Mit/s]                                  \n",
            "Fetching model.ckpt.index: 1.05Mit [00:00, 583Mit/s]                                                \n",
            "Fetching model.ckpt.meta: 1.05Mit [00:00, 158Mit/s]                                                 \n",
            "Fetching vocab.bpe: 1.05Mit [00:00, 123Mit/s]                                                       \n"
          ],
          "name": "stderr"
        }
      ]
    },
    {
      "cell_type": "markdown",
      "metadata": {
        "id": "LdpZQXknFNY3"
      },
      "source": [
        "## Finetune GPT-2\n",
        "\n",
        "The next cell will start the actual finetuning of GPT-2. It creates a persistent TensorFlow session which stores the training config, then runs the training for the specified number of `steps`. (to have the finetuning run indefinitely, set `steps = -1`)\n",
        "\n",
        "The model checkpoints will be saved in `/checkpoint/run1` by default. The checkpoints are saved every 500 steps (can be changed) and when the cell is stopped.\n",
        "\n",
        "The training might time out after 4ish hours; make sure you end training and save the results so you don't lose them!\n",
        "\n",
        "**IMPORTANT NOTE:** If you want to rerun this cell, **restart the VM first** (Runtime -> Restart Runtime). You will need to rerun imports but not recopy files.\n",
        "\n",
        "Other optional-but-helpful parameters for `gpt2.finetune`:\n",
        "\n",
        "\n",
        "*  **`restore_from`**: Set to `fresh` to start training from the base GPT-2, or set to `latest` to restart training from an existing checkpoint.\n",
        "* **`sample_every`**: Number of steps to print example output\n",
        "* **`print_every`**: Number of steps to print training progress.\n",
        "* **`learning_rate`**:  Learning rate for the training. (default `1e-4`, can lower to `1e-5` if you have <1MB input data)\n",
        "*  **`run_name`**: subfolder within `checkpoint` to save the model. This is useful if you want to work with multiple models (will also need to specify  `run_name` when loading the model)\n",
        "* **`overwrite`**: Set to `True` if you want to continue finetuning an existing model (w/ `restore_from='latest'`) without creating duplicate copies. "
      ]
    },
    {
      "cell_type": "code",
      "metadata": {
        "id": "aeXshJM-Cuaf",
        "colab": {
          "base_uri": "https://localhost:8080/"
        },
        "outputId": "c662de59-2a27-479e-9f7e-6113ea7a217b"
      },
      "source": [
        "sess = gpt2.start_tf_sess()\n",
        "\n",
        "gpt2.finetune(sess,\n",
        "              dataset=file_name,\n",
        "              model_name=model_version,\n",
        "              steps=1000,\n",
        "              restore_from='fresh',\n",
        "              run_name='run1',\n",
        "              print_every=10,\n",
        "              sample_every=200,\n",
        "              save_every=500\n",
        "              )"
      ],
      "execution_count": null,
      "outputs": [
        {
          "output_type": "stream",
          "text": [
            "WARNING:tensorflow:From /usr/local/lib/python3.6/dist-packages/gpt_2_simple/src/sample.py:17: where (from tensorflow.python.ops.array_ops) is deprecated and will be removed in a future version.\n",
            "Instructions for updating:\n",
            "Use tf.where in 2.0, which has the same broadcast rule as np.where\n",
            "WARNING:tensorflow:From /usr/local/lib/python3.6/dist-packages/gpt_2_simple/src/memory_saving_gradients.py:62: get_backward_walk_ops (from tensorflow.contrib.graph_editor.select) is deprecated and will be removed after 2019-06-06.\n",
            "Instructions for updating:\n",
            "Please use tensorflow.python.ops.op_selector.get_backward_walk_ops.\n",
            "Loading checkpoint models/355M/model.ckpt\n",
            "INFO:tensorflow:Restoring parameters from models/355M/model.ckpt\n"
          ],
          "name": "stdout"
        },
        {
          "output_type": "stream",
          "text": [
            "\r  0%|          | 0/1 [00:00<?, ?it/s]"
          ],
          "name": "stderr"
        },
        {
          "output_type": "stream",
          "text": [
            "Loading dataset...\n"
          ],
          "name": "stdout"
        },
        {
          "output_type": "stream",
          "text": [
            "100%|██████████| 1/1 [00:00<00:00,  4.70it/s]\n"
          ],
          "name": "stderr"
        },
        {
          "output_type": "stream",
          "text": [
            "dataset has 20581 tokens\n",
            "Training...\n",
            "[10 | 23.89] loss=3.16 avg=3.16\n",
            "[20 | 39.53] loss=2.24 avg=2.69\n",
            "[30 | 55.39] loss=2.95 avg=2.78\n",
            "[40 | 71.46] loss=2.10 avg=2.61\n",
            "[50 | 87.70] loss=0.99 avg=2.28\n",
            "[60 | 104.17] loss=1.94 avg=2.22\n",
            "[70 | 120.60] loss=0.75 avg=2.00\n",
            "[80 | 136.95] loss=0.30 avg=1.78\n",
            "[90 | 153.31] loss=0.43 avg=1.63\n",
            "[100 | 169.71] loss=0.09 avg=1.47\n",
            "[110 | 186.14] loss=0.22 avg=1.35\n",
            "[120 | 202.53] loss=1.54 avg=1.36\n",
            "[130 | 218.92] loss=0.28 avg=1.27\n",
            "[140 | 235.30] loss=0.09 avg=1.18\n",
            "[150 | 251.71] loss=0.13 avg=1.11\n",
            "[160 | 268.09] loss=0.41 avg=1.06\n"
          ],
          "name": "stdout"
        }
      ]
    },
    {
      "cell_type": "markdown",
      "metadata": {
        "id": "IXSuTNERaw6K"
      },
      "source": [
        "After the model is trained, you can copy the checkpoint folder to your own Google Drive.\n",
        "\n",
        "If you want to download it to your personal computer, it's strongly recommended you copy it there first, then download from Google Drive. The checkpoint folder is copied as a `.rar` compressed file; you can download it and uncompress it locally."
      ]
    },
    {
      "cell_type": "code",
      "metadata": {
        "id": "VHdTL8NDbAh3"
      },
      "source": [
        "gpt2.copy_checkpoint_to_gdrive(run_name='run1')"
      ],
      "execution_count": null,
      "outputs": []
    },
    {
      "cell_type": "markdown",
      "metadata": {
        "id": "qQJgV_b4bmzd"
      },
      "source": [
        "You're done! Feel free to go to the **Generate Text From The Trained Model** section to generate text based on your retrained model."
      ]
    },
    {
      "cell_type": "markdown",
      "metadata": {
        "id": "pel-uBULXO2L"
      },
      "source": [
        "## Load a Trained Model Checkpoint\n",
        "\n",
        "Running the next cell will copy the `.rar` checkpoint file from your Google Drive into the Colaboratory VM."
      ]
    },
    {
      "cell_type": "code",
      "metadata": {
        "id": "DCcx5u7sbPTD"
      },
      "source": [
        "gpt2.copy_checkpoint_from_gdrive(run_name='run1')"
      ],
      "execution_count": null,
      "outputs": []
    },
    {
      "cell_type": "markdown",
      "metadata": {
        "id": "RTa6zf3e_9gV"
      },
      "source": [
        "The next cell will allow you to load the retrained model checkpoint + metadata necessary to generate text.\n",
        "\n",
        "**IMPORTANT NOTE:** If you want to rerun this cell, **restart the VM first** (Runtime -> Restart Runtime). You will need to rerun imports but not recopy files."
      ]
    },
    {
      "cell_type": "code",
      "metadata": {
        "id": "-fxL77nvAMAX"
      },
      "source": [
        "sess = gpt2.start_tf_sess()\n",
        "gpt2.load_gpt2(sess, run_name='run1')"
      ],
      "execution_count": null,
      "outputs": []
    },
    {
      "cell_type": "markdown",
      "metadata": {
        "id": "ClJwpF_ACONp"
      },
      "source": [
        "## Generate Text From The Trained Model\n",
        "\n",
        "After you've trained the model or loaded a retrained model from checkpoint, you can now generate text. `generate` generates a single text from the loaded model."
      ]
    },
    {
      "cell_type": "code",
      "metadata": {
        "id": "4RNY6RBI9LmL",
        "colab": {
          "base_uri": "https://localhost:8080/"
        },
        "outputId": "ec492791-2c63-4250-cb57-9e1ea203c155"
      },
      "source": [
        "gpt2.generate(sess, run_name='run1')"
      ],
      "execution_count": 12,
      "outputs": [
        {
          "output_type": "stream",
          "text": [
            "He was a fixture in his youth, a fixture of quiet desperation in an age of violence and gloom in an age of uncertainty. Now Henry Bledsoe looks for an escape - any escape, any way, anything, anybody - to get out of the rut. And this little old man is just what Mr. Bledsoe is waiting for something different. Something different, apparently, from what he's seen on TV, something different, apparently, from what any other man would expect from a wife or a mother. Something different, apparently, from what a wife or a mother should expect from a wife or a girlfriend. Something different, apparently, from what a girlfriend should expect from a life partner. Something different, apparently, from what a wife or a girlfriend should expect from a life companion. Jane Eyre, London. Mid-morning. A child's voice announces the start of the world. It is Mr. Jane Eyre, age thirty-six. And this is the Earth.\n",
            "\n",
            "25) The Empire State Building\n",
            "Her name: Statue of Liberty. Her motto: 'Give me your tired, your poor, your huddled masses.' In just a moment, she will lead them into a nightmare. This is Evelyn Fox, one of the guards on duty at the time. She is a veteran of the war, a staunch and reliable member of the Liberty Guard. And this is the third day of a nightmare. The first began at dawn. The second began at dusk. And the third began at dawn.\n",
            "\n",
            "26) The Monsters are Due on Maple Street\n",
            "Maple Street, U.S.A. Late summer. A tree-lined little world of front porch gliders, barbecues, the laughter of children, and the bell of an ice-cream vendor. At the sound of the roar and the flash of light, it will be precisely 6:43pm on a sidewalk named Maple Street. This is the Twilight Zone.\n",
            "\n",
            "27) The Odyssey of Flight 33\n",
            "You're riding on a jet airliner en route from London to New York. You're at 35,000 feet atop an overcast and roughly fifty-five minutes from Idlewild Airport. But what you've seen occur inside the cockpit of this plane is no reflection on the aircraft or the crew. It's a safe, well-engineered, perfectly designed machine, and the men you've just met are a trained, cool, highly efficient team. The problem is simply that the plane is going too fast and there is nothing within the realm of knowledge or at least logic to explain it. Unbeknownst to passenger and crew, this airplane is heading into an unchartered region well off the beaten track of commercial travelers. It's moving into the Twilight Zone. What you're about to see we call 'The Odyssey of Flight 33.\n",
            "\n",
            "28) Mr. Dingle, the Strong\n",
            "Uniquely American institution known as the neighborhood bar. Reading left to right are Mr. Anthony O'Toole, proprietor who waters his drinks like geraniums but who stands foursquare for peace and quiet and for booths for ladies. This is Mr. Joseph J. Callahan, an unregistered bookie, whose entire life is any sporting event with two sides and a set of odds. His idea of a meeting at the summit is any dialogue between a catcher and a pitcher with more than one man on base. And this animated citizen is every anonymous bettor who ever dropped rent money on a horse race, a prize fight, or a floating crap game, and who took out his frustrations and his insolvency on any vulnerable fellow barstool companion within arm's and fist's reach. And this is Mr. Luther Dingle, a vacuum-cleaner salesman whose volume of business is roughly that of a valet at a hobo convention. He's a consummate failure in almost everything but is a good listener and has a prominent jaw. And these two unseen gentlemen are visitors from outer space. They are about to alter the destiny of Luther Dingle by leaving him a legacy, the kind you can't hardly find no more. In just a moment, a sad-faced perennial punching bag who missed even the caboose of life's gravy train will take a short constitutional into that most unpredictable region that we refer to as the Twilight Zone.\n",
            "\n",
            "29) Static\n",
            "No one ever saw one quite like that, because that's a very special sort of radio. In its day, circa 1935, its type was one of the most elegant consoles on the market. Now, with its fabric-covered speakers, its peculiar yellow dial, its serrated knobs, it looks quaint and a little strange. Mr. Ed Lindsay is going to find out how strange very soon when he tunes in to the Twilight Zone.\n",
            "\n",
            "30) The Prime Mover\n",
            "Portrait of a man who thinks and thereby gets things done. Mr. Jimbo Cobb might be called a prime mover, a talent which has to be seen\n"
          ],
          "name": "stdout"
        }
      ]
    },
    {
      "cell_type": "markdown",
      "metadata": {
        "id": "oF4-PqF0Fl7R"
      },
      "source": [
        "If you're creating an API based on your model and need to pass the generated text elsewhere, you can do `text = gpt2.generate(sess, return_as_list=True)[0]`\n",
        "\n",
        "You can also pass in a `prefix` to the generate function to force the text to start with a given character sequence and generate text from there (good if you add an indicator when the text starts).\n",
        "\n",
        "You can also generate multiple texts at a time by specifing `nsamples`. Unique to GPT-2, you can pass a `batch_size` to generate multiple samples in parallel, giving a massive speedup (in Colaboratory, set a maximum of 20 for `batch_size`).\n",
        "\n",
        "Other optional-but-helpful parameters for `gpt2.generate` and friends:\n",
        "\n",
        "*  **`length`**: Number of tokens to generate (default 1023, the maximum)\n",
        "* **`temperature`**: The higher the temperature, the crazier the text (default 0.7, recommended to keep between 0.7 and 1.0)\n",
        "* **`top_k`**: Limits the generated guesses to the top *k* guesses (default 0 which disables the behavior; if the generated output is super crazy, you may want to set `top_k=40`)\n",
        "* **`top_p`**: Nucleus sampling: limits the generated guesses to a cumulative probability. (gets good results on a dataset with `top_p=0.9`)\n",
        "* **`truncate`**: Truncates the input text until a given sequence, excluding that sequence (e.g. if `truncate='<|endoftext|>'`, the returned text will include everything before the first `<|endoftext|>`). It may be useful to combine this with a smaller `length` if the input texts are short.\n",
        "*  **`include_prefix`**: If using `truncate` and `include_prefix=False`, the specified `prefix` will not be included in the returned text."
      ]
    },
    {
      "cell_type": "code",
      "metadata": {
        "id": "8DKMc0fiej4N",
        "colab": {
          "base_uri": "https://localhost:8080/",
          "height": 1000
        },
        "outputId": "526dbd1b-f076-4f47-a42b-058ab4a35b9f"
      },
      "source": [
        "gpt2.generate(sess,\n",
        "              length=250,\n",
        "              temperature=0.7,\n",
        "              prefix=\"LORD\",\n",
        "              nsamples=5,\n",
        "              batch_size=5\n",
        "              )"
      ],
      "execution_count": null,
      "outputs": [
        {
          "output_type": "stream",
          "text": [
            "LORD WILLOUGHBY:\n",
            "That, by the way, Clarence and I have done good side by side;\n",
            "And yet side we, and he side we have done ill.\n",
            "\n",
            "KING RICHARD II:\n",
            "Why then 'tis done ill. O, how should I ease it?\n",
            "Side with him and my brother, my sovereign!\n",
            "Side wither away, and as night falls,\n",
            "Like to the farthest morning to my last,\n",
            "Side wither away, and as morning comes,\n",
            "Like to the furthest afternoon to my last!\n",
            "Side wither away, and as our fortunes turn,\n",
            "Like to the furthest afternoon to our last!\n",
            "\n",
            "QUEEN MARGARET:\n",
            "What is this? counsel? counsel!\n",
            "\n",
            "KING RICHARD II:\n",
            "My queen and my heir, for half a mile and a half\n",
            "She will glide this way, to be or no.\n",
            "\n",
            "QUEEN MARGARET:\n",
            "So stands the orchard here, for half a mile and a!\n",
            "\n",
            "KING RICHARD II:\n",
            "So stands the orchard here, to fence it, to!\n",
            "Fashion it in her, like the hedgehog's net\n",
            "====================\n",
            "LORD STANLEY:\n",
            "What if I told you, in the hope of succor,\n",
            "That I had lain a little while in your arms?\n",
            "\n",
            "DUKE OF YORK:\n",
            "No doubt, my lord.\n",
            "\n",
            "QUEEN ELIZABETH:\n",
            "'Tis a pity I should be coil'd to\n",
            "Be brief and unanswerable. Yet give me this.\n",
            "\n",
            "EXTON:\n",
            "'Tis a truth that vexes me deeply\n",
            "To try whether thou, Lord Hastings, art moved\n",
            "To enter publicly with gentle discourse\n",
            "And thanks from his acknowledged friends.\n",
            "\n",
            "HASTINGS:\n",
            "My gracious lord,\n",
            "Suppose me this: did I so love to see the Tower?\n",
            "\n",
            "KING RICHARD II:\n",
            "I did so; but the duelling Tower, moved\n",
            "By jealousies to oppress me,\n",
            "Wretches to usurp him held most dear,\n",
            "The truth is, I loved the Tower as I loved\n",
            "The princes that envied their prosperity.\n",
            "\n",
            "HASTINGS:\n",
            "I loved innocently,\n",
            "When my princes did usurp their gains; when\n",
            "When my grandsire and my liege, prince and prince,\n",
            "B\n",
            "====================\n",
            "LORD WILLOUGHBY:\n",
            "How long shall it take? only\n",
            "To behold your father's bending in the duke's.\n",
            "How long shall it be? do you understand me?\n",
            "\n",
            "ROMEO:\n",
            "Your grace, I understand you.\n",
            "\n",
            "ROMEO:\n",
            "It must be so; then I'll excuse myself.\n",
            "\n",
            "ROMEO:\n",
            "It shall be so.\n",
            "\n",
            "FRIAR LAURENCE:\n",
            "Your nose is pleasant on myself.\n",
            "\n",
            "ROMEO:\n",
            "No need.\n",
            "\n",
            "FRIAR LAURENCE:\n",
            "My heart is troubled by strange thoughts.\n",
            "\n",
            "ROMEO:\n",
            "No need.\n",
            "\n",
            "FRIAR LAURENCE:\n",
            "My heart is troubled by strange thoughts.\n",
            "\n",
            "ROMEO:\n",
            "Prithee, be quiet; thou need'st it.\n",
            "\n",
            "FRIAR LAURENCE:\n",
            "My mind is unsettled; no need.\n",
            "\n",
            "ROMEO:\n",
            "Prithee, be quiet; thou need'st it.\n",
            "\n",
            "FRIAR LAURENCE:\n",
            "My mind is unsettled; no need.\n",
            "\n",
            "ROMEO:\n",
            "Prithee, be quiet; thou need'st it.\n",
            "\n",
            "FRIAR LA\n",
            "====================\n",
            "LORD WILLOUGHBY:\n",
            "And, if the right Edward were slain,\n",
            "My father's blood should wash the world from me.\n",
            "\n",
            "QUEEN MARGARET:\n",
            "O, let him fly from me, that he may live!\n",
            "\n",
            "PRINCE EDWARD:\n",
            "Arise, one last, and let him be slain ere he return.\n",
            "\n",
            "QUEEN MARGARET:\n",
            "I thank God I am not young nor old to waste.\n",
            "I am young and wooer than this young wooer was.\n",
            "\n",
            "YORK:\n",
            "Younger than young, and wooer than a man is.\n",
            "\n",
            "QUEEN MARGARET:\n",
            "What, wilt thou not kill her?\n",
            "\n",
            "RYBHUS:\n",
            "If thou darest, thou hast to do good deeds,\n",
            "If thou darest, thou darest not kill her, thou darest.\n",
            "\n",
            "PRINCE EDWARD:\n",
            "Where dost thou go? command Warwick to take her?\n",
            "\n",
            "WARWICK:\n",
            "Where leadess Warwick be that Warwick is woo'd.\n",
            "\n",
            "YORK:\n",
            "Where leadess Warwick be woo'd that noble York is.\n",
            "\n",
            "PRINCE\n",
            "====================\n",
            "LORD WILLOUGHBY:\n",
            "Let him please to come and sup with him?\n",
            "\n",
            "WARWICK:\n",
            "I promised he should come and sup with him.\n",
            "\n",
            "YORK:\n",
            "'Twas a vow of charity to vex him,\n",
            "And then he should vex us to come and sup.\n",
            "\n",
            "WARWICK:\n",
            "'Twas but a vow to come and sup with him.\n",
            "\n",
            "YORK:\n",
            "'Twas but a vow to come and sup with him.\n",
            "\n",
            "WARWICK:\n",
            "Come hither, slave boy.\n",
            "Me I come, you wretched hag, you wretched thing.\n",
            "\n",
            "DORCAS:\n",
            "'Tis very well. Come, go with me.\n",
            "\n",
            "WARWICK:\n",
            "I will be his slave, and make his bondage known.\n",
            "\n",
            "EXTON:\n",
            "So, you have resisted his bondage, you have run your errand too far.\n",
            "\n",
            "WESTMORELAND:\n",
            "O, but O, the slave that was past the year\n",
            "Doth not my errand a better errand?\n",
            "\n",
            "EXTON:\n",
            "No, for so my wits charge me thus too late.\n",
            "\n",
            "WARWICK:\n",
            "But\n",
            "====================\n"
          ],
          "name": "stdout"
        }
      ]
    },
    {
      "cell_type": "markdown",
      "metadata": {
        "id": "zjjEN2Tafhl2"
      },
      "source": [
        "For bulk generation, you can generate a large amount of text to a file and sort out the samples locally on your computer. The next cell will generate a generated text file with a unique timestamp.\n",
        "\n",
        "You can rerun the cells as many times as you want for even more generated texts!"
      ]
    },
    {
      "cell_type": "code",
      "metadata": {
        "id": "Fa6p6arifSL0"
      },
      "source": [
        "gen_file = 'gpt2_gentext_{:%Y%m%d_%H%M%S}.txt'.format(datetime.utcnow())\n",
        "\n",
        "gpt2.generate_to_file(sess,\n",
        "                      destination_path=gen_file,\n",
        "                      length=500,\n",
        "                      temperature=0.7,\n",
        "                      nsamples=100,\n",
        "                      batch_size=20\n",
        "                      )"
      ],
      "execution_count": null,
      "outputs": []
    },
    {
      "cell_type": "code",
      "metadata": {
        "id": "0-LRex8lfv1g"
      },
      "source": [
        "# may have to run twice to get file to download\n",
        "files.download(gen_file)"
      ],
      "execution_count": null,
      "outputs": []
    },
    {
      "cell_type": "markdown",
      "metadata": {
        "id": "QQAN3M6RT7Kj"
      },
      "source": [
        "## Generate Text From The Pretrained Model\n",
        "\n",
        "If you want to generate text from the pretrained model, not a finetuned model, pass `model_name` to `gpt2.load_gpt2()` and `gpt2.generate()`.\n",
        "\n",
        "This is currently the only way to generate text from the 774M or 1558M models with this notebook."
      ]
    },
    {
      "cell_type": "code",
      "metadata": {
        "id": "hsUd_jHgUZnD",
        "colab": {
          "base_uri": "https://localhost:8080/",
          "height": 158
        },
        "outputId": "4e0c8a3f-3527-41c4-e3fe-3357f3f8f6c2"
      },
      "source": [
        "model_name = \"774M\"\n",
        "\n",
        "gpt2.download_gpt2(model_name=model_name)"
      ],
      "execution_count": null,
      "outputs": [
        {
          "output_type": "stream",
          "text": [
            "Fetching checkpoint: 1.05Mit [00:00, 354Mit/s]                                                      \n",
            "Fetching encoder.json: 1.05Mit [00:00, 131Mit/s]                                                    \n",
            "Fetching hparams.json: 1.05Mit [00:00, 279Mit/s]                                                    \n",
            "Fetching model.ckpt.data-00000-of-00001: 3.10Git [00:23, 131Mit/s]                                  \n",
            "Fetching model.ckpt.index: 1.05Mit [00:00, 380Mit/s]                                                \n",
            "Fetching model.ckpt.meta: 2.10Mit [00:00, 226Mit/s]                                                 \n",
            "Fetching vocab.bpe: 1.05Mit [00:00, 199Mit/s]                                                       \n"
          ],
          "name": "stderr"
        }
      ]
    },
    {
      "cell_type": "code",
      "metadata": {
        "id": "BAe4NpKNUj2C",
        "colab": {
          "base_uri": "https://localhost:8080/",
          "height": 124
        },
        "outputId": "b09bfe1d-2ff8-4b8a-fffb-273d28d5d4ae"
      },
      "source": [
        "sess = gpt2.start_tf_sess()\n",
        "\n",
        "gpt2.load_gpt2(sess, model_name=model_name)"
      ],
      "execution_count": null,
      "outputs": [
        {
          "output_type": "stream",
          "text": [
            "WARNING: Logging before flag parsing goes to stderr.\n",
            "W0828 18:37:58.571830 139905369159552 deprecation.py:323] From /usr/local/lib/python3.6/dist-packages/tensorflow/python/training/saver.py:1276: checkpoint_exists (from tensorflow.python.training.checkpoint_management) is deprecated and will be removed in a future version.\n",
            "Instructions for updating:\n",
            "Use standard file APIs to check for files with this prefix.\n"
          ],
          "name": "stderr"
        },
        {
          "output_type": "stream",
          "text": [
            "Loading pretrained model models/774M/model.ckpt\n"
          ],
          "name": "stdout"
        }
      ]
    },
    {
      "cell_type": "code",
      "metadata": {
        "id": "-xInIZKaU104",
        "colab": {
          "base_uri": "https://localhost:8080/",
          "height": 797
        },
        "outputId": "56348e28-7d08-45e3-c859-f26c0efd066d"
      },
      "source": [
        "gpt2.generate(sess,\n",
        "              model_name=model_name,\n",
        "              prefix=\"The secret of life is\",\n",
        "              length=100,\n",
        "              temperature=0.7,\n",
        "              top_p=0.9,\n",
        "              nsamples=5,\n",
        "              batch_size=5\n",
        "              )"
      ],
      "execution_count": null,
      "outputs": [
        {
          "output_type": "stream",
          "text": [
            "The secret of life is that it's really easy to make it complicated,\" said Bill Nye, the host of the popular science show \"Bill Nye the Science Guy.\" \"And this is one of the reasons why we all need to be smarter about science, because we can't keep up with the amazing things that are going on all the time.\"\n",
            "\n",
            "While Nye is correct that \"everything that's going on all the time\" is making the world a better place, he misses the point. This is not\n",
            "====================\n",
            "The secret of life is in the rhythm of the universe. It's not a mystery. It's not a mystery to me. It's the nature of the universe. It's the beauty of the universe. It's the way the universe works. It's the way the universe is. It's the way the universe is going to work. It's the way the universe is. It's the way the universe is. It's the way the universe is. It's the way the universe is. It's the way\n",
            "====================\n",
            "The secret of life is in the universe.\n",
            "\n",
            "\n",
            "-\n",
            "\n",
            "The Red Devil\n",
            "\n",
            "It's the end of the world as we know it, and the only thing that can save us is a band of super-powered individuals known as the Red Devil.\n",
            "\n",
            "\n",
            "The Red Devil is a group of super-powered individuals who are seeking the secret of life and the only way they know how to do it is by taking on the roles of a variety of different super-powered individuals, each of which has their own\n",
            "====================\n",
            "The secret of life is in the mixing of the elements, and it is the mixing of the elements that makes life possible.\"\n",
            "\n",
            "But in the world of food science, the idea of a \"complex\" or \"complexity\" is almost entirely imaginary.\n",
            "\n",
            "As a scientist, I'm fascinated by the question of how life first began.\n",
            "\n",
            "It's the question that drives my work and the work of the scientists who work on it.\n",
            "\n",
            "My current research is exploring how microbes work in the first moments\n",
            "====================\n",
            "The secret of life is the journey of life, the search for the truth.\n",
            "\n",
            "4.4.2. The last thing you know\n",
            "\n",
            "There is nothing more important than the last thing you know.\n",
            "\n",
            "4.4.3. The little things that make all the difference\n",
            "\n",
            "The little things that make all the difference.\n",
            "\n",
            "4.4.4. The truth is the best teacher\n",
            "\n",
            "The truth is the best teacher.\n",
            "\n",
            "4.4.5. The truth is what\n",
            "====================\n"
          ],
          "name": "stdout"
        }
      ]
    },
    {
      "cell_type": "markdown",
      "metadata": {
        "id": "ig-KVgkCDCKD"
      },
      "source": [
        "# Etcetera\n",
        "\n",
        "If the notebook has errors (e.g. GPU Sync Fail), force-kill the Colaboratory virtual machine and restart it with the command below:"
      ]
    },
    {
      "cell_type": "code",
      "metadata": {
        "id": "rIHiVP53FnsX"
      },
      "source": [
        "!kill -9 -1"
      ],
      "execution_count": null,
      "outputs": []
    },
    {
      "cell_type": "markdown",
      "metadata": {
        "id": "wmTXWNUygS5E"
      },
      "source": [
        "# LICENSE\n",
        "\n",
        "MIT License\n",
        "\n",
        "Copyright (c) 2019 Max Woolf\n",
        "\n",
        "Permission is hereby granted, free of charge, to any person obtaining a copy\n",
        "of this software and associated documentation files (the \"Software\"), to deal\n",
        "in the Software without restriction, including without limitation the rights\n",
        "to use, copy, modify, merge, publish, distribute, sublicense, and/or sell\n",
        "copies of the Software, and to permit persons to whom the Software is\n",
        "furnished to do so, subject to the following conditions:\n",
        "\n",
        "The above copyright notice and this permission notice shall be included in all\n",
        "copies or substantial portions of the Software.\n",
        "\n",
        "THE SOFTWARE IS PROVIDED \"AS IS\", WITHOUT WARRANTY OF ANY KIND, EXPRESS OR\n",
        "IMPLIED, INCLUDING BUT NOT LIMITED TO THE WARRANTIES OF MERCHANTABILITY,\n",
        "FITNESS FOR A PARTICULAR PURPOSE AND NONINFRINGEMENT. IN NO EVENT SHALL THE\n",
        "AUTHORS OR COPYRIGHT HOLDERS BE LIABLE FOR ANY CLAIM, DAMAGES OR OTHER\n",
        "LIABILITY, WHETHER IN AN ACTION OF CONTRACT, TORT OR OTHERWISE, ARISING FROM,\n",
        "OUT OF OR IN CONNECTION WITH THE SOFTWARE OR THE USE OR OTHER DEALINGS IN THE\n",
        "SOFTWARE."
      ]
    }
  ]
}