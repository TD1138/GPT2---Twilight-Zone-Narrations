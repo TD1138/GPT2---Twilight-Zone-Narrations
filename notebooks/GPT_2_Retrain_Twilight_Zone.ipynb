{
  "nbformat": 4,
  "nbformat_minor": 0,
  "metadata": {
    "colab": {
      "name": "GPT-2 Retrain - Twilight Zone",
      "provenance": [],
      "collapsed_sections": [],
      "include_colab_link": true
    },
    "kernelspec": {
      "name": "python3",
      "display_name": "Python 3"
    },
    "accelerator": "GPU"
  },
  "cells": [
    {
      "cell_type": "markdown",
      "metadata": {
        "id": "view-in-github",
        "colab_type": "text"
      },
      "source": [
        "<a href=\"https://colab.research.google.com/github/TD1138/GPT2---Twilight-Zone-Narrations/blob/main/notebooks/GPT_2_Retrain_Twilight_Zone.ipynb\" target=\"_parent\"><img src=\"https://colab.research.google.com/assets/colab-badge.svg\" alt=\"Open In Colab\"/></a>"
      ]
    },
    {
      "cell_type": "markdown",
      "metadata": {
        "id": "H7LoMj4GA4n_"
      },
      "source": [
        "#  Retraining GPT-2 to output Twilight Zone Narrations!\n",
        "\n",
        "by Tom Devine\n",
        "\n",
        "\n",
        "The Twilight Zone is one of my favourite shows!\n",
        "\n",
        "Created by Rod Serling, this 1950s show was groundbreaking for it's era, mixing science fiction and fantasy with tales of morality - going on to influence thousands of creators since - recent shows such as Black Mirror owe a huge debt to this anthology show!\n",
        "\n",
        "Rod Serling, alongside show-running and plot duties, narrated each episode, providing an introduction to each story, as well as a closing narration, often highlighting the moral aspect of the story.\n",
        "\n",
        "It is these narrations that I'll be retraining GPT-2 to output!"
      ]
    },
    {
      "cell_type": "markdown",
      "metadata": {
        "id": "wkin80pzdI1T"
      },
      "source": [
        "Lets import the standard packages:"
      ]
    },
    {
      "cell_type": "code",
      "metadata": {
        "id": "51gg_C52dPa1"
      },
      "source": [
        "import pandas as pd\r\n",
        "import numpy as np\r\n",
        "import requests"
      ],
      "execution_count": 1,
      "outputs": []
    },
    {
      "cell_type": "markdown",
      "metadata": {
        "id": "4lbsGk1qERaj"
      },
      "source": [
        "# Text Pre-processing"
      ]
    },
    {
      "cell_type": "markdown",
      "metadata": {
        "id": "Kl-xOMPVDh5d"
      },
      "source": [
        "Originally I was going to scrape these narrations from Wikipedia, but I managed to obtain a copy of them from an angelfire website!\r\n",
        "https://www.angelfire.com/fl/twilightzonelist/openingnarrations.html\r\n",
        "\r\n",
        "Let's import the dataset:"
      ]
    },
    {
      "cell_type": "code",
      "metadata": {
        "colab": {
          "base_uri": "https://localhost:8080/",
          "height": 105
        },
        "id": "2g_jupiiC7dG",
        "outputId": "d27bf501-6bce-428c-a37d-7a26102122a6"
      },
      "source": [
        "url = 'https://raw.githubusercontent.com/TD1138/GPT2---Twilight-Zone-Narrations/main/text_files/all_opening_narrations.txt'\r\n",
        "resp = requests.get(url)\r\n",
        "tz_file = resp.text\r\n",
        "tz_file[:666]"
      ],
      "execution_count": 2,
      "outputs": [
        {
          "output_type": "execute_result",
          "data": {
            "application/vnd.google.colaboratory.intrinsic+json": {
              "type": "string"
            },
            "text/plain": [
              "\"1) Where is Everybody?\\r\\nThe place is here, the time is now, and the journey into the shadows that we're about to watch could be our journey.\\r\\n\\r\\n2) One for the Angels\\r\\nStreet scene: summer. The present. Man on a sidewalk named Lew Bookman, age sixtyish. Occupation: pitchman. Lew Bookman, a fixture of the summer, a rather minor component to a hot July, a nondescript, commonplace little man whose life is a treadmill built out of sidewalks. In just a moment, Lew Bookman will have to concern himself with survival, because as of three o'clock this hot July afternoon he'll be stalked by Mr. Death.\\r\\n\\r\\n3) Mr. Denton on Doomsday\\r\\nPortrait of a town drunk named Al Dent\""
            ]
          },
          "metadata": {
            "tags": []
          },
          "execution_count": 2
        }
      ]
    },
    {
      "cell_type": "markdown",
      "metadata": {
        "id": "0M6P0XDDe3i-"
      },
      "source": [
        "We need to split this file into different episodes.\r\n",
        "It looks like each file has an additional line break token, so we can split on the double return '\\r\\n\\r\\n'\r\n",
        "Let's test this:"
      ]
    },
    {
      "cell_type": "code",
      "metadata": {
        "colab": {
          "base_uri": "https://localhost:8080/"
        },
        "id": "4kZY3v_xfSCg",
        "outputId": "a64beef7-f687-4a8e-a92d-9fa45d6e516f"
      },
      "source": [
        "tz_file.split('\\r\\n\\r\\n')[:10]"
      ],
      "execution_count": 3,
      "outputs": [
        {
          "output_type": "execute_result",
          "data": {
            "text/plain": [
              "[\"1) Where is Everybody?\\r\\nThe place is here, the time is now, and the journey into the shadows that we're about to watch could be our journey.\",\n",
              " \"2) One for the Angels\\r\\nStreet scene: summer. The present. Man on a sidewalk named Lew Bookman, age sixtyish. Occupation: pitchman. Lew Bookman, a fixture of the summer, a rather minor component to a hot July, a nondescript, commonplace little man whose life is a treadmill built out of sidewalks. In just a moment, Lew Bookman will have to concern himself with survival, because as of three o'clock this hot July afternoon he'll be stalked by Mr. Death.\",\n",
              " \"3) Mr. Denton on Doomsday\\r\\nPortrait of a town drunk named Al Denton. This is a man who's begun his dying early - a long, agonizing route through a maze of bottles. Al Denton, who would probably give an arm or a leg or a part of his soul to have another chance, to be able to rise up and shake the dirt from his body and the bad dreams that infest his consciousness. In the parlance of the times, this is a peddler, a rather fanciful-looking little man in a black frock coat. And this is the third principal character of our story. Its function: perhaps to give Mr. Al Denton his second chance.\",\n",
              " '4) The Sixteen Millimeter Shrine\\r\\nPicture of a woman looking at a picture. Movie great of another time, once-brilliant star in a firmament no longer a part of the sky, eclipsed by the movement of earth and time. Barbara Jean Trenton, whose world is a projection room, whose dreams are made out of celluloid. Barbara Jean Trenton, struck down by hit-and-run years and lying on the unhappy pavement, trying desperately to get the license number of fleeting fame.',\n",
              " \"5) Walking Distance\\r\\nMartin Sloan, age thirty-six. Occupation: vice-president, ad agency, in charge of media. This is not just a Sunday drive for Martin Sloan. He perhaps doesn't know it at the time, but it's an exodus. Somewhere up the road he's looking for sanity. And somewhere up the road, he'll find something else.\",\n",
              " \"6) Escape Clause\\r\\nYou're about to meet a hypochondriac. Witness Mr. Walter Bedeker, age forty-four, afraid of the following: death, disease, other people, germs, draft, and everything else. He has one interest in life, and that's Walter Bedeker. One preoccupation: the life and well-being of Walter Bedeker. One abiding concern about society: that if Walter Bedeker should die, how will it survive without him?\",\n",
              " \"7) The Lonely\\r\\nWitness if you will a dungeon, made out of mountains, salt flats and sand that stretch to infinity. The dungeon has an inmate: James A. Corry. And this is his residence: a metal shack. An old touring car that squats in the sun and goes nowhere - for there is nowhere to go. For the record let it be known that James A. Corry is a convicted crimi nal placed in solitary confinement. Confinement in this case stretches as far as the eye can see, because this particular dungeon is on an asteroid nine million miles from the Earth. Now witness if you will a man's mind and body shrivelling in the sun, a man dying of loneliness.\",\n",
              " \"8) Time Enough at Last\\r\\nWitness Mr. Henry Bemis, a charter member in the fraternity of dreamers. A bookish little man whose passion is the printed page but who is conspired against by a bank president and a wife and a world full of tongue-cluckers and the unrelenting hands of a clock. But in just a moment Mr. Bemis will enter a world without bank presidents or wives or clocks or anything else. He'll have a world all to himself without anyone.\",\n",
              " \"9) Perchance to Dream\\r\\nTwelve o'clock noon. An ordinary scene, an ordinary city. Lunchtime for thousands of ordinary people. To most of them, this hour will be a rest, a pleasant break in the day's routine. To most, but not all. To Edward Hall, time is an enemy, and the hour to come is a matter of life and death.\",\n",
              " \"10) Judgment Night\\r\\nHer name is the S.S. Queen of Glasgow. Her registry: British. Gross tonnage: five thousand. Age: indeterminate. At this moment she's one day out of Liverpool, her destination New York. Duly recorded on this ship's log is the sailing time, course to destination, weather conditions, temperature, longitude and latitude. But what is never recorded in a log is the fear that washes over a deck like fog and ocean spray. Fear like the throbbing strokes of engine pistons, each like a heartbeat, parceling out every hour into breathless minutes of watching, waiting and dreading. For the year is 1942, and this particular ship has lost its convoy. It travels alone like an aged blind thing groping through the unfriendly dark, stalked by unseen periscopes of steel killers. Yes, the Queen of Glasgow is a frightened ship, and she carries with her a premonition of death.\"]"
            ]
          },
          "metadata": {
            "tags": []
          },
          "execution_count": 3
        }
      ]
    },
    {
      "cell_type": "markdown",
      "metadata": {
        "id": "LISmyPBRg7xK"
      },
      "source": [
        "Looks like this gave us what we need!\r\n",
        "\r\n",
        "Lets also remove the episode numbers in this step.\r\n",
        "\r\n",
        "Note that we're leaving the linebreak after the episode title - hopefully our model will be able to come up with it's own titles as well as narrations!"
      ]
    },
    {
      "cell_type": "code",
      "metadata": {
        "colab": {
          "base_uri": "https://localhost:8080/"
        },
        "id": "zWNhSvnNhIuy",
        "outputId": "54741b3d-9904-462f-e5d7-49235d3b40f0"
      },
      "source": [
        "tz_list = tz_file.split('\\r\\n\\r\\n')\r\n",
        "tz_list = [title.split(') ')[1] for title in tz_list]\r\n",
        "tz_list[:10]"
      ],
      "execution_count": 4,
      "outputs": [
        {
          "output_type": "execute_result",
          "data": {
            "text/plain": [
              "[\"Where is Everybody?\\r\\nThe place is here, the time is now, and the journey into the shadows that we're about to watch could be our journey.\",\n",
              " \"One for the Angels\\r\\nStreet scene: summer. The present. Man on a sidewalk named Lew Bookman, age sixtyish. Occupation: pitchman. Lew Bookman, a fixture of the summer, a rather minor component to a hot July, a nondescript, commonplace little man whose life is a treadmill built out of sidewalks. In just a moment, Lew Bookman will have to concern himself with survival, because as of three o'clock this hot July afternoon he'll be stalked by Mr. Death.\",\n",
              " \"Mr. Denton on Doomsday\\r\\nPortrait of a town drunk named Al Denton. This is a man who's begun his dying early - a long, agonizing route through a maze of bottles. Al Denton, who would probably give an arm or a leg or a part of his soul to have another chance, to be able to rise up and shake the dirt from his body and the bad dreams that infest his consciousness. In the parlance of the times, this is a peddler, a rather fanciful-looking little man in a black frock coat. And this is the third principal character of our story. Its function: perhaps to give Mr. Al Denton his second chance.\",\n",
              " 'The Sixteen Millimeter Shrine\\r\\nPicture of a woman looking at a picture. Movie great of another time, once-brilliant star in a firmament no longer a part of the sky, eclipsed by the movement of earth and time. Barbara Jean Trenton, whose world is a projection room, whose dreams are made out of celluloid. Barbara Jean Trenton, struck down by hit-and-run years and lying on the unhappy pavement, trying desperately to get the license number of fleeting fame.',\n",
              " \"Walking Distance\\r\\nMartin Sloan, age thirty-six. Occupation: vice-president, ad agency, in charge of media. This is not just a Sunday drive for Martin Sloan. He perhaps doesn't know it at the time, but it's an exodus. Somewhere up the road he's looking for sanity. And somewhere up the road, he'll find something else.\",\n",
              " \"Escape Clause\\r\\nYou're about to meet a hypochondriac. Witness Mr. Walter Bedeker, age forty-four, afraid of the following: death, disease, other people, germs, draft, and everything else. He has one interest in life, and that's Walter Bedeker. One preoccupation: the life and well-being of Walter Bedeker. One abiding concern about society: that if Walter Bedeker should die, how will it survive without him?\",\n",
              " \"The Lonely\\r\\nWitness if you will a dungeon, made out of mountains, salt flats and sand that stretch to infinity. The dungeon has an inmate: James A. Corry. And this is his residence: a metal shack. An old touring car that squats in the sun and goes nowhere - for there is nowhere to go. For the record let it be known that James A. Corry is a convicted crimi nal placed in solitary confinement. Confinement in this case stretches as far as the eye can see, because this particular dungeon is on an asteroid nine million miles from the Earth. Now witness if you will a man's mind and body shrivelling in the sun, a man dying of loneliness.\",\n",
              " \"Time Enough at Last\\r\\nWitness Mr. Henry Bemis, a charter member in the fraternity of dreamers. A bookish little man whose passion is the printed page but who is conspired against by a bank president and a wife and a world full of tongue-cluckers and the unrelenting hands of a clock. But in just a moment Mr. Bemis will enter a world without bank presidents or wives or clocks or anything else. He'll have a world all to himself without anyone.\",\n",
              " \"Perchance to Dream\\r\\nTwelve o'clock noon. An ordinary scene, an ordinary city. Lunchtime for thousands of ordinary people. To most of them, this hour will be a rest, a pleasant break in the day's routine. To most, but not all. To Edward Hall, time is an enemy, and the hour to come is a matter of life and death.\",\n",
              " \"Judgment Night\\r\\nHer name is the S.S. Queen of Glasgow. Her registry: British. Gross tonnage: five thousand. Age: indeterminate. At this moment she's one day out of Liverpool, her destination New York. Duly recorded on this ship's log is the sailing time, course to destination, weather conditions, temperature, longitude and latitude. But what is never recorded in a log is the fear that washes over a deck like fog and ocean spray. Fear like the throbbing strokes of engine pistons, each like a heartbeat, parceling out every hour into breathless minutes of watching, waiting and dreading. For the year is 1942, and this particular ship has lost its convoy. It travels alone like an aged blind thing groping through the unfriendly dark, stalked by unseen periscopes of steel killers. Yes, the Queen of Glasgow is a frightened ship, and she carries with her a premonition of death.\"]"
            ]
          },
          "metadata": {
            "tags": []
          },
          "execution_count": 4
        }
      ]
    },
    {
      "cell_type": "markdown",
      "metadata": {
        "id": "ognJuBqV5qi7"
      },
      "source": [
        "Let's add an identifier to the start and end of each narration, so the model knows where to start and end:"
      ]
    },
    {
      "cell_type": "code",
      "metadata": {
        "colab": {
          "base_uri": "https://localhost:8080/"
        },
        "id": "SRhupbvG5pxP",
        "outputId": "efce5345-375d-4d70-a589-40d3e0ec7540"
      },
      "source": [
        "start_text = '[narration_start]'\r\n",
        "end_text = '[narration_end]'\r\n",
        "\r\n",
        "tz_list = [start_text+title+end_text for title in tz_list]\r\n",
        "tz_list[:10]"
      ],
      "execution_count": 5,
      "outputs": [
        {
          "output_type": "execute_result",
          "data": {
            "text/plain": [
              "[\"[narration_start]Where is Everybody?\\r\\nThe place is here, the time is now, and the journey into the shadows that we're about to watch could be our journey.[narration_end]\",\n",
              " \"[narration_start]One for the Angels\\r\\nStreet scene: summer. The present. Man on a sidewalk named Lew Bookman, age sixtyish. Occupation: pitchman. Lew Bookman, a fixture of the summer, a rather minor component to a hot July, a nondescript, commonplace little man whose life is a treadmill built out of sidewalks. In just a moment, Lew Bookman will have to concern himself with survival, because as of three o'clock this hot July afternoon he'll be stalked by Mr. Death.[narration_end]\",\n",
              " \"[narration_start]Mr. Denton on Doomsday\\r\\nPortrait of a town drunk named Al Denton. This is a man who's begun his dying early - a long, agonizing route through a maze of bottles. Al Denton, who would probably give an arm or a leg or a part of his soul to have another chance, to be able to rise up and shake the dirt from his body and the bad dreams that infest his consciousness. In the parlance of the times, this is a peddler, a rather fanciful-looking little man in a black frock coat. And this is the third principal character of our story. Its function: perhaps to give Mr. Al Denton his second chance.[narration_end]\",\n",
              " '[narration_start]The Sixteen Millimeter Shrine\\r\\nPicture of a woman looking at a picture. Movie great of another time, once-brilliant star in a firmament no longer a part of the sky, eclipsed by the movement of earth and time. Barbara Jean Trenton, whose world is a projection room, whose dreams are made out of celluloid. Barbara Jean Trenton, struck down by hit-and-run years and lying on the unhappy pavement, trying desperately to get the license number of fleeting fame.[narration_end]',\n",
              " \"[narration_start]Walking Distance\\r\\nMartin Sloan, age thirty-six. Occupation: vice-president, ad agency, in charge of media. This is not just a Sunday drive for Martin Sloan. He perhaps doesn't know it at the time, but it's an exodus. Somewhere up the road he's looking for sanity. And somewhere up the road, he'll find something else.[narration_end]\",\n",
              " \"[narration_start]Escape Clause\\r\\nYou're about to meet a hypochondriac. Witness Mr. Walter Bedeker, age forty-four, afraid of the following: death, disease, other people, germs, draft, and everything else. He has one interest in life, and that's Walter Bedeker. One preoccupation: the life and well-being of Walter Bedeker. One abiding concern about society: that if Walter Bedeker should die, how will it survive without him?[narration_end]\",\n",
              " \"[narration_start]The Lonely\\r\\nWitness if you will a dungeon, made out of mountains, salt flats and sand that stretch to infinity. The dungeon has an inmate: James A. Corry. And this is his residence: a metal shack. An old touring car that squats in the sun and goes nowhere - for there is nowhere to go. For the record let it be known that James A. Corry is a convicted crimi nal placed in solitary confinement. Confinement in this case stretches as far as the eye can see, because this particular dungeon is on an asteroid nine million miles from the Earth. Now witness if you will a man's mind and body shrivelling in the sun, a man dying of loneliness.[narration_end]\",\n",
              " \"[narration_start]Time Enough at Last\\r\\nWitness Mr. Henry Bemis, a charter member in the fraternity of dreamers. A bookish little man whose passion is the printed page but who is conspired against by a bank president and a wife and a world full of tongue-cluckers and the unrelenting hands of a clock. But in just a moment Mr. Bemis will enter a world without bank presidents or wives or clocks or anything else. He'll have a world all to himself without anyone.[narration_end]\",\n",
              " \"[narration_start]Perchance to Dream\\r\\nTwelve o'clock noon. An ordinary scene, an ordinary city. Lunchtime for thousands of ordinary people. To most of them, this hour will be a rest, a pleasant break in the day's routine. To most, but not all. To Edward Hall, time is an enemy, and the hour to come is a matter of life and death.[narration_end]\",\n",
              " \"[narration_start]Judgment Night\\r\\nHer name is the S.S. Queen of Glasgow. Her registry: British. Gross tonnage: five thousand. Age: indeterminate. At this moment she's one day out of Liverpool, her destination New York. Duly recorded on this ship's log is the sailing time, course to destination, weather conditions, temperature, longitude and latitude. But what is never recorded in a log is the fear that washes over a deck like fog and ocean spray. Fear like the throbbing strokes of engine pistons, each like a heartbeat, parceling out every hour into breathless minutes of watching, waiting and dreading. For the year is 1942, and this particular ship has lost its convoy. It travels alone like an aged blind thing groping through the unfriendly dark, stalked by unseen periscopes of steel killers. Yes, the Queen of Glasgow is a frightened ship, and she carries with her a premonition of death.[narration_end]\"]"
            ]
          },
          "metadata": {
            "tags": []
          },
          "execution_count": 5
        }
      ]
    },
    {
      "cell_type": "markdown",
      "metadata": {
        "id": "tbdx9QZXpEO5"
      },
      "source": [
        "Finally lets write it out to the local drive to be read into GPT-2"
      ]
    },
    {
      "cell_type": "code",
      "metadata": {
        "id": "-OWdgHXMqhGA"
      },
      "source": [
        "file_name = 'tz_opening_narrations.txt'\r\n",
        "tz_out = '\\n'.join(tz_list)\r\n",
        "with open(file_name, 'w') as f:\r\n",
        "  f.write(tz_out)"
      ],
      "execution_count": 6,
      "outputs": []
    },
    {
      "cell_type": "markdown",
      "metadata": {
        "id": "X_3Fdg8PrGkB"
      },
      "source": [
        "Next lets install the GPT-2 model.\r\n",
        "\r\n",
        "I'm using a great implementation of the model called GPT-2 Simple, made by Max Woolf (aka minimaxir on Github)\r\n",
        "\r\n",
        "See details on the implementation here:\r\n",
        "https://github.com/minimaxir/gpt-2-simple"
      ]
    },
    {
      "cell_type": "code",
      "metadata": {
        "id": "KBkpRgBCBS2_",
        "colab": {
          "base_uri": "https://localhost:8080/"
        },
        "outputId": "1ed1eb7b-e84b-4494-f7f3-790fa42c1254"
      },
      "source": [
        "%tensorflow_version 1.x\n",
        "!pip install -q gpt-2-simple\n",
        "import gpt_2_simple as gpt2"
      ],
      "execution_count": 7,
      "outputs": [
        {
          "output_type": "stream",
          "text": [
            "TensorFlow 1.x selected.\n",
            "  Building wheel for gpt-2-simple (setup.py) ... \u001b[?25l\u001b[?25hdone\n",
            "WARNING:tensorflow:\n",
            "The TensorFlow contrib module will not be included in TensorFlow 2.0.\n",
            "For more information, please see:\n",
            "  * https://github.com/tensorflow/community/blob/master/rfcs/20180907-contrib-sunset.md\n",
            "  * https://github.com/tensorflow/addons\n",
            "  * https://github.com/tensorflow/io (for I/O related ops)\n",
            "If you depend on functionality not listed there, please file an issue.\n",
            "\n"
          ],
          "name": "stdout"
        }
      ]
    },
    {
      "cell_type": "markdown",
      "metadata": {
        "id": "0wXB05bPDYxS"
      },
      "source": [
        "# Downloading GPT-2\n",
        "\n",
        "Now we need to download the actual GPT-2 model.\n",
        "\n",
        "I'm using the medium version of the model (355M)"
      ]
    },
    {
      "cell_type": "code",
      "metadata": {
        "id": "CmJV96gXwdSx"
      },
      "source": [
        "model_version = '355M'"
      ],
      "execution_count": 8,
      "outputs": []
    },
    {
      "cell_type": "code",
      "metadata": {
        "id": "P8wSlgXoDPCR",
        "colab": {
          "base_uri": "https://localhost:8080/"
        },
        "outputId": "65af77ba-c9da-4d5e-c7c1-fd583b139735"
      },
      "source": [
        "gpt2.download_gpt2(model_name=model_version)"
      ],
      "execution_count": 9,
      "outputs": [
        {
          "output_type": "stream",
          "text": [
            "Fetching checkpoint: 1.05Mit [00:00, 310Mit/s]                                                      \n",
            "Fetching encoder.json: 1.05Mit [00:00, 84.4Mit/s]                                                   \n",
            "Fetching hparams.json: 1.05Mit [00:00, 389Mit/s]                                                    \n",
            "Fetching model.ckpt.data-00000-of-00001: 1.42Git [00:05, 250Mit/s]                                  \n",
            "Fetching model.ckpt.index: 1.05Mit [00:00, 334Mit/s]                                                \n",
            "Fetching model.ckpt.meta: 1.05Mit [00:00, 136Mit/s]                                                 \n",
            "Fetching vocab.bpe: 1.05Mit [00:00, 140Mit/s]                                                       \n"
          ],
          "name": "stderr"
        }
      ]
    },
    {
      "cell_type": "markdown",
      "metadata": {
        "id": "LdpZQXknFNY3"
      },
      "source": [
        "## Finetuning the GPT-2 model\n",
        "\n",
        "Here we take the pre-trained GPT-2 model and refine it with our Twilight Zone narrations!\n",
        "\n",
        "The model checkpoints will be saved in `/checkpoint/run1` by default. The checkpoints are saved every 500 steps (can be changed) and when the cell is stopped."
      ]
    },
    {
      "cell_type": "code",
      "metadata": {
        "id": "aeXshJM-Cuaf",
        "colab": {
          "base_uri": "https://localhost:8080/"
        },
        "outputId": "174c7a55-bd8e-4cd8-ec7b-5917a0a8d8e6"
      },
      "source": [
        "sess = gpt2.start_tf_sess()\n",
        "\n",
        "gpt2.finetune(sess,\n",
        "              dataset=file_name,\n",
        "              model_name=model_version,\n",
        "              steps=100,\n",
        "              restore_from='fresh',\n",
        "              run_name='run1',\n",
        "              print_every=10,\n",
        "              sample_every=200,\n",
        "              save_every=500\n",
        "              )"
      ],
      "execution_count": 10,
      "outputs": [
        {
          "output_type": "stream",
          "text": [
            "WARNING:tensorflow:From /usr/local/lib/python3.6/dist-packages/gpt_2_simple/src/sample.py:17: where (from tensorflow.python.ops.array_ops) is deprecated and will be removed in a future version.\n",
            "Instructions for updating:\n",
            "Use tf.where in 2.0, which has the same broadcast rule as np.where\n",
            "WARNING:tensorflow:From /usr/local/lib/python3.6/dist-packages/gpt_2_simple/src/memory_saving_gradients.py:62: get_backward_walk_ops (from tensorflow.contrib.graph_editor.select) is deprecated and will be removed after 2019-06-06.\n",
            "Instructions for updating:\n",
            "Please use tensorflow.python.ops.op_selector.get_backward_walk_ops.\n",
            "Loading checkpoint models/355M/model.ckpt\n",
            "INFO:tensorflow:Restoring parameters from models/355M/model.ckpt\n"
          ],
          "name": "stdout"
        },
        {
          "output_type": "stream",
          "text": [
            "100%|██████████| 1/1 [00:00<00:00,  5.17it/s]"
          ],
          "name": "stderr"
        },
        {
          "output_type": "stream",
          "text": [
            "Loading dataset...\n",
            "dataset has 20581 tokens\n",
            "Training...\n"
          ],
          "name": "stdout"
        },
        {
          "output_type": "stream",
          "text": [
            "\n"
          ],
          "name": "stderr"
        },
        {
          "output_type": "stream",
          "text": [
            "[10 | 23.75] loss=3.20 avg=3.20\n",
            "[20 | 38.63] loss=2.99 avg=3.10\n",
            "[30 | 53.62] loss=2.02 avg=2.74\n",
            "[40 | 68.74] loss=1.53 avg=2.43\n",
            "[50 | 83.98] loss=0.93 avg=2.12\n",
            "[60 | 99.34] loss=0.67 avg=1.88\n",
            "[70 | 114.82] loss=2.22 avg=1.93\n",
            "[80 | 130.39] loss=0.34 avg=1.72\n",
            "[90 | 146.09] loss=0.31 avg=1.56\n",
            "[100 | 161.83] loss=0.21 avg=1.42\n",
            "Saving checkpoint/run1/model-100\n"
          ],
          "name": "stdout"
        }
      ]
    },
    {
      "cell_type": "markdown",
      "metadata": {
        "id": "IXSuTNERaw6K"
      },
      "source": [
        "Now our model is re-trained, let's save it into my Drive"
      ]
    },
    {
      "cell_type": "code",
      "metadata": {
        "id": "VHdTL8NDbAh3",
        "outputId": "d46a7996-b166-4aac-ef00-efe3d07de9cd",
        "colab": {
          "base_uri": "https://localhost:8080/"
        }
      },
      "source": [
        "gpt2.mount_gdrive()\r\n",
        "\r\n",
        "gpt2.copy_checkpoint_to_gdrive(run_name='run1')"
      ],
      "execution_count": 11,
      "outputs": [
        {
          "output_type": "stream",
          "text": [
            "Mounted at /content/drive\n"
          ],
          "name": "stdout"
        }
      ]
    },
    {
      "cell_type": "markdown",
      "metadata": {
        "id": "pel-uBULXO2L"
      },
      "source": [
        "## Loading our Model\n",
        "\n",
        "This is the opposite of the last step - we can start from here now we've trained our model!"
      ]
    },
    {
      "cell_type": "code",
      "metadata": {
        "id": "DCcx5u7sbPTD",
        "outputId": "d6f4f3d7-b08b-47fc-94ca-7094c5283bb1",
        "colab": {
          "base_uri": "https://localhost:8080/"
        }
      },
      "source": [
        "gpt2.mount_gdrive()\r\n",
        "gpt2.copy_checkpoint_from_gdrive(run_name='run1')"
      ],
      "execution_count": 4,
      "outputs": [
        {
          "output_type": "stream",
          "text": [
            "Drive already mounted at /content/drive; to attempt to forcibly remount, call drive.mount(\"/content/drive\", force_remount=True).\n"
          ],
          "name": "stdout"
        }
      ]
    },
    {
      "cell_type": "markdown",
      "metadata": {
        "id": "RTa6zf3e_9gV"
      },
      "source": [
        "Let's start up the tensorflow session and load our retrained GPT-2 model:"
      ]
    },
    {
      "cell_type": "code",
      "metadata": {
        "id": "-fxL77nvAMAX",
        "outputId": "f857888b-51ff-4d3b-e38a-120eb1c18caa",
        "colab": {
          "base_uri": "https://localhost:8080/"
        }
      },
      "source": [
        "sess = gpt2.start_tf_sess()\n",
        "gpt2.load_gpt2(sess, run_name='run1')"
      ],
      "execution_count": 5,
      "outputs": [
        {
          "output_type": "stream",
          "text": [
            "Loading checkpoint checkpoint/run1/model-1000\n",
            "INFO:tensorflow:Restoring parameters from checkpoint/run1/model-1000\n"
          ],
          "name": "stdout"
        }
      ]
    },
    {
      "cell_type": "markdown",
      "metadata": {
        "id": "ClJwpF_ACONp"
      },
      "source": [
        "## Narration Generation!\n",
        "\n",
        "Let's generate some Twilight Zone narrations!"
      ]
    },
    {
      "cell_type": "markdown",
      "metadata": {
        "id": "oF4-PqF0Fl7R"
      },
      "source": [
        "If you're creating an API based on your model and need to pass the generated text elsewhere, you can do `text = gpt2.generate(sess, return_as_list=True)[0]`\n",
        "\n",
        "You can also pass in a `prefix` to the generate function to force the text to start with a given character sequence and generate text from there (good if you add an indicator when the text starts).\n",
        "\n",
        "You can also generate multiple texts at a time by specifing `nsamples`. Unique to GPT-2, you can pass a `batch_size` to generate multiple samples in parallel, giving a massive speedup (in Colaboratory, set a maximum of 20 for `batch_size`).\n",
        "\n",
        "Other optional-but-helpful parameters for `gpt2.generate` and friends:\n",
        "\n",
        "*  **`length`**: Number of tokens to generate (default 1023, the maximum)\n",
        "* **`temperature`**: The higher the temperature, the crazier the text (default 0.7, recommended to keep between 0.7 and 1.0)\n",
        "* **`top_k`**: Limits the generated guesses to the top *k* guesses (default 0 which disables the behavior; if the generated output is super crazy, you may want to set `top_k=40`)\n",
        "* **`top_p`**: Nucleus sampling: limits the generated guesses to a cumulative probability. (gets good results on a dataset with `top_p=0.9`)\n",
        "* **`truncate`**: Truncates the input text until a given sequence, excluding that sequence (e.g. if `truncate='<|endoftext|>'`, the returned text will include everything before the first `<|endoftext|>`). It may be useful to combine this with a smaller `length` if the input texts are short.\n",
        "*  **`include_prefix`**: If using `truncate` and `include_prefix=False`, the specified `prefix` will not be included in the returned text."
      ]
    },
    {
      "cell_type": "code",
      "metadata": {
        "id": "8DKMc0fiej4N",
        "colab": {
          "base_uri": "https://localhost:8080/"
        },
        "outputId": "beae3b60-388c-476f-aba4-2e5db78cec8f"
      },
      "source": [
        "gpt2.generate(sess,\n",
        "              length=500,\n",
        "              temperature=0.7,\n",
        "              prefix='[narration_start]',\n",
        "              truncate='[narration_end]',\n",
        "              include_prefix=False,\n",
        "              nsamples=5,\n",
        "              batch_size=5\n",
        "              )"
      ],
      "execution_count": 16,
      "outputs": [
        {
          "output_type": "stream",
          "text": [
            "It's You, Johnny\n",
            "You're sitting at a bar in the dark, a lonely, wind-whipped watering hole in the country of Twilight. And this is Mr. Johnny Valianto, a man of few words and few places to be found. But you've found him. In just a moment, he'll show you what he's really made of. Johnny Valianto, the outlaw, trapped in the Twilight Zone.\n",
            "====================\n",
            "Narration No. 5: The Last Flight\n",
            "Submitted for your approval or at least your analysis: the disappearance of forty-five minutes on a desert planet, vast and unknown to man. Forty-five minutes on which the odds are against man, probably against himself. In just a moment we'll begin to read the books, because these two men are Neil Armstrong and Buzz Aldrin. They're on their way home from the Moon. And they're about to discover that not everything that is seen is as it appears. Not everything that is meant to be is as it appears. Not everything that comes to mind is as it appears. As you've perceived, this is the Twilight Zone.\n",
            "====================\n",
            "The Mighty Casey\n",
            "You're watching a roller-coaster, dour-faced tourist whose sole interest in the place he's about to explore is the personal bankruptcy of Casey Anthony. His name is James A. Corry, and his business card reads: 'Mr. Corry with an X.' He's just one of the many characters in a fairly sophisticated fantasy world we're about to enter, and he has all the makings of a very special kind of rich guy. James A. Corry, in his twilight years, is about to discover that there are still plenty of people in his fantasy world, and that there are still things that can be done with both feet and a brain. James A. Corry, in his twilight years, is to discover that there are still plenty of things that can be done with both feet and a brain. This is the Twilight Zone.\n",
            "====================\n",
            "The Pirates!\n",
            "The Pirates!\n",
            "The time is 1474 B.C.\n",
            "The place: the frigid wastes of space.\n",
            "The cast of characters: one man, one woman, one small child, and one man, one woman.\n",
            "The story: the story of one Christopher Columbus.\n",
            "The archetypal pirate: a fat, snarling, red-faced griffin with a long, black-shinned grille.\n",
            "His name is Christopher Columbus.\n",
            "His business card reads OHIO.\n",
            "His peregrinations include the taking of ships, the purchase of goods, the making of contracts, the payment of taxes, the provision of services, the keeping of records, and the redemption of prizes.\n",
            "His specialty: kidnapping, torturing, and murdering.\n",
            "His initiation: by stealth.\n",
            "His initiation again: by stealth.\n",
            "His course of action upon landing: take your pick: freedom, vengeance, or perhaps more aptly, the waiting room of the Twilight Zone.\n",
            "====================\n",
            "The Hitch-Hiker\n",
            "You arrive in a small town, home of the Gullah people. This is Mr. Duncan, a typical day at the office begins with chores, such as dish-washing, vacuuming, mowing, sweeping, dusting, and so forth. Then Mr. Norris, the town's lone inhabitant, arrives bearing news: his donkey has gone missing. The clues that he provides are as numerous as are the miles between Heaven and Earth. In just a moment, we'll hear from Mr. Norris again, this time in the form of a radio broadcast in which he promises to give Mr. Duncan Hill exactly what he is looking for.\n",
            "====================\n"
          ],
          "name": "stdout"
        }
      ]
    }
  ]
}